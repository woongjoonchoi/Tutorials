{
  "nbformat": 4,
  "nbformat_minor": 0,
  "metadata": {
    "colab": {
      "name": "Numpytutorial.ipynb",
      "provenance": [],
      "collapsed_sections": [],
      "authorship_tag": "ABX9TyOZcKFwQJegbGnUJy8Mt8gY",
      "include_colab_link": true
    },
    "kernelspec": {
      "name": "python3",
      "display_name": "Python 3"
    },
    "language_info": {
      "name": "python"
    }
  },
  "cells": [
    {
      "cell_type": "markdown",
      "metadata": {
        "id": "view-in-github",
        "colab_type": "text"
      },
      "source": [
        "<a href=\"https://colab.research.google.com/github/woongjoonchoi/Tutorials/blob/main/Numpy/Numpytutorial.ipynb\" target=\"_parent\"><img src=\"https://colab.research.google.com/assets/colab-badge.svg\" alt=\"Open In Colab\"/></a>"
      ]
    },
    {
      "cell_type": "code",
      "execution_count": null,
      "metadata": {
        "id": "v4YI8rNv-6ZY"
      },
      "outputs": [],
      "source": [
        "import numpy as np"
      ]
    },
    {
      "cell_type": "markdown",
      "source": [
        "array의 생성"
      ],
      "metadata": {
        "id": "4RF7v5gc_RCx"
      }
    },
    {
      "cell_type": "code",
      "source": [
        "a=[1,2,3,4,5]\n",
        "b=[5,4,3,2,1]"
      ],
      "metadata": {
        "id": "et6yS96J_QZ3"
      },
      "execution_count": null,
      "outputs": []
    },
    {
      "cell_type": "code",
      "source": [
        "a = np.array(a , int)"
      ],
      "metadata": {
        "id": "6khD_mQa_YN5"
      },
      "execution_count": null,
      "outputs": []
    },
    {
      "cell_type": "code",
      "source": [
        "a\n"
      ],
      "metadata": {
        "colab": {
          "base_uri": "https://localhost:8080/"
        },
        "id": "FtgxEU1O_bdx",
        "outputId": "7ff28979-4189-4534-aa6a-d389b27d3746"
      },
      "execution_count": null,
      "outputs": [
        {
          "output_type": "execute_result",
          "data": {
            "text/plain": [
              "array([1, 2, 3, 4, 5])"
            ]
          },
          "metadata": {},
          "execution_count": 8
        }
      ]
    },
    {
      "cell_type": "code",
      "source": [
        "test_array= np.array([\" 1\" , \"4\" , 5.0 ,8] , float) \n",
        "test_array\n"
      ],
      "metadata": {
        "colab": {
          "base_uri": "https://localhost:8080/"
        },
        "id": "GtC5CowD_fXG",
        "outputId": "4812f024-88cc-411f-91e3-24dd2ec2c5c3"
      },
      "execution_count": null,
      "outputs": [
        {
          "output_type": "execute_result",
          "data": {
            "text/plain": [
              "array([1., 4., 5., 8.])"
            ]
          },
          "metadata": {},
          "execution_count": 6
        }
      ]
    },
    {
      "cell_type": "code",
      "source": [
        "type((test_array))"
      ],
      "metadata": {
        "colab": {
          "base_uri": "https://localhost:8080/"
        },
        "id": "6g9KHAXVA7Lf",
        "outputId": "d686d9fa-6ebb-4364-cbd9-66e03e3569f0"
      },
      "execution_count": null,
      "outputs": [
        {
          "output_type": "execute_result",
          "data": {
            "text/plain": [
              "numpy.ndarray"
            ]
          },
          "metadata": {},
          "execution_count": 9
        }
      ]
    },
    {
      "cell_type": "code",
      "source": [
        "type(test_array[3])"
      ],
      "metadata": {
        "colab": {
          "base_uri": "https://localhost:8080/"
        },
        "id": "3FZtruIiA89j",
        "outputId": "4ce970a6-ab83-4ec0-a812-69986d184fd4"
      },
      "execution_count": null,
      "outputs": [
        {
          "output_type": "execute_result",
          "data": {
            "text/plain": [
              "numpy.float64"
            ]
          },
          "metadata": {},
          "execution_count": 10
        }
      ]
    },
    {
      "cell_type": "markdown",
      "source": [
        "numpy array vs python arary"
      ],
      "metadata": {
        "id": "8W7h48LRBKa5"
      }
    },
    {
      "cell_type": "markdown",
      "source": [
        "boostcamp pdf 참조"
      ],
      "metadata": {
        "id": "orz2x7vtBgT1"
      }
    },
    {
      "cell_type": "markdown",
      "source": [
        "a = [1,2,3,4,5]\n",
        "b= [ 5,4,3,2,1]  \n",
        "\n",
        "a,b에 들어있는 1들을 비교"
      ],
      "metadata": {
        "id": "lRE6iFS8BtG2"
      }
    },
    {
      "cell_type": "code",
      "source": [
        "a = [1,2,3,4,5]\n",
        "b= [ 5,4,3,2,1]\n",
        "\n",
        "a[0] is b[-1]"
      ],
      "metadata": {
        "colab": {
          "base_uri": "https://localhost:8080/"
        },
        "id": "uy_89MTsA_DY",
        "outputId": "e9903ea7-f798-4dbe-e38d-7d5722e7ca2b"
      },
      "execution_count": null,
      "outputs": [
        {
          "output_type": "execute_result",
          "data": {
            "text/plain": [
              "True"
            ]
          },
          "metadata": {},
          "execution_count": 11
        },
        {
          "output_type": "execute_result",
          "data": {
            "text/plain": [
              "True"
            ]
          },
          "metadata": {},
          "execution_count": 12
        }
      ]
    },
    {
      "cell_type": "markdown",
      "source": [
        "numpy array의 1을 비교"
      ],
      "metadata": {
        "id": "qkR3TPQ9BqrP"
      }
    },
    {
      "cell_type": "code",
      "source": [
        "a = np.array(a)\n",
        "b= np.array(b)\n",
        "\n",
        "a[0] is b[-1]"
      ],
      "metadata": {
        "colab": {
          "base_uri": "https://localhost:8080/"
        },
        "id": "Nxn7MQH_BlR2",
        "outputId": "cba44032-335e-4b99-aa7b-f2d40c43e536"
      },
      "execution_count": null,
      "outputs": [
        {
          "output_type": "execute_result",
          "data": {
            "text/plain": [
              "False"
            ]
          },
          "metadata": {},
          "execution_count": 13
        }
      ]
    },
    {
      "cell_type": "markdown",
      "source": [
        "test_array 의 dtype , shape , 을 반환"
      ],
      "metadata": {
        "id": "AhdcnJVmCF6W"
      }
    },
    {
      "cell_type": "code",
      "source": [
        "test_array.dtype"
      ],
      "metadata": {
        "colab": {
          "base_uri": "https://localhost:8080/"
        },
        "id": "LxzACqreB970",
        "outputId": "cc74d388-f8aa-4be3-9d1a-bf63d1c796fc"
      },
      "execution_count": null,
      "outputs": [
        {
          "output_type": "execute_result",
          "data": {
            "text/plain": [
              "dtype('float64')"
            ]
          },
          "metadata": {},
          "execution_count": 14
        }
      ]
    },
    {
      "cell_type": "code",
      "source": [
        "test_array.shape"
      ],
      "metadata": {
        "colab": {
          "base_uri": "https://localhost:8080/"
        },
        "id": "Nh2q3hcCCKsN",
        "outputId": "7fac5a52-534f-4a48-b08b-61b773de3161"
      },
      "execution_count": null,
      "outputs": [
        {
          "output_type": "execute_result",
          "data": {
            "text/plain": [
              "(4,)"
            ]
          },
          "metadata": {},
          "execution_count": 15
        }
      ]
    },
    {
      "cell_type": "code",
      "source": [
        "np.array(a).shape"
      ],
      "metadata": {
        "colab": {
          "base_uri": "https://localhost:8080/"
        },
        "id": "oztOtHGfCNn-",
        "outputId": "65489ab0-4535-4f90-b017-87ca59bee15b"
      },
      "execution_count": null,
      "outputs": [
        {
          "output_type": "execute_result",
          "data": {
            "text/plain": [
              "(5,)"
            ]
          },
          "metadata": {},
          "execution_count": 16
        }
      ]
    },
    {
      "cell_type": "markdown",
      "source": [
        "1차원 ,2차원 3차원 텐서 표현"
      ],
      "metadata": {
        "id": "YIArCVl1C72L"
      }
    },
    {
      "cell_type": "markdown",
      "source": [
        "차원이 늘어나면 랭크가 오른쪽으로 한칸 밀림"
      ],
      "metadata": {
        "id": "RZft0UHiD-vn"
      }
    },
    {
      "cell_type": "code",
      "source": [
        "tensor = [1,2 ,5,8]\n",
        "tensor = np.array(tensor , dtype = int)\n",
        "tensor.shape"
      ],
      "metadata": {
        "colab": {
          "base_uri": "https://localhost:8080/"
        },
        "id": "cxyIcd6BC_UB",
        "outputId": "e214ff90-ad1f-4bd4-bc6b-498fe9009c86"
      },
      "execution_count": null,
      "outputs": [
        {
          "output_type": "execute_result",
          "data": {
            "text/plain": [
              "(4,)"
            ]
          },
          "metadata": {},
          "execution_count": 18
        }
      ]
    },
    {
      "cell_type": "code",
      "source": [
        "tensor.dtype"
      ],
      "metadata": {
        "colab": {
          "base_uri": "https://localhost:8080/"
        },
        "id": "nKKg_G9CDSyN",
        "outputId": "08a76daf-a432-4655-c8c0-23991b006875"
      },
      "execution_count": null,
      "outputs": [
        {
          "output_type": "execute_result",
          "data": {
            "text/plain": [
              "dtype('int64')"
            ]
          },
          "metadata": {},
          "execution_count": 19
        }
      ]
    },
    {
      "cell_type": "code",
      "source": [
        "tensor = [[1,2 ,5,8] , [1,2 ,5,8] ,[1,2 ,5,8]]\n",
        "tensor = np.array(tensor,dtype=int)"
      ],
      "metadata": {
        "id": "N7MQ5rKpDF0V"
      },
      "execution_count": null,
      "outputs": []
    },
    {
      "cell_type": "code",
      "source": [
        "tensor.dtype"
      ],
      "metadata": {
        "colab": {
          "base_uri": "https://localhost:8080/"
        },
        "id": "JmTgSbZ0DaP1",
        "outputId": "007f5b63-1a7c-42fd-b408-fdaab8a338d4"
      },
      "execution_count": null,
      "outputs": [
        {
          "output_type": "execute_result",
          "data": {
            "text/plain": [
              "dtype('int64')"
            ]
          },
          "metadata": {},
          "execution_count": 22
        }
      ]
    },
    {
      "cell_type": "code",
      "source": [
        "tensor.shape"
      ],
      "metadata": {
        "colab": {
          "base_uri": "https://localhost:8080/"
        },
        "id": "mpSZGZKnDeOE",
        "outputId": "5085eb6c-3f80-4d0e-900b-1fd751f5377c"
      },
      "execution_count": null,
      "outputs": [
        {
          "output_type": "execute_result",
          "data": {
            "text/plain": [
              "(3, 4)"
            ]
          },
          "metadata": {},
          "execution_count": 23
        }
      ]
    },
    {
      "cell_type": "code",
      "source": [
        "tensor = [[[1,2 ,5,8] , [1,2 ,5,8] ,[1,2 ,5,8]] ,\n",
        "          [[1,2 ,5,8] , [1,2 ,5,8] ,[1,2 ,5,8]] ,\n",
        "          [[1,2 ,5,8] , [1,2 ,5,8] ,[1,2 ,5,8]] ]\n",
        "tensor = np.array(tensor, dtype = int)"
      ],
      "metadata": {
        "id": "vKhrlH2iDf_U"
      },
      "execution_count": null,
      "outputs": []
    },
    {
      "cell_type": "code",
      "source": [
        "tensor.dtype"
      ],
      "metadata": {
        "colab": {
          "base_uri": "https://localhost:8080/"
        },
        "id": "15aetIe4Dpwl",
        "outputId": "e085f269-81d5-4997-aed7-c80911e691ff"
      },
      "execution_count": null,
      "outputs": [
        {
          "output_type": "execute_result",
          "data": {
            "text/plain": [
              "dtype('int64')"
            ]
          },
          "metadata": {},
          "execution_count": 26
        }
      ]
    },
    {
      "cell_type": "code",
      "source": [
        "tensor.shape"
      ],
      "metadata": {
        "colab": {
          "base_uri": "https://localhost:8080/"
        },
        "id": "H9hGSSmJDxV9",
        "outputId": "f1218824-c6c1-4037-f8c8-633eba838cdb"
      },
      "execution_count": null,
      "outputs": [
        {
          "output_type": "execute_result",
          "data": {
            "text/plain": [
              "(3, 3, 4)"
            ]
          },
          "metadata": {},
          "execution_count": 27
        }
      ]
    },
    {
      "cell_type": "markdown",
      "source": [
        "nbytes- ndarray object의 메모리 크기를 반환"
      ],
      "metadata": {
        "id": "zEi3QA-mD1QV"
      }
    },
    {
      "cell_type": "code",
      "source": [
        "a = np.array([[1,2,3] , [4.5,5,6]] ,  dtype = np.int8)"
      ],
      "metadata": {
        "id": "VzCvlpNAD5ym"
      },
      "execution_count": null,
      "outputs": []
    },
    {
      "cell_type": "code",
      "source": [
        "a"
      ],
      "metadata": {
        "colab": {
          "base_uri": "https://localhost:8080/"
        },
        "id": "hkEZBC9KETzK",
        "outputId": "432dd81a-3b0a-4891-844c-7d3d3ba7d42c"
      },
      "execution_count": null,
      "outputs": [
        {
          "output_type": "execute_result",
          "data": {
            "text/plain": [
              "array([[1, 2, 3],\n",
              "       [4, 5, 6]], dtype=int8)"
            ]
          },
          "metadata": {},
          "execution_count": 31
        }
      ]
    },
    {
      "cell_type": "code",
      "source": [
        "a.dtype"
      ],
      "metadata": {
        "colab": {
          "base_uri": "https://localhost:8080/"
        },
        "id": "eerLl_TnEMpM",
        "outputId": "43b772d9-965b-43bb-897d-84962df23de6"
      },
      "execution_count": null,
      "outputs": [
        {
          "output_type": "execute_result",
          "data": {
            "text/plain": [
              "dtype('int8')"
            ]
          },
          "metadata": {},
          "execution_count": 29
        }
      ]
    },
    {
      "cell_type": "code",
      "source": [
        "a.nbytes"
      ],
      "metadata": {
        "colab": {
          "base_uri": "https://localhost:8080/"
        },
        "id": "uXznDVNwENmB",
        "outputId": "a16ccdae-77d2-4a95-b4c4-40c9bdc8a902"
      },
      "execution_count": null,
      "outputs": [
        {
          "output_type": "execute_result",
          "data": {
            "text/plain": [
              "6"
            ]
          },
          "metadata": {},
          "execution_count": 30
        }
      ]
    },
    {
      "cell_type": "code",
      "source": [
        "np.array([[1,2,3] , [4.5 , \"5\" , \"6\"] ] ,dtype = np.float32).nbytes"
      ],
      "metadata": {
        "colab": {
          "base_uri": "https://localhost:8080/"
        },
        "id": "CkmAoo02EP7u",
        "outputId": "49785cc6-831f-4010-a5d4-69bc4405fbaa"
      },
      "execution_count": null,
      "outputs": [
        {
          "output_type": "execute_result",
          "data": {
            "text/plain": [
              "24"
            ]
          },
          "metadata": {},
          "execution_count": 32
        }
      ]
    },
    {
      "cell_type": "code",
      "source": [
        "np.array([[1,2,3] ,[4.5 , \"5\" , \"6\"]] ,dtype = np.int32  ).nbytes"
      ],
      "metadata": {
        "colab": {
          "base_uri": "https://localhost:8080/"
        },
        "id": "7pyG7zUnEbLr",
        "outputId": "97e5b1ef-643b-423c-f3c7-dabf688e72c7"
      },
      "execution_count": null,
      "outputs": [
        {
          "output_type": "execute_result",
          "data": {
            "text/plain": [
              "24"
            ]
          },
          "metadata": {},
          "execution_count": 33
        }
      ]
    },
    {
      "cell_type": "code",
      "source": [
        "np.array([[1,2,3] ,[4.5 , \"5\" , \"6\"]] ,dtype = np.float64).nbytes"
      ],
      "metadata": {
        "colab": {
          "base_uri": "https://localhost:8080/"
        },
        "id": "yBrDv137Emcr",
        "outputId": "14a48386-7015-4806-854b-02eb5e44af09"
      },
      "execution_count": null,
      "outputs": [
        {
          "output_type": "execute_result",
          "data": {
            "text/plain": [
              "48"
            ]
          },
          "metadata": {},
          "execution_count": 34
        }
      ]
    }
  ]
}
{
  "nbformat": 4,
  "nbformat_minor": 0,
  "metadata": {
    "colab": {
      "name": "Numpytutorial.ipynb",
      "provenance": [],
      "collapsed_sections": [],
      "authorship_tag": "ABX9TyNQu5lUtBAufv0Nl62y+gTv",
      "include_colab_link": true
    },
    "kernelspec": {
      "name": "python3",
      "display_name": "Python 3"
    },
    "language_info": {
      "name": "python"
    }
  },
  "cells": [
    {
      "cell_type": "markdown",
      "metadata": {
        "id": "view-in-github",
        "colab_type": "text"
      },
      "source": [
        "<a href=\"https://colab.research.google.com/github/woongjoonchoi/Tutorials/blob/main/Numpy/Numpytutorial.ipynb\" target=\"_parent\"><img src=\"https://colab.research.google.com/assets/colab-badge.svg\" alt=\"Open In Colab\"/></a>"
      ]
    },
    {
      "cell_type": "code",
      "execution_count": null,
      "metadata": {
        "id": "v4YI8rNv-6ZY"
      },
      "outputs": [],
      "source": [
        "import numpy as np"
      ]
    },
    {
      "cell_type": "markdown",
      "source": [
        "array의 생성"
      ],
      "metadata": {
        "id": "4RF7v5gc_RCx"
      }
    },
    {
      "cell_type": "markdown",
      "source": [
        "Q  . [1,2,3,4,5] 라는 array로 부터 ndarray를 생성하시오"
      ],
      "metadata": {
        "id": "ZRLYPJtob-Cs"
      }
    },
    {
      "cell_type": "code",
      "source": [
        "a=[1,2,3,4,5]\n",
        "b=[5,4,3,2,1]"
      ],
      "metadata": {
        "id": "et6yS96J_QZ3"
      },
      "execution_count": null,
      "outputs": []
    },
    {
      "cell_type": "code",
      "source": [
        "a = np.array(a , int)"
      ],
      "metadata": {
        "id": "6khD_mQa_YN5"
      },
      "execution_count": null,
      "outputs": []
    },
    {
      "cell_type": "code",
      "source": [
        "a\n"
      ],
      "metadata": {
        "colab": {
          "base_uri": "https://localhost:8080/"
        },
        "id": "FtgxEU1O_bdx",
        "outputId": "7ff28979-4189-4534-aa6a-d389b27d3746"
      },
      "execution_count": null,
      "outputs": [
        {
          "output_type": "execute_result",
          "data": {
            "text/plain": [
              "array([1, 2, 3, 4, 5])"
            ]
          },
          "metadata": {},
          "execution_count": 8
        }
      ]
    },
    {
      "cell_type": "code",
      "source": [
        "test_array= np.array([\" 1\" , \"4\" , 5.0 ,8] , float) \n",
        "test_array\n"
      ],
      "metadata": {
        "colab": {
          "base_uri": "https://localhost:8080/",
          "height": 208
        },
        "id": "GtC5CowD_fXG",
        "outputId": "4cba7be2-0db7-4538-e303-1099680b633d"
      },
      "execution_count": null,
      "outputs": [
        {
          "output_type": "error",
          "ename": "NameError",
          "evalue": "ignored",
          "traceback": [
            "\u001b[0;31m---------------------------------------------------------------------------\u001b[0m",
            "\u001b[0;31mNameError\u001b[0m                                 Traceback (most recent call last)",
            "\u001b[0;32m<ipython-input-2-11b6541666c7>\u001b[0m in \u001b[0;36m<module>\u001b[0;34m()\u001b[0m\n\u001b[1;32m      1\u001b[0m \u001b[0mtest_array\u001b[0m \u001b[0;34m=\u001b[0m \u001b[0;34m[\u001b[0m\u001b[0;34m\"1\"\u001b[0m \u001b[0;34m,\u001b[0m \u001b[0;34m\"4\"\u001b[0m  \u001b[0;34m,\u001b[0m \u001b[0;36m5.0\u001b[0m \u001b[0;34m,\u001b[0m \u001b[0;36m8\u001b[0m\u001b[0;34m]\u001b[0m\u001b[0;34m\u001b[0m\u001b[0;34m\u001b[0m\u001b[0m\n\u001b[0;32m----> 2\u001b[0;31m \u001b[0mtest_array\u001b[0m\u001b[0;34m=\u001b[0m \u001b[0mnp\u001b[0m\u001b[0;34m.\u001b[0m\u001b[0marray\u001b[0m\u001b[0;34m(\u001b[0m\u001b[0mtest_array\u001b[0m \u001b[0;34m,\u001b[0m \u001b[0mfloat\u001b[0m\u001b[0;34m)\u001b[0m\u001b[0;34m\u001b[0m\u001b[0;34m\u001b[0m\u001b[0m\n\u001b[0m\u001b[1;32m      3\u001b[0m \u001b[0mtest_array\u001b[0m\u001b[0;34m\u001b[0m\u001b[0;34m\u001b[0m\u001b[0m\n",
            "\u001b[0;31mNameError\u001b[0m: name 'np' is not defined"
          ]
        }
      ]
    },
    {
      "cell_type": "markdown",
      "source": [
        "[\" 1\" , \"4\" , 5.0 ,8]\n",
        "\n",
        "array([1., 4., 5., 8.])"
      ],
      "metadata": {
        "id": "rUYIBXAfAqPw"
      }
    },
    {
      "cell_type": "code",
      "source": [
        "type((test_array))"
      ],
      "metadata": {
        "colab": {
          "base_uri": "https://localhost:8080/"
        },
        "id": "6g9KHAXVA7Lf",
        "outputId": "d686d9fa-6ebb-4364-cbd9-66e03e3569f0"
      },
      "execution_count": null,
      "outputs": [
        {
          "output_type": "execute_result",
          "data": {
            "text/plain": [
              "numpy.ndarray"
            ]
          },
          "metadata": {},
          "execution_count": 9
        }
      ]
    },
    {
      "cell_type": "code",
      "source": [
        "type(test_array[3])"
      ],
      "metadata": {
        "colab": {
          "base_uri": "https://localhost:8080/"
        },
        "id": "3FZtruIiA89j",
        "outputId": "4ce970a6-ab83-4ec0-a812-69986d184fd4"
      },
      "execution_count": null,
      "outputs": [
        {
          "output_type": "execute_result",
          "data": {
            "text/plain": [
              "numpy.float64"
            ]
          },
          "metadata": {},
          "execution_count": 10
        }
      ]
    },
    {
      "cell_type": "markdown",
      "source": [
        "numpy array vs python arary"
      ],
      "metadata": {
        "id": "8W7h48LRBKa5"
      }
    },
    {
      "cell_type": "markdown",
      "source": [
        "boostcamp pdf 참조"
      ],
      "metadata": {
        "id": "orz2x7vtBgT1"
      }
    },
    {
      "cell_type": "markdown",
      "source": [
        "a = [1,2,3,4,5]\n",
        "b= [ 5,4,3,2,1]  \n",
        "\n",
        "a,b에 들어있는 1들을 비교"
      ],
      "metadata": {
        "id": "lRE6iFS8BtG2"
      }
    },
    {
      "cell_type": "code",
      "source": [
        "a = [1,2,3,4,5]\n",
        "b= [ 5,4,3,2,1]\n",
        "\n",
        "a[0] is b[-1]"
      ],
      "metadata": {
        "colab": {
          "base_uri": "https://localhost:8080/"
        },
        "id": "uy_89MTsA_DY",
        "outputId": "e9903ea7-f798-4dbe-e38d-7d5722e7ca2b"
      },
      "execution_count": null,
      "outputs": [
        {
          "output_type": "execute_result",
          "data": {
            "text/plain": [
              "True"
            ]
          },
          "metadata": {},
          "execution_count": 11
        },
        {
          "output_type": "execute_result",
          "data": {
            "text/plain": [
              "True"
            ]
          },
          "metadata": {},
          "execution_count": 12
        }
      ]
    },
    {
      "cell_type": "markdown",
      "source": [
        "numpy array의 1을 비교"
      ],
      "metadata": {
        "id": "qkR3TPQ9BqrP"
      }
    },
    {
      "cell_type": "code",
      "source": [
        "a = np.array(a)\n",
        "b= np.array(b)\n",
        "\n",
        "a[0] is b[-1]"
      ],
      "metadata": {
        "colab": {
          "base_uri": "https://localhost:8080/"
        },
        "id": "Nxn7MQH_BlR2",
        "outputId": "cba44032-335e-4b99-aa7b-f2d40c43e536"
      },
      "execution_count": null,
      "outputs": [
        {
          "output_type": "execute_result",
          "data": {
            "text/plain": [
              "False"
            ]
          },
          "metadata": {},
          "execution_count": 13
        }
      ]
    },
    {
      "cell_type": "markdown",
      "source": [
        "test_array 의 dtype , shape , 을 반환"
      ],
      "metadata": {
        "id": "AhdcnJVmCF6W"
      }
    },
    {
      "cell_type": "code",
      "source": [
        "test_array.dtype"
      ],
      "metadata": {
        "colab": {
          "base_uri": "https://localhost:8080/"
        },
        "id": "LxzACqreB970",
        "outputId": "cc74d388-f8aa-4be3-9d1a-bf63d1c796fc"
      },
      "execution_count": null,
      "outputs": [
        {
          "output_type": "execute_result",
          "data": {
            "text/plain": [
              "dtype('float64')"
            ]
          },
          "metadata": {},
          "execution_count": 14
        }
      ]
    },
    {
      "cell_type": "code",
      "source": [
        "test_array.shape"
      ],
      "metadata": {
        "colab": {
          "base_uri": "https://localhost:8080/"
        },
        "id": "Nh2q3hcCCKsN",
        "outputId": "7fac5a52-534f-4a48-b08b-61b773de3161"
      },
      "execution_count": null,
      "outputs": [
        {
          "output_type": "execute_result",
          "data": {
            "text/plain": [
              "(4,)"
            ]
          },
          "metadata": {},
          "execution_count": 15
        }
      ]
    },
    {
      "cell_type": "code",
      "source": [
        "np.array(a).shape"
      ],
      "metadata": {
        "colab": {
          "base_uri": "https://localhost:8080/"
        },
        "id": "oztOtHGfCNn-",
        "outputId": "65489ab0-4535-4f90-b017-87ca59bee15b"
      },
      "execution_count": null,
      "outputs": [
        {
          "output_type": "execute_result",
          "data": {
            "text/plain": [
              "(5,)"
            ]
          },
          "metadata": {},
          "execution_count": 16
        }
      ]
    },
    {
      "cell_type": "markdown",
      "source": [
        "1차원 ,2차원 3차원 텐서 표현"
      ],
      "metadata": {
        "id": "YIArCVl1C72L"
      }
    },
    {
      "cell_type": "markdown",
      "source": [
        "차원이 늘어나면 랭크가 오른쪽으로 한칸 밀림"
      ],
      "metadata": {
        "id": "RZft0UHiD-vn"
      }
    },
    {
      "cell_type": "code",
      "source": [
        "tensor = [1,2 ,5,8]\n",
        "tensor = np.array(tensor , dtype = int)\n",
        "tensor.shape"
      ],
      "metadata": {
        "colab": {
          "base_uri": "https://localhost:8080/"
        },
        "id": "cxyIcd6BC_UB",
        "outputId": "e214ff90-ad1f-4bd4-bc6b-498fe9009c86"
      },
      "execution_count": null,
      "outputs": [
        {
          "output_type": "execute_result",
          "data": {
            "text/plain": [
              "(4,)"
            ]
          },
          "metadata": {},
          "execution_count": 18
        }
      ]
    },
    {
      "cell_type": "code",
      "source": [
        "tensor.dtype"
      ],
      "metadata": {
        "colab": {
          "base_uri": "https://localhost:8080/"
        },
        "id": "nKKg_G9CDSyN",
        "outputId": "08a76daf-a432-4655-c8c0-23991b006875"
      },
      "execution_count": null,
      "outputs": [
        {
          "output_type": "execute_result",
          "data": {
            "text/plain": [
              "dtype('int64')"
            ]
          },
          "metadata": {},
          "execution_count": 19
        }
      ]
    },
    {
      "cell_type": "code",
      "source": [
        "tensor = [[1,2 ,5,8] , [1,2 ,5,8] ,[1,2 ,5,8]]\n",
        "tensor = np.array(tensor,dtype=int)"
      ],
      "metadata": {
        "id": "N7MQ5rKpDF0V"
      },
      "execution_count": null,
      "outputs": []
    },
    {
      "cell_type": "code",
      "source": [
        "tensor.dtype"
      ],
      "metadata": {
        "colab": {
          "base_uri": "https://localhost:8080/"
        },
        "id": "JmTgSbZ0DaP1",
        "outputId": "007f5b63-1a7c-42fd-b408-fdaab8a338d4"
      },
      "execution_count": null,
      "outputs": [
        {
          "output_type": "execute_result",
          "data": {
            "text/plain": [
              "dtype('int64')"
            ]
          },
          "metadata": {},
          "execution_count": 22
        }
      ]
    },
    {
      "cell_type": "code",
      "source": [
        "tensor.shape"
      ],
      "metadata": {
        "colab": {
          "base_uri": "https://localhost:8080/"
        },
        "id": "mpSZGZKnDeOE",
        "outputId": "5085eb6c-3f80-4d0e-900b-1fd751f5377c"
      },
      "execution_count": null,
      "outputs": [
        {
          "output_type": "execute_result",
          "data": {
            "text/plain": [
              "(3, 4)"
            ]
          },
          "metadata": {},
          "execution_count": 23
        }
      ]
    },
    {
      "cell_type": "code",
      "source": [
        "tensor = [[[1,2 ,5,8] , [1,2 ,5,8] ,[1,2 ,5,8]] ,\n",
        "          [[1,2 ,5,8] , [1,2 ,5,8] ,[1,2 ,5,8]] ,\n",
        "          [[1,2 ,5,8] , [1,2 ,5,8] ,[1,2 ,5,8]] ]\n",
        "tensor = np.array(tensor, dtype = int)"
      ],
      "metadata": {
        "id": "vKhrlH2iDf_U"
      },
      "execution_count": null,
      "outputs": []
    },
    {
      "cell_type": "code",
      "source": [
        "tensor.dtype"
      ],
      "metadata": {
        "colab": {
          "base_uri": "https://localhost:8080/"
        },
        "id": "15aetIe4Dpwl",
        "outputId": "e085f269-81d5-4997-aed7-c80911e691ff"
      },
      "execution_count": null,
      "outputs": [
        {
          "output_type": "execute_result",
          "data": {
            "text/plain": [
              "dtype('int64')"
            ]
          },
          "metadata": {},
          "execution_count": 26
        }
      ]
    },
    {
      "cell_type": "code",
      "source": [
        "tensor.shape"
      ],
      "metadata": {
        "colab": {
          "base_uri": "https://localhost:8080/"
        },
        "id": "H9hGSSmJDxV9",
        "outputId": "f1218824-c6c1-4037-f8c8-633eba838cdb"
      },
      "execution_count": null,
      "outputs": [
        {
          "output_type": "execute_result",
          "data": {
            "text/plain": [
              "(3, 3, 4)"
            ]
          },
          "metadata": {},
          "execution_count": 27
        }
      ]
    },
    {
      "cell_type": "markdown",
      "source": [
        "nbytes- ndarray object의 메모리 크기를 반환"
      ],
      "metadata": {
        "id": "zEi3QA-mD1QV"
      }
    },
    {
      "cell_type": "code",
      "source": [
        "a = np.array([[1,2,3] , [4.5,5,6]] ,  dtype = np.int8)"
      ],
      "metadata": {
        "id": "VzCvlpNAD5ym"
      },
      "execution_count": null,
      "outputs": []
    },
    {
      "cell_type": "code",
      "source": [
        "a"
      ],
      "metadata": {
        "colab": {
          "base_uri": "https://localhost:8080/"
        },
        "id": "hkEZBC9KETzK",
        "outputId": "432dd81a-3b0a-4891-844c-7d3d3ba7d42c"
      },
      "execution_count": null,
      "outputs": [
        {
          "output_type": "execute_result",
          "data": {
            "text/plain": [
              "array([[1, 2, 3],\n",
              "       [4, 5, 6]], dtype=int8)"
            ]
          },
          "metadata": {},
          "execution_count": 31
        }
      ]
    },
    {
      "cell_type": "code",
      "source": [
        "a.dtype"
      ],
      "metadata": {
        "colab": {
          "base_uri": "https://localhost:8080/"
        },
        "id": "eerLl_TnEMpM",
        "outputId": "43b772d9-965b-43bb-897d-84962df23de6"
      },
      "execution_count": null,
      "outputs": [
        {
          "output_type": "execute_result",
          "data": {
            "text/plain": [
              "dtype('int8')"
            ]
          },
          "metadata": {},
          "execution_count": 29
        }
      ]
    },
    {
      "cell_type": "code",
      "source": [
        "a.nbytes"
      ],
      "metadata": {
        "colab": {
          "base_uri": "https://localhost:8080/"
        },
        "id": "uXznDVNwENmB",
        "outputId": "a16ccdae-77d2-4a95-b4c4-40c9bdc8a902"
      },
      "execution_count": null,
      "outputs": [
        {
          "output_type": "execute_result",
          "data": {
            "text/plain": [
              "6"
            ]
          },
          "metadata": {},
          "execution_count": 30
        }
      ]
    },
    {
      "cell_type": "code",
      "source": [
        "np.array([[1,2,3] , [4.5 , \"5\" , \"6\"] ] ,dtype = np.float32).nbytes"
      ],
      "metadata": {
        "colab": {
          "base_uri": "https://localhost:8080/"
        },
        "id": "CkmAoo02EP7u",
        "outputId": "49785cc6-831f-4010-a5d4-69bc4405fbaa"
      },
      "execution_count": null,
      "outputs": [
        {
          "output_type": "execute_result",
          "data": {
            "text/plain": [
              "24"
            ]
          },
          "metadata": {},
          "execution_count": 32
        }
      ]
    },
    {
      "cell_type": "code",
      "source": [
        "np.array([[1,2,3] ,[4.5 , \"5\" , \"6\"]] ,dtype = np.int32  ).nbytes"
      ],
      "metadata": {
        "colab": {
          "base_uri": "https://localhost:8080/"
        },
        "id": "7pyG7zUnEbLr",
        "outputId": "97e5b1ef-643b-423c-f3c7-dabf688e72c7"
      },
      "execution_count": null,
      "outputs": [
        {
          "output_type": "execute_result",
          "data": {
            "text/plain": [
              "24"
            ]
          },
          "metadata": {},
          "execution_count": 33
        }
      ]
    },
    {
      "cell_type": "code",
      "source": [
        "np.array([[1,2,3] ,[4.5 , \"5\" , \"6\"]] ,dtype = np.float64).nbytes"
      ],
      "metadata": {
        "colab": {
          "base_uri": "https://localhost:8080/"
        },
        "id": "yBrDv137Emcr",
        "outputId": "14a48386-7015-4806-854b-02eb5e44af09"
      },
      "execution_count": null,
      "outputs": [
        {
          "output_type": "execute_result",
          "data": {
            "text/plain": [
              "48"
            ]
          },
          "metadata": {},
          "execution_count": 34
        }
      ]
    },
    {
      "cell_type": "markdown",
      "source": [
        "Handling shape"
      ],
      "metadata": {
        "id": "ZjthabK1_uRc"
      }
    },
    {
      "cell_type": "code",
      "source": [
        "import numpy as np"
      ],
      "metadata": {
        "id": "-q0QXBfAABzp"
      },
      "execution_count": null,
      "outputs": []
    },
    {
      "cell_type": "code",
      "source": [
        "test_matrix =[[1,2,3,4] , [1,2,5,8]]\n",
        "np.array(test_matrix).shape"
      ],
      "metadata": {
        "colab": {
          "base_uri": "https://localhost:8080/"
        },
        "id": "wbBEPCsw_wdK",
        "outputId": "d84e3406-2042-40da-b3d9-a5b72ef1d8c3"
      },
      "execution_count": null,
      "outputs": [
        {
          "output_type": "execute_result",
          "data": {
            "text/plain": [
              "(2, 4)"
            ]
          },
          "metadata": {},
          "execution_count": 4
        }
      ]
    },
    {
      "cell_type": "code",
      "source": [
        "np.array(test_matrix).reshape(8,)"
      ],
      "metadata": {
        "colab": {
          "base_uri": "https://localhost:8080/"
        },
        "id": "TSxKN-tu_7Qy",
        "outputId": "f583f927-de42-4197-d073-def338c66427"
      },
      "execution_count": null,
      "outputs": [
        {
          "output_type": "execute_result",
          "data": {
            "text/plain": [
              "array([1, 2, 3, 4, 1, 2, 5, 8])"
            ]
          },
          "metadata": {},
          "execution_count": 5
        }
      ]
    },
    {
      "cell_type": "code",
      "source": [
        "np.array(test_matrix).reshape(8,).shape"
      ],
      "metadata": {
        "colab": {
          "base_uri": "https://localhost:8080/"
        },
        "id": "9N6jp9VOAGg9",
        "outputId": "e85fce33-11c0-4a37-e5d4-a27c7c630cf1"
      },
      "execution_count": null,
      "outputs": [
        {
          "output_type": "execute_result",
          "data": {
            "text/plain": [
              "(8,)"
            ]
          },
          "metadata": {},
          "execution_count": 6
        }
      ]
    },
    {
      "cell_type": "code",
      "source": [
        "np.array(test_matrix).reshape(2,4).shape"
      ],
      "metadata": {
        "colab": {
          "base_uri": "https://localhost:8080/"
        },
        "id": "BBMI2m8XAL-s",
        "outputId": "2e92d658-8dba-4cbc-9f19-ce41343ec658"
      },
      "execution_count": null,
      "outputs": [
        {
          "output_type": "execute_result",
          "data": {
            "text/plain": [
              "(2, 4)"
            ]
          },
          "metadata": {},
          "execution_count": 7
        }
      ]
    },
    {
      "cell_type": "markdown",
      "source": [
        "-1  : size 기준  \n",
        "아래 예제는 전체 size가 8이므로 , 4 *2 이기 때문에 4가나온다."
      ],
      "metadata": {
        "id": "BfVflCwlAan9"
      }
    },
    {
      "cell_type": "code",
      "source": [
        "np.array(test_matrix).reshape(-1,2).shape"
      ],
      "metadata": {
        "colab": {
          "base_uri": "https://localhost:8080/"
        },
        "id": "Rr0fY3pnAStv",
        "outputId": "004047e9-394a-4ab3-8744-96ffd475815f"
      },
      "execution_count": null,
      "outputs": [
        {
          "output_type": "execute_result",
          "data": {
            "text/plain": [
              "(4, 2)"
            ]
          },
          "metadata": {},
          "execution_count": 8
        }
      ]
    },
    {
      "cell_type": "code",
      "source": [
        "np.array(test_matrix).reshape(2,2,2)"
      ],
      "metadata": {
        "colab": {
          "base_uri": "https://localhost:8080/"
        },
        "id": "_tb2smaOAcs8",
        "outputId": "e1f95cac-69c9-4102-a9ad-533659d789d8"
      },
      "execution_count": null,
      "outputs": [
        {
          "output_type": "execute_result",
          "data": {
            "text/plain": [
              "array([[[1, 2],\n",
              "        [3, 4]],\n",
              "\n",
              "       [[1, 2],\n",
              "        [5, 8]]])"
            ]
          },
          "metadata": {},
          "execution_count": 9
        }
      ]
    },
    {
      "cell_type": "code",
      "source": [
        "np.array(test_matrix).reshape(2,2,2).shape"
      ],
      "metadata": {
        "colab": {
          "base_uri": "https://localhost:8080/"
        },
        "id": "XPlr3nw1Afoz",
        "outputId": "92672ec8-91a3-4b9a-8ff0-aeaf9d74e44d"
      },
      "execution_count": null,
      "outputs": [
        {
          "output_type": "execute_result",
          "data": {
            "text/plain": [
              "(2, 2, 2)"
            ]
          },
          "metadata": {},
          "execution_count": 10
        }
      ]
    },
    {
      "cell_type": "markdown",
      "source": [
        "1,-1,2 이면  \n",
        "1*2 *4 = 8이므로 -1쪽은 4 가된다"
      ],
      "metadata": {
        "id": "Rxiit76tAvBm"
      }
    },
    {
      "cell_type": "code",
      "source": [
        "np.array(test_matrix).reshape(1,-1,2).shape"
      ],
      "metadata": {
        "colab": {
          "base_uri": "https://localhost:8080/"
        },
        "id": "ZfSbgWWOBA7h",
        "outputId": "4ccb05a5-8c58-4fd4-c68d-50d2e509fda9"
      },
      "execution_count": null,
      "outputs": [
        {
          "output_type": "execute_result",
          "data": {
            "text/plain": [
              "(1, 4, 2)"
            ]
          },
          "metadata": {},
          "execution_count": 11
        }
      ]
    },
    {
      "cell_type": "markdown",
      "source": [
        "flatten : reshape의 기능중 하나를 가져옴"
      ],
      "metadata": {
        "id": "o-rpncx6BRey"
      }
    },
    {
      "cell_type": "code",
      "source": [
        "test_matrix = [[[1,2,3,4] , [5,6,7,8]] ,[[1,2,3,4] , [5,6,7,8]]]"
      ],
      "metadata": {
        "id": "ObHQLnVQBV7W"
      },
      "execution_count": null,
      "outputs": []
    },
    {
      "cell_type": "code",
      "source": [
        "test_matrix = np.array(test_matrix)\n",
        "test_matrix.shape"
      ],
      "metadata": {
        "colab": {
          "base_uri": "https://localhost:8080/"
        },
        "id": "_qdrlBQVBekB",
        "outputId": "8dacb999-a5cb-4746-cbaa-4ad0b72c7ef8"
      },
      "execution_count": null,
      "outputs": [
        {
          "output_type": "execute_result",
          "data": {
            "text/plain": [
              "(2, 2, 4)"
            ]
          },
          "metadata": {},
          "execution_count": 14
        }
      ]
    },
    {
      "cell_type": "code",
      "source": [
        "np.array(test_matrix).flatten()"
      ],
      "metadata": {
        "colab": {
          "base_uri": "https://localhost:8080/"
        },
        "id": "9HLkJb4bBjl1",
        "outputId": "2e07314d-5f17-48fa-ed25-fca1f7fe52fe"
      },
      "execution_count": null,
      "outputs": [
        {
          "output_type": "execute_result",
          "data": {
            "text/plain": [
              "array([1, 2, 3, 4, 5, 6, 7, 8, 1, 2, 3, 4, 5, 6, 7, 8])"
            ]
          },
          "metadata": {},
          "execution_count": 15
        }
      ]
    },
    {
      "cell_type": "code",
      "source": [
        "np.array(test_matrix).flatten().shape"
      ],
      "metadata": {
        "colab": {
          "base_uri": "https://localhost:8080/"
        },
        "id": "Rd5lYusRBqFP",
        "outputId": "4fbeb802-43ed-46bf-b877-87f999a694a7"
      },
      "execution_count": null,
      "outputs": [
        {
          "output_type": "execute_result",
          "data": {
            "text/plain": [
              "(16,)"
            ]
          },
          "metadata": {},
          "execution_count": 16
        }
      ]
    },
    {
      "cell_type": "markdown",
      "source": [
        "list와 달리 이차원 배열에서 [0,0] 표기법을 제공한다.   \n",
        "\n",
        "matrix의 경우 앞은 row 뒤는  column이다."
      ],
      "metadata": {
        "id": "Kdvjk3hhBvPi"
      }
    },
    {
      "cell_type": "code",
      "source": [
        "test_example = np.array([[1,2,3] , [4.5,5,6]] , int)\n",
        "test_example"
      ],
      "metadata": {
        "colab": {
          "base_uri": "https://localhost:8080/"
        },
        "id": "uc8IbOriB40c",
        "outputId": "6cf167bd-f318-4976-cd9b-5245f9e805ae"
      },
      "execution_count": null,
      "outputs": [
        {
          "output_type": "execute_result",
          "data": {
            "text/plain": [
              "array([[1, 2, 3],\n",
              "       [4, 5, 6]])"
            ]
          },
          "metadata": {},
          "execution_count": 18
        }
      ]
    },
    {
      "cell_type": "code",
      "source": [
        "test_example[0][2]"
      ],
      "metadata": {
        "colab": {
          "base_uri": "https://localhost:8080/"
        },
        "id": "p0OJ0DfbCBUc",
        "outputId": "c9a797dc-e790-4b85-f313-90c17c6afe1e"
      },
      "execution_count": null,
      "outputs": [
        {
          "output_type": "execute_result",
          "data": {
            "text/plain": [
              "3"
            ]
          },
          "metadata": {},
          "execution_count": 19
        }
      ]
    },
    {
      "cell_type": "code",
      "source": [
        "test_example[0,2]"
      ],
      "metadata": {
        "colab": {
          "base_uri": "https://localhost:8080/"
        },
        "id": "D7ukqNE-CFmC",
        "outputId": "42612be7-2ce7-46ff-a399-c80b5553574b"
      },
      "execution_count": null,
      "outputs": [
        {
          "output_type": "execute_result",
          "data": {
            "text/plain": [
              "3"
            ]
          },
          "metadata": {},
          "execution_count": 20
        }
      ]
    },
    {
      "cell_type": "code",
      "source": [
        "test_example[0,0] = 10\n",
        "test_example"
      ],
      "metadata": {
        "colab": {
          "base_uri": "https://localhost:8080/"
        },
        "id": "cTcKC1tZCIEs",
        "outputId": "97f2f089-bbf8-4804-8285-af9be80c5e2b"
      },
      "execution_count": null,
      "outputs": [
        {
          "output_type": "execute_result",
          "data": {
            "text/plain": [
              "array([[10,  2,  3],\n",
              "       [ 4,  5,  6]])"
            ]
          },
          "metadata": {},
          "execution_count": 21
        }
      ]
    },
    {
      "cell_type": "code",
      "source": [
        "test_example[1,2] = 5\n",
        "test_example"
      ],
      "metadata": {
        "colab": {
          "base_uri": "https://localhost:8080/"
        },
        "id": "Ux0Q5_w1CLNQ",
        "outputId": "6e035d83-950d-4627-b9f8-8fd56ae09fa1"
      },
      "execution_count": null,
      "outputs": [
        {
          "output_type": "execute_result",
          "data": {
            "text/plain": [
              "array([[10,  2,  3],\n",
              "       [ 4,  5,  5]])"
            ]
          },
          "metadata": {},
          "execution_count": 22
        }
      ]
    },
    {
      "cell_type": "markdown",
      "source": [
        "list와 달리 행과 열 부분을 나눠서 slicing이 가능함   \n",
        "matrix의 부분집합으 ㄹ추출할 때 유용\n"
      ],
      "metadata": {
        "id": "odDyfPaYCPMr"
      }
    },
    {
      "cell_type": "markdown",
      "source": [
        "[i, j]] -> i행 j열  \n",
        "\n",
        "[i : j]  -> i~j행"
      ],
      "metadata": {
        "id": "BIV44fKIDGxb"
      }
    },
    {
      "cell_type": "code",
      "source": [
        "test_example = np.array([[1,2,5,8] ,[1,2,5,8] ,[1,2,5,8] ,[1,2,5,8]])\n",
        "test_example"
      ],
      "metadata": {
        "colab": {
          "base_uri": "https://localhost:8080/"
        },
        "id": "___K00IVCN1B",
        "outputId": "740d20a3-0afc-4ef2-988e-849cbb23b194"
      },
      "execution_count": null,
      "outputs": [
        {
          "output_type": "execute_result",
          "data": {
            "text/plain": [
              "array([[1, 2, 5, 8],\n",
              "       [1, 2, 5, 8],\n",
              "       [1, 2, 5, 8],\n",
              "       [1, 2, 5, 8]])"
            ]
          },
          "metadata": {},
          "execution_count": 30
        }
      ]
    },
    {
      "cell_type": "code",
      "source": [
        "test_example[:,2]  #  2열"
      ],
      "metadata": {
        "colab": {
          "base_uri": "https://localhost:8080/"
        },
        "id": "NkOSPeDdCxbM",
        "outputId": "0c74a31d-c045-4c9d-c146-7fa89fccb7d6"
      },
      "execution_count": null,
      "outputs": [
        {
          "output_type": "execute_result",
          "data": {
            "text/plain": [
              "array([5, 5, 5, 5])"
            ]
          },
          "metadata": {},
          "execution_count": 24
        }
      ]
    },
    {
      "cell_type": "code",
      "source": [
        "test_example  #  추출해서 반환 , 바꾸는 것이 아니다."
      ],
      "metadata": {
        "colab": {
          "base_uri": "https://localhost:8080/"
        },
        "id": "MUG5Ctz7C0z-",
        "outputId": "d3251d7f-362d-4d5e-959d-d66193fe60d4"
      },
      "execution_count": null,
      "outputs": [
        {
          "output_type": "execute_result",
          "data": {
            "text/plain": [
              "array([[1, 2, 5, 8],\n",
              "       [1, 2, 5, 8],\n",
              "       [1, 2, 5, 8],\n",
              "       [1, 2, 5, 8]])"
            ]
          },
          "metadata": {},
          "execution_count": 25
        }
      ]
    },
    {
      "cell_type": "code",
      "source": [
        "test_example[:,1:3].shape  # 1~2행"
      ],
      "metadata": {
        "colab": {
          "base_uri": "https://localhost:8080/"
        },
        "id": "U1nC9NtJC3cx",
        "outputId": "fe191eb9-5fd6-4744-a9df-39439a84277d"
      },
      "execution_count": null,
      "outputs": [
        {
          "output_type": "execute_result",
          "data": {
            "text/plain": [
              "(4, 2)"
            ]
          },
          "metadata": {},
          "execution_count": 26
        }
      ]
    },
    {
      "cell_type": "code",
      "source": [
        "test_example  "
      ],
      "metadata": {
        "colab": {
          "base_uri": "https://localhost:8080/"
        },
        "id": "yoM8FnDdC56X",
        "outputId": "9e82df24-b351-44c3-eb16-f699149264a5"
      },
      "execution_count": null,
      "outputs": [
        {
          "output_type": "execute_result",
          "data": {
            "text/plain": [
              "array([[1, 2, 5, 8],\n",
              "       [1, 2, 5, 8],\n",
              "       [1, 2, 5, 8],\n",
              "       [1, 2, 5, 8]])"
            ]
          },
          "metadata": {},
          "execution_count": 27
        }
      ]
    },
    {
      "cell_type": "code",
      "source": [
        "test_example[1:2,:2]  # 1행 , 0열~1열"
      ],
      "metadata": {
        "colab": {
          "base_uri": "https://localhost:8080/"
        },
        "id": "y8g0LZC2C7Bz",
        "outputId": "2e0daa62-ab35-4cbe-cb43-09f81444bc00"
      },
      "execution_count": null,
      "outputs": [
        {
          "output_type": "execute_result",
          "data": {
            "text/plain": [
              "array([[1, 2]])"
            ]
          },
          "metadata": {},
          "execution_count": 28
        }
      ]
    },
    {
      "cell_type": "code",
      "source": [
        "test_example[1]  # 1 Row의 모든 값"
      ],
      "metadata": {
        "colab": {
          "base_uri": "https://localhost:8080/"
        },
        "id": "-9mYos0BDB3m",
        "outputId": "0fdd94de-080a-4bb3-9af7-30bf44fe46c0"
      },
      "execution_count": null,
      "outputs": [
        {
          "output_type": "execute_result",
          "data": {
            "text/plain": [
              "array([1, 2, 5, 8])"
            ]
          },
          "metadata": {},
          "execution_count": 29
        }
      ]
    },
    {
      "cell_type": "code",
      "source": [
        "test_example[1:3]"
      ],
      "metadata": {
        "colab": {
          "base_uri": "https://localhost:8080/"
        },
        "id": "l2FU7Sx0Djvj",
        "outputId": "ae2b1432-178a-4d1d-9332-a967f3f06225"
      },
      "execution_count": null,
      "outputs": [
        {
          "output_type": "execute_result",
          "data": {
            "text/plain": [
              "array([[1, 2, 5, 8],\n",
              "       [1, 2, 5, 8]])"
            ]
          },
          "metadata": {},
          "execution_count": 31
        }
      ]
    },
    {
      "cell_type": "code",
      "source": [
        "a = np.arange(100).reshape(10,10)\n",
        "a"
      ],
      "metadata": {
        "colab": {
          "base_uri": "https://localhost:8080/"
        },
        "id": "c8LHqmxZDlb_",
        "outputId": "47fc916e-8205-413b-97e8-ea7244a121d0"
      },
      "execution_count": null,
      "outputs": [
        {
          "output_type": "execute_result",
          "data": {
            "text/plain": [
              "array([[ 0,  1,  2,  3,  4,  5,  6,  7,  8,  9],\n",
              "       [10, 11, 12, 13, 14, 15, 16, 17, 18, 19],\n",
              "       [20, 21, 22, 23, 24, 25, 26, 27, 28, 29],\n",
              "       [30, 31, 32, 33, 34, 35, 36, 37, 38, 39],\n",
              "       [40, 41, 42, 43, 44, 45, 46, 47, 48, 49],\n",
              "       [50, 51, 52, 53, 54, 55, 56, 57, 58, 59],\n",
              "       [60, 61, 62, 63, 64, 65, 66, 67, 68, 69],\n",
              "       [70, 71, 72, 73, 74, 75, 76, 77, 78, 79],\n",
              "       [80, 81, 82, 83, 84, 85, 86, 87, 88, 89],\n",
              "       [90, 91, 92, 93, 94, 95, 96, 97, 98, 99]])"
            ]
          },
          "metadata": {},
          "execution_count": 33
        }
      ]
    },
    {
      "cell_type": "code",
      "source": [
        "a[:,-1]  # 마지막 열"
      ],
      "metadata": {
        "colab": {
          "base_uri": "https://localhost:8080/"
        },
        "id": "2M400zQSDp_d",
        "outputId": "2768c2d6-6ffb-4638-d2b0-1758f0c2a4ff"
      },
      "execution_count": null,
      "outputs": [
        {
          "output_type": "execute_result",
          "data": {
            "text/plain": [
              "array([ 9, 19, 29, 39, 49, 59, 69, 79, 89, 99])"
            ]
          },
          "metadata": {},
          "execution_count": 34
        }
      ]
    },
    {
      "cell_type": "markdown",
      "source": [
        "arr[:,::2]  -> start point, endpoint , steps "
      ],
      "metadata": {
        "id": "ZWBvOCGnDxhk"
      }
    },
    {
      "cell_type": "markdown",
      "source": [
        "create function\n"
      ],
      "metadata": {
        "id": "bgwfAbRaEA7m"
      }
    },
    {
      "cell_type": "markdown",
      "source": [
        "arange"
      ],
      "metadata": {
        "id": "ZYTf5rMGECVQ"
      }
    },
    {
      "cell_type": "code",
      "source": [
        "list(range(0,10,3))"
      ],
      "metadata": {
        "colab": {
          "base_uri": "https://localhost:8080/"
        },
        "id": "unz2RktHEIdp",
        "outputId": "400ff0db-e11a-45d2-a9f7-aa77f5fdd31a"
      },
      "execution_count": null,
      "outputs": [
        {
          "output_type": "execute_result",
          "data": {
            "text/plain": [
              "[0, 3, 6, 9]"
            ]
          },
          "metadata": {},
          "execution_count": 37
        }
      ]
    },
    {
      "cell_type": "code",
      "source": [
        "type(list(range(30)))"
      ],
      "metadata": {
        "colab": {
          "base_uri": "https://localhost:8080/"
        },
        "id": "kGI1AcL1ELDj",
        "outputId": "654c8022-0faa-445b-8765-75cf38a94552"
      },
      "execution_count": null,
      "outputs": [
        {
          "output_type": "execute_result",
          "data": {
            "text/plain": [
              "list"
            ]
          },
          "metadata": {},
          "execution_count": 38
        }
      ]
    },
    {
      "cell_type": "code",
      "source": [
        "#arange: liste의 range와 같은효과\n",
        "\n",
        "\n",
        "np.arange(30)"
      ],
      "metadata": {
        "colab": {
          "base_uri": "https://localhost:8080/"
        },
        "id": "qZXLJxfSDuCI",
        "outputId": "ad77ed93-38be-46ea-aae6-5cc462d1b25b"
      },
      "execution_count": null,
      "outputs": [
        {
          "output_type": "execute_result",
          "data": {
            "text/plain": [
              "array([ 0,  1,  2,  3,  4,  5,  6,  7,  8,  9, 10, 11, 12, 13, 14, 15, 16,\n",
              "       17, 18, 19, 20, 21, 22, 23, 24, 25, 26, 27, 28, 29])"
            ]
          },
          "metadata": {},
          "execution_count": 35
        }
      ]
    },
    {
      "cell_type": "code",
      "source": [
        "np.arange(0,5,0.5)"
      ],
      "metadata": {
        "colab": {
          "base_uri": "https://localhost:8080/"
        },
        "id": "PphzjbtPEFFp",
        "outputId": "ba906894-89ab-45d4-b885-b181d0e7dcb6"
      },
      "execution_count": null,
      "outputs": [
        {
          "output_type": "execute_result",
          "data": {
            "text/plain": [
              "array([0. , 0.5, 1. , 1.5, 2. , 2.5, 3. , 3.5, 4. , 4.5])"
            ]
          },
          "metadata": {},
          "execution_count": 36
        }
      ]
    },
    {
      "cell_type": "markdown",
      "source": [
        "zeros - 0 으로  가득찬 ndarray 생성\n",
        "\n",
        "np.zeros(shape,dtype , order)\n",
        "\n",
        "ones  - 1 로 가득찬 ndarray 생성\n",
        "\n",
        "np.ones(shape,dtype , order)\n",
        "\n",
        "\n",
        "emtpy - shpae 만 주어지고 비어있는 ndarray 생성\n",
        "\n",
        "(memory initialization 이 되지않ㅇ음)\n",
        "\n",
        "공간만 잡아줌 . 그 공간에 이전에쓰이던 값이 남아있음을 알 수 있음\n",
        "\n",
        "\n",
        "something_like\n",
        "\n",
        "ex .) ones_like"
      ],
      "metadata": {
        "id": "eqR8mfvPEV2x"
      }
    },
    {
      "cell_type": "code",
      "source": [
        "np.zeros(shape = (10,) , dtype = np.int8)"
      ],
      "metadata": {
        "colab": {
          "base_uri": "https://localhost:8080/"
        },
        "id": "Ihnx_9-PEUxt",
        "outputId": "1509cb68-3202-484c-af37-1e5249b0c1eb"
      },
      "execution_count": null,
      "outputs": [
        {
          "output_type": "execute_result",
          "data": {
            "text/plain": [
              "array([0, 0, 0, 0, 0, 0, 0, 0, 0, 0], dtype=int8)"
            ]
          },
          "metadata": {},
          "execution_count": 39
        }
      ]
    },
    {
      "cell_type": "code",
      "source": [
        "np.zeros((2,5) )"
      ],
      "metadata": {
        "colab": {
          "base_uri": "https://localhost:8080/"
        },
        "id": "6W8v2-qlFH2O",
        "outputId": "7892f29d-5bee-4ced-aa5d-f51cde25f6d2"
      },
      "execution_count": null,
      "outputs": [
        {
          "output_type": "execute_result",
          "data": {
            "text/plain": [
              "array([[0., 0., 0., 0., 0.],\n",
              "       [0., 0., 0., 0., 0.]])"
            ]
          },
          "metadata": {},
          "execution_count": 40
        }
      ]
    },
    {
      "cell_type": "code",
      "source": [
        "np.ones(shape = (10,) ,dtype = np.int8 )"
      ],
      "metadata": {
        "colab": {
          "base_uri": "https://localhost:8080/"
        },
        "id": "OU2bQaWvFKCs",
        "outputId": "20624c34-1706-48fc-af25-48ed2011a4f8"
      },
      "execution_count": null,
      "outputs": [
        {
          "output_type": "execute_result",
          "data": {
            "text/plain": [
              "array([1, 1, 1, 1, 1, 1, 1, 1, 1, 1], dtype=int8)"
            ]
          },
          "metadata": {},
          "execution_count": 41
        }
      ]
    },
    {
      "cell_type": "code",
      "source": [
        "np.ones((2,5))"
      ],
      "metadata": {
        "colab": {
          "base_uri": "https://localhost:8080/"
        },
        "id": "MaF8EoG0FRlw",
        "outputId": "e4411c0a-53b8-418b-fc35-e3b078282f82"
      },
      "execution_count": null,
      "outputs": [
        {
          "output_type": "execute_result",
          "data": {
            "text/plain": [
              "array([[1., 1., 1., 1., 1.],\n",
              "       [1., 1., 1., 1., 1.]])"
            ]
          },
          "metadata": {},
          "execution_count": 42
        }
      ]
    },
    {
      "cell_type": "code",
      "source": [
        "np.empty(shape = (10, ) , dtype = np.int8)"
      ],
      "metadata": {
        "colab": {
          "base_uri": "https://localhost:8080/"
        },
        "id": "03GrxYDVFhbH",
        "outputId": "d44609fd-6f37-4293-b16a-928826f5a237"
      },
      "execution_count": null,
      "outputs": [
        {
          "output_type": "execute_result",
          "data": {
            "text/plain": [
              "array([ 32,  53, 125, -14, 117,  85,   0,   0,   3,   0], dtype=int8)"
            ]
          },
          "metadata": {},
          "execution_count": 46
        }
      ]
    },
    {
      "cell_type": "code",
      "source": [
        "test_matrix = np.arange(100).reshape(5,-1)\n",
        "test_matrix.shape"
      ],
      "metadata": {
        "colab": {
          "base_uri": "https://localhost:8080/"
        },
        "id": "j9caC4VyFmE-",
        "outputId": "ad60c349-fba5-4102-aaeb-ee3a62969e42"
      },
      "execution_count": null,
      "outputs": [
        {
          "output_type": "execute_result",
          "data": {
            "text/plain": [
              "(5, 20)"
            ]
          },
          "metadata": {},
          "execution_count": 47
        }
      ]
    },
    {
      "cell_type": "markdown",
      "source": [
        "# 2022-01-04"
      ],
      "metadata": {
        "id": "nF8iToJgWc13"
      }
    },
    {
      "cell_type": "markdown",
      "source": [
        "identity : 단위행렬을 생성함"
      ],
      "metadata": {
        "id": "RSQaIWOlWi_0"
      }
    },
    {
      "cell_type": "markdown",
      "source": [
        "Q : 3,3 shape의 단위 행렬을 만드시오 . 단 , 크기는 9byte여야 하오  \n",
        "Q2 : 5,5 shape 단위 행렬을 만드시오\n",
        "\n"
      ],
      "metadata": {
        "id": "eEcdaO5WYp2b"
      }
    },
    {
      "cell_type": "code",
      "source": [
        ""
      ],
      "metadata": {
        "id": "-S4_Q54bZFGO"
      },
      "execution_count": null,
      "outputs": []
    },
    {
      "cell_type": "markdown",
      "source": [
        "eye : 대각선이 1인 행렬 , k 값의 시작 index 변경가능\n"
      ],
      "metadata": {
        "id": "8TDvHASCW7Ym"
      }
    },
    {
      "cell_type": "markdown",
      "source": [
        "identity 와 다르게 행,열 shape, index 시작 위치를 정할 수 있다.\n"
      ],
      "metadata": {
        "id": "Mp1YsS1fXQzo"
      }
    },
    {
      "cell_type": "markdown",
      "source": [
        "Q1 . 3 ,3 shape의 단위 행렬을 eye를 이용해 만드시오  \n",
        "Q2 . shape 3, 5의 index 1  을 시작점으로 대각선이 1인 행렬을 만드시오  \n",
        "Q3 . shape 3, 5 인 index 0를 시작점으로\n",
        "대각선인 1인 행렬을 만드시오  \n",
        "단 , argument로 N,M , 크기는 8bytes여야하오"
      ],
      "metadata": {
        "id": "h20pxywHYHqe"
      }
    },
    {
      "cell_type": "code",
      "source": [
        ""
      ],
      "metadata": {
        "id": "KNz_WZsQZD6T"
      },
      "execution_count": null,
      "outputs": []
    },
    {
      "cell_type": "markdown",
      "source": [
        "diag : 대각 행렬의 값을 추출함\n"
      ],
      "metadata": {
        "id": "Sh3_4aq6XWk8"
      }
    },
    {
      "cell_type": "markdown",
      "source": [
        "Q1 : 0~ 9 값으로 3,3 shape의 행렬을 만들고\n",
        "대각 선 성분을 추출하시오\n",
        "Q2 ; 0~ 9 값으로 3,3 shape의 행렬을 만들고\n",
        "index 1부터의 대각성분을 추출하시오"
      ],
      "metadata": {
        "id": "-G6hKzWfXeL6"
      }
    },
    {
      "cell_type": "code",
      "source": [
        ""
      ],
      "metadata": {
        "id": "MKdO8aXXZEUn"
      },
      "execution_count": null,
      "outputs": []
    },
    {
      "cell_type": "markdown",
      "source": [
        "random sampling - 데이터 분포에 따른 sampling으로 array를 생성  \n",
        "argument로 모수 값(parameter)를 줌"
      ],
      "metadata": {
        "id": "spUYPRa0Zaqq"
      }
    },
    {
      "cell_type": "markdown",
      "source": [
        "Q1 .0~1 사이의 값을 가지는 균등 분포에서 10개를 sampling하고 2,5 shape으로 reshape 하시오\n",
        "\n",
        "Q2. parameter를 0,1로 가지는 정규 분포에서 10개를 sampling 하고 2,5 shape으로 reshape 하시오"
      ],
      "metadata": {
        "id": "ym0x0xKFZwmm"
      }
    },
    {
      "cell_type": "code",
      "source": [
        ""
      ],
      "metadata": {
        "id": "2ZdTdW8faLYz"
      },
      "execution_count": null,
      "outputs": []
    },
    {
      "cell_type": "markdown",
      "source": [
        "## Operation\n"
      ],
      "metadata": {
        "id": "rkobtOwFaJ3a"
      }
    },
    {
      "cell_type": "markdown",
      "source": [
        "Sum - ndarray 의 element 간의 합을 구함"
      ],
      "metadata": {
        "id": "iAjYCAKxaWb9"
      }
    },
    {
      "cell_type": "markdown",
      "source": [
        ""
      ],
      "metadata": {
        "id": "NrNuQx-FawPG"
      }
    },
    {
      "cell_type": "code",
      "source": [
        "test_array = np.arange(1,11)\n",
        "test_array"
      ],
      "metadata": {
        "colab": {
          "base_uri": "https://localhost:8080/"
        },
        "id": "UZr_nCn6ac8I",
        "outputId": "8fc33548-f528-477a-be34-13e7b53a1949"
      },
      "execution_count": null,
      "outputs": [
        {
          "output_type": "execute_result",
          "data": {
            "text/plain": [
              "array([ 1,  2,  3,  4,  5,  6,  7,  8,  9, 10])"
            ]
          },
          "metadata": {},
          "execution_count": 13
        }
      ]
    },
    {
      "cell_type": "code",
      "source": [
        "test_array.sum(dtype=np.float)"
      ],
      "metadata": {
        "colab": {
          "base_uri": "https://localhost:8080/"
        },
        "id": "NGSVxcARafuQ",
        "outputId": "8fc42e54-ad10-4005-a19a-60f214b674ba"
      },
      "execution_count": null,
      "outputs": [
        {
          "output_type": "execute_result",
          "data": {
            "text/plain": [
              "55.0"
            ]
          },
          "metadata": {},
          "execution_count": 14
        }
      ]
    }
  ]
}
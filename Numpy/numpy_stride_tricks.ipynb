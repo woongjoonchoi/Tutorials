{
  "nbformat": 4,
  "nbformat_minor": 0,
  "metadata": {
    "colab": {
      "name": "numpy_stride_tricks.ipynb",
      "provenance": [],
      "collapsed_sections": [],
      "authorship_tag": "ABX9TyMw0oN6SVO/j58wMYNmDDR3",
      "include_colab_link": true
    },
    "kernelspec": {
      "name": "python3",
      "display_name": "Python 3"
    },
    "language_info": {
      "name": "python"
    }
  },
  "cells": [
    {
      "cell_type": "markdown",
      "metadata": {
        "id": "view-in-github",
        "colab_type": "text"
      },
      "source": [
        "<a href=\"https://colab.research.google.com/github/woongjoonchoi/Tutorials/blob/main/Numpy/numpy_stride_tricks.ipynb\" target=\"_parent\"><img src=\"https://colab.research.google.com/assets/colab-badge.svg\" alt=\"Open In Colab\"/></a>"
      ]
    },
    {
      "cell_type": "code",
      "execution_count": 1,
      "metadata": {
        "id": "QxUpuF2QR0K7"
      },
      "outputs": [],
      "source": [
        "import numpy as np"
      ]
    },
    {
      "cell_type": "markdown",
      "source": [
        "Practice from : https://towardsdatascience.com/advanced-numpy-master-stride-tricks-with-25-illustrated-exercises-923a9393ab20#9c37"
      ],
      "metadata": {
        "id": "1hRVL0q-oO1h"
      }
    },
    {
      "cell_type": "markdown",
      "source": [
        "# 1D exercise"
      ],
      "metadata": {
        "id": "Um-w5tcMR7aA"
      }
    },
    {
      "cell_type": "markdown",
      "source": [
        "1) slice first 3 elements"
      ],
      "metadata": {
        "id": "km8OC3F_SBFC"
      }
    },
    {
      "cell_type": "code",
      "source": [
        "x = np.asarray(range(1,26) , np.int8).reshape(5,5)\n",
        "x=np.lib.stride_tricks.as_strided(x,shape=(3,) , strides =(1,))\n",
        "print(x)"
      ],
      "metadata": {
        "colab": {
          "base_uri": "https://localhost:8080/"
        },
        "id": "FgyMfjNxR6Vc",
        "outputId": "1ec27d84-acec-4ac6-9d8e-79ff0e897c8c"
      },
      "execution_count": null,
      "outputs": [
        {
          "output_type": "stream",
          "name": "stdout",
          "text": [
            "[1 2 3]\n"
          ]
        }
      ]
    },
    {
      "cell_type": "markdown",
      "source": [
        "similar"
      ],
      "metadata": {
        "id": "jCBePd6-Jv-f"
      }
    },
    {
      "cell_type": "code",
      "source": [
        "x = np.asarray(range(1,26) , np.int8).reshape(5,5)\n",
        "print(x[0,:3])"
      ],
      "metadata": {
        "colab": {
          "base_uri": "https://localhost:8080/"
        },
        "id": "xtb7-rAvJvjQ",
        "outputId": "b321daa6-06aa-44fa-c2eb-872414a00271"
      },
      "execution_count": null,
      "outputs": [
        {
          "output_type": "stream",
          "name": "stdout",
          "text": [
            "[1 2 3]\n"
          ]
        }
      ]
    },
    {
      "cell_type": "markdown",
      "source": [
        "2)slice first 8 elements"
      ],
      "metadata": {
        "id": "oPbXfAmdSe7Z"
      }
    },
    {
      "cell_type": "code",
      "source": [
        "x= np.asarray(range(1,26) , np.int8).reshape(5,5)\n",
        "\n",
        "x= np.lib.stride_tricks.as_strided(x,shape=(8,) , strides=(1,))\n",
        "\n",
        "print(x)"
      ],
      "metadata": {
        "id": "xxnFXl_JSeZ6",
        "colab": {
          "base_uri": "https://localhost:8080/"
        },
        "outputId": "ec4929a2-941a-4cdd-c719-98489f7a8750"
      },
      "execution_count": null,
      "outputs": [
        {
          "output_type": "stream",
          "name": "stdout",
          "text": [
            "[1 2 3 4 5 6 7 8]\n"
          ]
        }
      ]
    },
    {
      "cell_type": "markdown",
      "source": [
        "simliar\n"
      ],
      "metadata": {
        "id": "E0LIafCBJ5S0"
      }
    },
    {
      "cell_type": "code",
      "source": [
        "x= np.asarray(range(1,26) , np.int8).reshape(5,5)\n",
        "\n",
        "print(x[0,:8])\n"
      ],
      "metadata": {
        "colab": {
          "base_uri": "https://localhost:8080/"
        },
        "id": "7QSJHYAIJ6Ip",
        "outputId": "95d2e32d-3c99-41b2-8bb3-e78ca6510d5c"
      },
      "execution_count": null,
      "outputs": [
        {
          "output_type": "stream",
          "name": "stdout",
          "text": [
            "[1 2 3 4 5]\n"
          ]
        }
      ]
    },
    {
      "cell_type": "markdown",
      "source": [
        "3)flatten 2-d array  \n",
        "input item: 2bytes"
      ],
      "metadata": {
        "id": "eqEbv9XglKaI"
      }
    },
    {
      "cell_type": "code",
      "source": [
        "x = np.asarray(range(1,26) , np.int16).reshape(5,5)\n",
        "x=np.lib.stride_tricks.as_strided(x,shape=(25,) ,strides =(2,))\n",
        "# a=np.array([1,3])\n",
        "print(x)\n",
        "# print(a is np.asarray(a))"
      ],
      "metadata": {
        "colab": {
          "base_uri": "https://localhost:8080/"
        },
        "id": "p2obvh8LlREL",
        "outputId": "10658c96-de0d-4d38-e290-eef2f2d3117c"
      },
      "execution_count": null,
      "outputs": [
        {
          "output_type": "stream",
          "name": "stdout",
          "text": [
            "[ 1  2  3  4  5  6  7  8  9 10 11 12 13 14 15 16 17 18 19 20 21 22 23 24\n",
            " 25]\n"
          ]
        }
      ]
    },
    {
      "cell_type": "markdown",
      "source": [
        "similar"
      ],
      "metadata": {
        "id": "wJA_BL80KOaj"
      }
    },
    {
      "cell_type": "code",
      "source": [
        "x = np.asarray(range(1,26) , np.int16).reshape(5,5)\n",
        "x.ravel()"
      ],
      "metadata": {
        "colab": {
          "base_uri": "https://localhost:8080/"
        },
        "id": "sb2fmEx5KPPe",
        "outputId": "2e015bf7-7c8e-471d-e41f-1602dde3f616"
      },
      "execution_count": null,
      "outputs": [
        {
          "output_type": "execute_result",
          "data": {
            "text/plain": [
              "array([ 1,  2,  3,  4,  5,  6,  7,  8,  9, 10, 11, 12, 13, 14, 15, 16, 17,\n",
              "       18, 19, 20, 21, 22, 23, 24, 25], dtype=int16)"
            ]
          },
          "metadata": {},
          "execution_count": 11
        }
      ]
    },
    {
      "cell_type": "markdown",
      "source": [
        "4) skipe every other element\n",
        "input item : 1bytes"
      ],
      "metadata": {
        "id": "MxnsrnrQmMYE"
      }
    },
    {
      "cell_type": "code",
      "source": [
        "x = np.asarray(range(1,26) , np.int8).reshape(5,5)\n",
        "x = np.lib.stride_tricks.as_strided(x,shape=(3,),strides=(2,))\n",
        "print(x)"
      ],
      "metadata": {
        "colab": {
          "base_uri": "https://localhost:8080/"
        },
        "id": "QcPmCJaUmFvp",
        "outputId": "ddccb9cc-3031-4839-bbf0-9bec532c19b2"
      },
      "execution_count": null,
      "outputs": [
        {
          "output_type": "stream",
          "name": "stdout",
          "text": [
            "[1 3 5]\n"
          ]
        }
      ]
    },
    {
      "cell_type": "markdown",
      "source": [
        "5)slice first column  \n",
        "input item : 8 bytes"
      ],
      "metadata": {
        "id": "TFRkURMTmleV"
      }
    },
    {
      "cell_type": "code",
      "source": [
        "x = np.asarray(range(1,26) , np.int64).reshape(5,5)\n",
        "x=np.lib.stride_tricks.as_strided(x,shape=(5,),strides =(40,) )\n",
        "print(x)"
      ],
      "metadata": {
        "colab": {
          "base_uri": "https://localhost:8080/"
        },
        "id": "gZoAhV_XmkYb",
        "outputId": "bc7b3182-02f9-428f-b6ce-73976d314652"
      },
      "execution_count": null,
      "outputs": [
        {
          "output_type": "stream",
          "name": "stdout",
          "text": [
            "[ 1  6 11 16 21]\n"
          ]
        }
      ]
    },
    {
      "cell_type": "markdown",
      "source": [
        "similar"
      ],
      "metadata": {
        "id": "oBg97SYnKXEq"
      }
    },
    {
      "cell_type": "code",
      "source": [
        "x = np.asarray(range(1,26) , np.int64).reshape(5,5)\n",
        "\n",
        "x[0,::2]"
      ],
      "metadata": {
        "colab": {
          "base_uri": "https://localhost:8080/"
        },
        "id": "mbPFCMCTKXpP",
        "outputId": "7240d4d4-0833-4a44-c6a5-14a8f703b438"
      },
      "execution_count": null,
      "outputs": [
        {
          "output_type": "execute_result",
          "data": {
            "text/plain": [
              "array([1, 3, 5])"
            ]
          },
          "metadata": {},
          "execution_count": 12
        }
      ]
    },
    {
      "cell_type": "markdown",
      "source": [
        "6)diagonal element  \n",
        "input item : 8 bytes"
      ],
      "metadata": {
        "id": "CK6W8i4dnmqX"
      }
    },
    {
      "cell_type": "code",
      "source": [
        "x= np.asarray(range(1,26) , np.int64).reshape(5,5)\n",
        "x=np.lib.stride_tricks.as_strided(x,shape=(5,),strides=(48,))\n",
        "print(x)"
      ],
      "metadata": {
        "colab": {
          "base_uri": "https://localhost:8080/"
        },
        "id": "XJFWta5enlPt",
        "outputId": "2edd7164-ae64-4154-cb27-386cb0f97484"
      },
      "execution_count": null,
      "outputs": [
        {
          "output_type": "stream",
          "name": "stdout",
          "text": [
            "[ 1  7 13 19 25]\n"
          ]
        }
      ]
    },
    {
      "cell_type": "markdown",
      "source": [
        "similar"
      ],
      "metadata": {
        "id": "bOugQ7YYKjBv"
      }
    },
    {
      "cell_type": "code",
      "source": [
        "x= np.asarray(range(1,26) , np.int64).reshape(5,5)\n",
        "x.diagonal()"
      ],
      "metadata": {
        "colab": {
          "base_uri": "https://localhost:8080/"
        },
        "id": "znWBEPH9KjZ0",
        "outputId": "0060dbd3-658d-431b-ae5a-2a7f3bb8886e"
      },
      "execution_count": null,
      "outputs": [
        {
          "output_type": "execute_result",
          "data": {
            "text/plain": [
              "array([ 1,  7, 13, 19, 25])"
            ]
          },
          "metadata": {},
          "execution_count": 13
        }
      ]
    },
    {
      "cell_type": "markdown",
      "source": [
        "7)repeat element  \n",
        "input item : 8 bytes"
      ],
      "metadata": {
        "id": "R1v77iPgn6io"
      }
    },
    {
      "cell_type": "code",
      "source": [
        "x=np.asarray(range(1,26) , np.int64 ).reshape(5,5)\n",
        "x=np.lib.stride_tricks.as_strided(x , shape=(5,) , strides=(0,))\n",
        "print(x)"
      ],
      "metadata": {
        "colab": {
          "base_uri": "https://localhost:8080/"
        },
        "id": "UHi-jbAbn6BW",
        "outputId": "e585a22b-46f2-4838-eede-c41cb5ea8b9c"
      },
      "execution_count": null,
      "outputs": [
        {
          "output_type": "stream",
          "name": "stdout",
          "text": [
            "[1 1 1 1 1]\n"
          ]
        }
      ]
    },
    {
      "cell_type": "markdown",
      "source": [
        "simliar"
      ],
      "metadata": {
        "id": "aFEaVxd8Kp_9"
      }
    },
    {
      "cell_type": "code",
      "source": [
        ""
      ],
      "metadata": {
        "id": "Fz8fc508KpgB"
      },
      "execution_count": null,
      "outputs": []
    },
    {
      "cell_type": "markdown",
      "source": [
        "# 2D -exercise"
      ],
      "metadata": {
        "id": "4EPxLtejoMnH"
      }
    },
    {
      "cell_type": "markdown",
      "source": [
        "8) simple 2d slicing"
      ],
      "metadata": {
        "id": "lX9fJ0cNIKma"
      }
    },
    {
      "cell_type": "code",
      "source": [
        "x=np.asarray(range(1,26) , np.int64).reshape(5,5)\n",
        "x=np.lib.stride_tricks.as_strided(x,shape=(4,3) , strides=(40,8))\n",
        "print(x)"
      ],
      "metadata": {
        "colab": {
          "base_uri": "https://localhost:8080/"
        },
        "id": "z9-vTwEsoVYV",
        "outputId": "6913b1bd-8e11-45ff-db13-73c62073fd5c"
      },
      "execution_count": null,
      "outputs": [
        {
          "output_type": "stream",
          "name": "stdout",
          "text": [
            "[[ 1  2  3]\n",
            " [ 6  7  8]\n",
            " [11 12 13]\n",
            " [16 17 18]]\n"
          ]
        }
      ]
    },
    {
      "cell_type": "markdown",
      "source": [
        "9) Slice a zigzag\n",
        "\n",
        "Input itemsize: 8 bytes | Input strides: (40, 8)"
      ],
      "metadata": {
        "id": "laOLSEAsoOCp"
      }
    },
    {
      "cell_type": "code",
      "source": [
        "x = np.asarray(range(1,26) , np.int64).reshape(5,5)\n",
        "x = np.lib.stride_tricks.as_strided(x,shape=(4,2),strides=(48,8))\n",
        "print(x)"
      ],
      "metadata": {
        "colab": {
          "base_uri": "https://localhost:8080/"
        },
        "id": "YceaUWXtIQ8b",
        "outputId": "a8553b84-be26-4fdd-e2fe-a157c301d8d7"
      },
      "execution_count": null,
      "outputs": [
        {
          "output_type": "stream",
          "name": "stdout",
          "text": [
            "[[ 1  2]\n",
            " [ 7  8]\n",
            " [13 14]\n",
            " [19 20]]\n"
          ]
        }
      ]
    },
    {
      "cell_type": "markdown",
      "source": [
        "10 ) sparse strding\n",
        "input itemsize : 8 bytes "
      ],
      "metadata": {
        "id": "qGII7b43JHee"
      }
    },
    {
      "cell_type": "code",
      "source": [
        "x = np.asarray(range(1,26) , np.int64 ).reshape(5,5)\n",
        "x = np.lib.stride_tricks.as_strided(x, shape = (3,3) , strides = (80,16))\n",
        "print(x)"
      ],
      "metadata": {
        "colab": {
          "base_uri": "https://localhost:8080/"
        },
        "id": "FsHcdwcxJExp",
        "outputId": "ebe2e290-858c-49db-fe2f-64d1b31d6a58"
      },
      "execution_count": null,
      "outputs": [
        {
          "output_type": "stream",
          "name": "stdout",
          "text": [
            "[[ 1  3  5]\n",
            " [11 13 15]\n",
            " [21 23 25]]\n"
          ]
        }
      ]
    },
    {
      "cell_type": "markdown",
      "source": [
        "similar\n"
      ],
      "metadata": {
        "id": "THjN_3txK_vb"
      }
    },
    {
      "cell_type": "code",
      "source": [
        "x = np.asarray(range(1,26) , np.int64).reshape(5,5)\n",
        "x[::2,::2]"
      ],
      "metadata": {
        "colab": {
          "base_uri": "https://localhost:8080/"
        },
        "id": "w3bryvtkLAY9",
        "outputId": "20263b3e-4dd9-40d2-e5b6-eaadb42957f1"
      },
      "execution_count": null,
      "outputs": [
        {
          "output_type": "execute_result",
          "data": {
            "text/plain": [
              "array([[ 1,  3,  5],\n",
              "       [11, 13, 15],\n",
              "       [21, 23, 25]])"
            ]
          },
          "metadata": {},
          "execution_count": 14
        }
      ]
    },
    {
      "cell_type": "markdown",
      "source": [
        "11 ) Transpose a 2d array  \n",
        "input item size : 1 byte"
      ],
      "metadata": {
        "id": "4OzNxWUVLHnE"
      }
    },
    {
      "cell_type": "code",
      "source": [
        "x = np.asarray(range(1,26) , np.int8).reshape(5,5)\n",
        "np.lib.stride_tricks.as_strided(x,shape=(3,3),strides =(1,5) )\n"
      ],
      "metadata": {
        "colab": {
          "base_uri": "https://localhost:8080/"
        },
        "id": "4DZI7mEOLFuC",
        "outputId": "4b4b2ee7-0c8f-4d6d-e911-1898fd3142f3"
      },
      "execution_count": null,
      "outputs": [
        {
          "output_type": "execute_result",
          "data": {
            "text/plain": [
              "array([[ 1,  6, 11],\n",
              "       [ 2,  7, 12],\n",
              "       [ 3,  8, 13]], dtype=int8)"
            ]
          },
          "metadata": {},
          "execution_count": 17
        }
      ]
    },
    {
      "cell_type": "markdown",
      "source": [
        "similar"
      ],
      "metadata": {
        "id": "aHmzADVRLnbr"
      }
    },
    {
      "cell_type": "code",
      "source": [
        "x = np.asarray(range(1,26) , np.int8).reshape(5,5)\n",
        "\n",
        "x[:3,:3].T"
      ],
      "metadata": {
        "colab": {
          "base_uri": "https://localhost:8080/"
        },
        "id": "RgiP6wPALmnx",
        "outputId": "eff414aa-13d8-48a8-ba0d-2853e4a46304"
      },
      "execution_count": null,
      "outputs": [
        {
          "output_type": "execute_result",
          "data": {
            "text/plain": [
              "array([[ 1,  6, 11],\n",
              "       [ 2,  7, 12],\n",
              "       [ 3,  8, 13]], dtype=int8)"
            ]
          },
          "metadata": {},
          "execution_count": 18
        }
      ]
    },
    {
      "cell_type": "markdown",
      "source": [
        "12 ) repeat first column 4 times  \n",
        "input item size : 4 bytes"
      ],
      "metadata": {
        "id": "xPyzK_KIMD7x"
      }
    },
    {
      "cell_type": "code",
      "source": [
        "x = np.asarray(range(1,26) , np.int32).reshape(5,5)\n",
        "\n",
        "np.lib.stride_tricks.as_strided(x,shape=(5,4),strides=(20,0))"
      ],
      "metadata": {
        "colab": {
          "base_uri": "https://localhost:8080/"
        },
        "id": "qVeifIX0Lvih",
        "outputId": "a1512938-1880-4ee0-8ce6-d0ee37c852be"
      },
      "execution_count": null,
      "outputs": [
        {
          "output_type": "execute_result",
          "data": {
            "text/plain": [
              "array([[ 1,  1,  1,  1],\n",
              "       [ 6,  6,  6,  6],\n",
              "       [11, 11, 11, 11],\n",
              "       [16, 16, 16, 16],\n",
              "       [21, 21, 21, 21]], dtype=int32)"
            ]
          },
          "metadata": {},
          "execution_count": 19
        }
      ]
    },
    {
      "cell_type": "markdown",
      "source": [
        "similar"
      ],
      "metadata": {
        "id": "XyZgZHK5MgQo"
      }
    },
    {
      "cell_type": "code",
      "source": [
        "x = np.asarray(range(1,26) , np.int32).reshape(5,5)\n",
        "\n",
        "np.broadcast_to(x[:,0,None], (5,4))"
      ],
      "metadata": {
        "colab": {
          "base_uri": "https://localhost:8080/"
        },
        "id": "CEfQDwgsMg2B",
        "outputId": "5a14c06a-85f0-4ff7-bef4-3ce39575195f"
      },
      "execution_count": null,
      "outputs": [
        {
          "output_type": "execute_result",
          "data": {
            "text/plain": [
              "array([[ 1,  1,  1,  1],\n",
              "       [ 6,  6,  6,  6],\n",
              "       [11, 11, 11, 11],\n",
              "       [16, 16, 16, 16],\n",
              "       [21, 21, 21, 21]], dtype=int32)"
            ]
          },
          "metadata": {},
          "execution_count": 20
        }
      ]
    },
    {
      "cell_type": "markdown",
      "source": [
        "13 )  reshape 1d array  \n",
        "nput itemsize: 8 bytes | Input strides: (8,)"
      ],
      "metadata": {
        "id": "hAsZPqFyMuN_"
      }
    },
    {
      "cell_type": "code",
      "source": [
        "x = np.asarray(range(1,13) , np.int64 )\n",
        "\n",
        "np.lib.stride_tricks.as_strided(x,shape=(4,3) , strides = (24,8) )\n"
      ],
      "metadata": {
        "id": "3IAf5vN1Mtpz",
        "colab": {
          "base_uri": "https://localhost:8080/"
        },
        "outputId": "cb136ef1-d00d-46a7-956f-a6d46aac5a3c"
      },
      "execution_count": 5,
      "outputs": [
        {
          "output_type": "execute_result",
          "data": {
            "text/plain": [
              "array([[ 1,  2,  3],\n",
              "       [ 4,  5,  6],\n",
              "       [ 7,  8,  9],\n",
              "       [10, 11, 12]])"
            ]
          },
          "metadata": {},
          "execution_count": 5
        }
      ]
    },
    {
      "cell_type": "markdown",
      "source": [
        "similar"
      ],
      "metadata": {
        "id": "ttLIZcyN-rZK"
      }
    },
    {
      "cell_type": "code",
      "source": [
        "x.reshape(4,3)"
      ],
      "metadata": {
        "colab": {
          "base_uri": "https://localhost:8080/"
        },
        "id": "R5569h3I-rAH",
        "outputId": "721fe6e0-a4c5-4b3b-d960-5aa2da94cabb"
      },
      "execution_count": 7,
      "outputs": [
        {
          "output_type": "execute_result",
          "data": {
            "text/plain": [
              "array([[ 1,  2,  3],\n",
              "       [ 4,  5,  6],\n",
              "       [ 7,  8,  9],\n",
              "       [10, 11, 12]])"
            ]
          },
          "metadata": {},
          "execution_count": 7
        }
      ]
    },
    {
      "cell_type": "markdown",
      "source": [
        "14) Slide a 1D window  \n",
        "\n",
        "Input itemsize: 1 byte | Input strides: (1,"
      ],
      "metadata": {
        "id": "HuMD7BAg-wAD"
      }
    },
    {
      "cell_type": "code",
      "source": [
        "x = np.asarray(range(1,11) , np.int8) \n",
        "\n",
        "np.lib.stride_tricks.as_strided(x , shape = (8,3) , strides = (1,1))"
      ],
      "metadata": {
        "colab": {
          "base_uri": "https://localhost:8080/"
        },
        "id": "a47kB7tP-tiW",
        "outputId": "d376fe22-63a0-4291-a4e3-05c8ea9b8947"
      },
      "execution_count": 9,
      "outputs": [
        {
          "output_type": "execute_result",
          "data": {
            "text/plain": [
              "array([[ 1,  2,  3],\n",
              "       [ 2,  3,  4],\n",
              "       [ 3,  4,  5],\n",
              "       [ 4,  5,  6],\n",
              "       [ 5,  6,  7],\n",
              "       [ 6,  7,  8],\n",
              "       [ 7,  8,  9],\n",
              "       [ 8,  9, 10]], dtype=int8)"
            ]
          },
          "metadata": {},
          "execution_count": 9
        }
      ]
    },
    {
      "cell_type": "markdown",
      "source": [
        "similar"
      ],
      "metadata": {
        "id": "XjMfmZC0_Ktj"
      }
    },
    {
      "cell_type": "code",
      "source": [
        "# 이것을 할 수 있는 method가 없다."
      ],
      "metadata": {
        "id": "_n87_3L__KGk"
      },
      "execution_count": null,
      "outputs": []
    },
    {
      "cell_type": "markdown",
      "source": [
        "15 ) Slide a 2D window then flatten   \n",
        "  \n",
        "nput itemsize: 1 byte | Input strides: (2, 1\n"
      ],
      "metadata": {
        "id": "4DIsFTLB_V_u"
      }
    },
    {
      "cell_type": "code",
      "source": [
        "x = np.asarray(         [0,1,10,11,20,21,30,31,40,41,50,51],np.int8).reshape(6,2)\n",
        "\n",
        "np.lib.stride_tricks.as_strided(x , shape=(4,6) , strides = (2,1))"
      ],
      "metadata": {
        "colab": {
          "base_uri": "https://localhost:8080/"
        },
        "id": "zS7myM8f_caE",
        "outputId": "97e16b38-97ae-4b73-b6f1-6cd905b3860d"
      },
      "execution_count": 11,
      "outputs": [
        {
          "output_type": "execute_result",
          "data": {
            "text/plain": [
              "array([[ 0,  1, 10, 11, 20, 21],\n",
              "       [10, 11, 20, 21, 30, 31],\n",
              "       [20, 21, 30, 31, 40, 41],\n",
              "       [30, 31, 40, 41, 50, 51]], dtype=int8)"
            ]
          },
          "metadata": {},
          "execution_count": 11
        }
      ]
    },
    {
      "cell_type": "markdown",
      "source": [
        "similar"
      ],
      "metadata": {
        "id": "CYoB9VxBAGYE"
      }
    },
    {
      "cell_type": "code",
      "source": [
        "# 이것을 비슷하게 할 수는 없다.\n"
      ],
      "metadata": {
        "id": "gp1gV_FYAGyJ"
      },
      "execution_count": null,
      "outputs": []
    },
    {
      "cell_type": "markdown",
      "source": [
        "16 ) collapse an axis from an 3-D array  \n",
        "Input itemsize: 1 byte | "
      ],
      "metadata": {
        "id": "j1uBCZb2AJC7"
      }
    },
    {
      "cell_type": "code",
      "source": [
        "x = np.asarray(range(1,13),np.int8).reshape(3,2,2)\n",
        "\n",
        "np.lib.stride_tricks.as_strided(x, shape = (3,4) , strides = (4,1))"
      ],
      "metadata": {
        "colab": {
          "base_uri": "https://localhost:8080/"
        },
        "id": "uWDsJCBIATZk",
        "outputId": "3ea39ba8-7402-4021-b590-c393159e0c4e"
      },
      "execution_count": 12,
      "outputs": [
        {
          "output_type": "execute_result",
          "data": {
            "text/plain": [
              "array([[ 1,  2,  3,  4],\n",
              "       [ 5,  6,  7,  8],\n",
              "       [ 9, 10, 11, 12]], dtype=int8)"
            ]
          },
          "metadata": {},
          "execution_count": 12
        }
      ]
    },
    {
      "cell_type": "markdown",
      "source": [
        "similar"
      ],
      "metadata": {
        "id": "Nlj9DbGyAuim"
      }
    },
    {
      "cell_type": "code",
      "source": [
        "x.reshape(3,4)"
      ],
      "metadata": {
        "colab": {
          "base_uri": "https://localhost:8080/"
        },
        "id": "VH5ShCahAvFy",
        "outputId": "b1b9c97c-ecda-4feb-c6f3-eca678b3cd42"
      },
      "execution_count": 13,
      "outputs": [
        {
          "output_type": "execute_result",
          "data": {
            "text/plain": [
              "array([[ 1,  2,  3,  4],\n",
              "       [ 5,  6,  7,  8],\n",
              "       [ 9, 10, 11, 12]], dtype=int8)"
            ]
          },
          "metadata": {},
          "execution_count": 13
        }
      ]
    },
    {
      "cell_type": "markdown",
      "source": [
        "# 3D exercises"
      ],
      "metadata": {
        "id": "idXSXalMAxGp"
      }
    },
    {
      "cell_type": "markdown",
      "source": [
        "17) 2 cornsers  \n",
        "Input itemsize: 2 bytes"
      ],
      "metadata": {
        "id": "uS2MxcN5A164"
      }
    },
    {
      "cell_type": "code",
      "source": [
        "x = np.asarray(range(1,26) , np.int16).reshape(5,5)\n",
        "\n",
        "np.lib.stride_tricks.as_strided(x , shape = (2,2,2) ,strides = (30,10,2))"
      ],
      "metadata": {
        "colab": {
          "base_uri": "https://localhost:8080/"
        },
        "id": "kEYU2FN3AwqK",
        "outputId": "c1b6a570-b3e7-40c2-eff1-f02317df588b"
      },
      "execution_count": 15,
      "outputs": [
        {
          "output_type": "execute_result",
          "data": {
            "text/plain": [
              "array([[[ 1,  2],\n",
              "        [ 6,  7]],\n",
              "\n",
              "       [[16, 17],\n",
              "        [21, 22]]], dtype=int16)"
            ]
          },
          "metadata": {},
          "execution_count": 15
        }
      ]
    },
    {
      "cell_type": "markdown",
      "source": [
        "similar"
      ],
      "metadata": {
        "id": "LjfLqBPeBavv"
      }
    },
    {
      "cell_type": "code",
      "source": [
        " # this may not be achieved concisely"
      ],
      "metadata": {
        "id": "YpWw5hG5BbON"
      },
      "execution_count": null,
      "outputs": []
    },
    {
      "cell_type": "markdown",
      "source": [
        "18 ) Straggered Slicing  \n",
        "Inputitem 1bytes"
      ],
      "metadata": {
        "id": "LE0uui9MBcVA"
      }
    },
    {
      "cell_type": "code",
      "source": [
        "x = np.asarray(range(1,26) , np.int8).reshape(5,5)\n",
        "\n",
        "np.lib.stride_tricks.as_strided(x , shape=(2,2,3 ), strides = (10,6,1))"
      ],
      "metadata": {
        "colab": {
          "base_uri": "https://localhost:8080/"
        },
        "id": "cnh54rdhBisF",
        "outputId": "45dcfbc7-824d-4de9-cc9c-cecb98b8437d"
      },
      "execution_count": 16,
      "outputs": [
        {
          "output_type": "execute_result",
          "data": {
            "text/plain": [
              "array([[[ 1,  2,  3],\n",
              "        [ 7,  8,  9]],\n",
              "\n",
              "       [[11, 12, 13],\n",
              "        [17, 18, 19]]], dtype=int8)"
            ]
          },
          "metadata": {},
          "execution_count": 16
        }
      ]
    },
    {
      "cell_type": "markdown",
      "source": [
        "similar"
      ],
      "metadata": {
        "id": "VAON1Y60CCwr"
      }
    },
    {
      "cell_type": "code",
      "source": [
        "# method로 비슷한게 없다. "
      ],
      "metadata": {
        "id": "PueSEfggCCWH"
      },
      "execution_count": null,
      "outputs": []
    },
    {
      "cell_type": "markdown",
      "source": [
        "19 ) Repeat a 2D array  \n",
        "input item 2bytes\n"
      ],
      "metadata": {
        "id": "wxGAWFBACHZu"
      }
    },
    {
      "cell_type": "code",
      "source": [
        "x = np.asarray(range(1,26) , np.int16).reshape(5,5)\n",
        "\n",
        "np.lib.stride_tricks.as_strided(x , shape=(3,2,4) , strides = (0,10,2))"
      ],
      "metadata": {
        "colab": {
          "base_uri": "https://localhost:8080/"
        },
        "id": "FGNv_H0qCG9Y",
        "outputId": "d18016b5-99ba-4430-d87b-e47f2d6c399f"
      },
      "execution_count": 18,
      "outputs": [
        {
          "output_type": "execute_result",
          "data": {
            "text/plain": [
              "array([[[1, 2, 3, 4],\n",
              "        [6, 7, 8, 9]],\n",
              "\n",
              "       [[1, 2, 3, 4],\n",
              "        [6, 7, 8, 9]],\n",
              "\n",
              "       [[1, 2, 3, 4],\n",
              "        [6, 7, 8, 9]]], dtype=int16)"
            ]
          },
          "metadata": {},
          "execution_count": 18
        }
      ]
    },
    {
      "cell_type": "markdown",
      "source": [
        "similar"
      ],
      "metadata": {
        "id": "eoQvEzTkC-Ys"
      }
    },
    {
      "cell_type": "code",
      "source": [
        "#  method로 비슷한게 없다."
      ],
      "metadata": {
        "id": "260OE3_MC_B_"
      },
      "execution_count": null,
      "outputs": []
    },
    {
      "cell_type": "markdown",
      "source": [
        "20 ) 3D transpose  \n",
        "Input item 4bytes"
      ],
      "metadata": {
        "id": "pJOnY-aCDAa5"
      }
    },
    {
      "cell_type": "code",
      "source": [
        "x = np.asarray(range(1,13) , np.int32).reshape(3,2,2)\n",
        "\n",
        "np.lib.stride_tricks.as_strided(x , shape=(3,2,2) , strides = (16,4,8))"
      ],
      "metadata": {
        "colab": {
          "base_uri": "https://localhost:8080/"
        },
        "id": "YKFkJ0MtDE_X",
        "outputId": "3dd8974a-26de-4d26-cbcc-8248a38b7e16"
      },
      "execution_count": 20,
      "outputs": [
        {
          "output_type": "execute_result",
          "data": {
            "text/plain": [
              "array([[[ 1,  3],\n",
              "        [ 2,  4]],\n",
              "\n",
              "       [[ 5,  7],\n",
              "        [ 6,  8]],\n",
              "\n",
              "       [[ 9, 11],\n",
              "        [10, 12]]], dtype=int32)"
            ]
          },
          "metadata": {},
          "execution_count": 20
        }
      ]
    },
    {
      "cell_type": "markdown",
      "source": [
        "similar"
      ],
      "metadata": {
        "id": "dJzYwB99FQeD"
      }
    },
    {
      "cell_type": "code",
      "source": [
        "np.swapaxes(x,1,2)"
      ],
      "metadata": {
        "colab": {
          "base_uri": "https://localhost:8080/"
        },
        "id": "YI3dAzX6FQ3b",
        "outputId": "905c4397-a5cb-4b6e-9a72-0d6cf5d39ef0"
      },
      "execution_count": 21,
      "outputs": [
        {
          "output_type": "execute_result",
          "data": {
            "text/plain": [
              "array([[[ 1,  3],\n",
              "        [ 2,  4]],\n",
              "\n",
              "       [[ 5,  7],\n",
              "        [ 6,  8]],\n",
              "\n",
              "       [[ 9, 11],\n",
              "        [10, 12]]], dtype=int32)"
            ]
          },
          "metadata": {},
          "execution_count": 21
        }
      ]
    },
    {
      "cell_type": "markdown",
      "source": [
        "21) slide 2d array  \n",
        "Input item ; 8bytes"
      ],
      "metadata": {
        "id": "dtd1F6AwFeWc"
      }
    },
    {
      "cell_type": "code",
      "source": [
        "x = np.asarray(range(1,21) , np.int64).reshape(4,5)\n",
        "\n",
        "np.lib.stride_tricks.as_strided(x, shape = (3,2,5) , strides = (40,40,8))"
      ],
      "metadata": {
        "colab": {
          "base_uri": "https://localhost:8080/"
        },
        "id": "34G6gugKFhH9",
        "outputId": "0fc8b1ba-4d37-4d7f-d5c4-d1e3f79fa704"
      },
      "execution_count": 22,
      "outputs": [
        {
          "output_type": "execute_result",
          "data": {
            "text/plain": [
              "array([[[ 1,  2,  3,  4,  5],\n",
              "        [ 6,  7,  8,  9, 10]],\n",
              "\n",
              "       [[ 6,  7,  8,  9, 10],\n",
              "        [11, 12, 13, 14, 15]],\n",
              "\n",
              "       [[11, 12, 13, 14, 15],\n",
              "        [16, 17, 18, 19, 20]]])"
            ]
          },
          "metadata": {},
          "execution_count": 22
        }
      ]
    },
    {
      "cell_type": "markdown",
      "source": [
        "similar"
      ],
      "metadata": {
        "id": "LmNnETLMF_hC"
      }
    },
    {
      "cell_type": "code",
      "source": [
        "#  method로 할 수 없다. "
      ],
      "metadata": {
        "id": "-aQtOKpwGHXI"
      },
      "execution_count": null,
      "outputs": []
    },
    {
      "cell_type": "markdown",
      "source": [
        "22 ) Reshape 1 d array to 3d   \n",
        "input item : 1bytes"
      ],
      "metadata": {
        "id": "6stldHByGKEo"
      }
    },
    {
      "cell_type": "code",
      "source": [
        "x = np.asarray(range(1,13) , np.int8)\n",
        "\n",
        "np.lib.stride_tricks.as_strided(x,shape=(2,2,3) , strides = ( 6,3,1))"
      ],
      "metadata": {
        "colab": {
          "base_uri": "https://localhost:8080/"
        },
        "id": "oED8MkMuGI5l",
        "outputId": "b06905e9-5255-45f1-97cf-d9f011f7008d"
      },
      "execution_count": 23,
      "outputs": [
        {
          "output_type": "execute_result",
          "data": {
            "text/plain": [
              "array([[[ 1,  2,  3],\n",
              "        [ 4,  5,  6]],\n",
              "\n",
              "       [[ 7,  8,  9],\n",
              "        [10, 11, 12]]], dtype=int8)"
            ]
          },
          "metadata": {},
          "execution_count": 23
        }
      ]
    },
    {
      "cell_type": "markdown",
      "source": [
        "similar"
      ],
      "metadata": {
        "id": "-Wc8Khp2GmHx"
      }
    },
    {
      "cell_type": "code",
      "source": [
        "x.reshape(2,2,3)"
      ],
      "metadata": {
        "colab": {
          "base_uri": "https://localhost:8080/"
        },
        "id": "paKp0e8XF5Ot",
        "outputId": "a72bc1c3-60bc-47d4-d687-aaaee555d380"
      },
      "execution_count": 24,
      "outputs": [
        {
          "output_type": "execute_result",
          "data": {
            "text/plain": [
              "array([[[ 1,  2,  3],\n",
              "        [ 4,  5,  6]],\n",
              "\n",
              "       [[ 7,  8,  9],\n",
              "        [10, 11, 12]]], dtype=int8)"
            ]
          },
          "metadata": {},
          "execution_count": 24
        }
      ]
    },
    {
      "cell_type": "markdown",
      "source": [
        "# 4D exrcises"
      ],
      "metadata": {
        "id": "gxpJCva3GqqT"
      }
    },
    {
      "cell_type": "markdown",
      "source": [
        "23 ) Slide a 2D respective field for convolutions  \n",
        "input item : 1bytes"
      ],
      "metadata": {
        "id": "jhKMLlx4GujD"
      }
    },
    {
      "cell_type": "code",
      "source": [
        "x = np.asarray(range(1,26) , np.int8)\n",
        "\n",
        "np.lib.stride_tricks.as_strided(x, shape =(2,2,3,3) , strides =(10,2,5,1))"
      ],
      "metadata": {
        "colab": {
          "base_uri": "https://localhost:8080/"
        },
        "id": "HxmJkEK2Gz1q",
        "outputId": "337d85e8-e656-4a5a-d66b-51baafdeb502"
      },
      "execution_count": 28,
      "outputs": [
        {
          "output_type": "execute_result",
          "data": {
            "text/plain": [
              "array([[[[ 1,  2,  3],\n",
              "         [ 6,  7,  8],\n",
              "         [11, 12, 13]],\n",
              "\n",
              "        [[ 3,  4,  5],\n",
              "         [ 8,  9, 10],\n",
              "         [13, 14, 15]]],\n",
              "\n",
              "\n",
              "       [[[11, 12, 13],\n",
              "         [16, 17, 18],\n",
              "         [21, 22, 23]],\n",
              "\n",
              "        [[13, 14, 15],\n",
              "         [18, 19, 20],\n",
              "         [23, 24, 25]]]], dtype=int8)"
            ]
          },
          "metadata": {},
          "execution_count": 28
        }
      ]
    },
    {
      "cell_type": "markdown",
      "source": [
        "similar"
      ],
      "metadata": {
        "id": "gwD3NTI-H4Ve"
      }
    },
    {
      "cell_type": "code",
      "source": [
        "#  no simliar method"
      ],
      "metadata": {
        "id": "_5qPDLz3H5L7"
      },
      "execution_count": null,
      "outputs": []
    },
    {
      "cell_type": "markdown",
      "source": [
        "24) Repeat a 3D tensor  \n",
        "\n",
        "input item : 8 bytes"
      ],
      "metadata": {
        "id": "ox6_IuTeH6qt"
      }
    },
    {
      "cell_type": "code",
      "source": [
        "x = np.asarray(range(1,13) , np.int64).reshape(2,2,3)\n",
        "\n",
        "np.lib.stride_tricks.as_strided(x, shape =(2,2,2,3)  , strides = (48,0 ,24,8))"
      ],
      "metadata": {
        "colab": {
          "base_uri": "https://localhost:8080/"
        },
        "id": "YFJsU-4fH6Qe",
        "outputId": "c82b7756-3d50-4a7f-b88b-dbfd243da68c"
      },
      "execution_count": 29,
      "outputs": [
        {
          "output_type": "execute_result",
          "data": {
            "text/plain": [
              "array([[[[ 1,  2,  3],\n",
              "         [ 4,  5,  6]],\n",
              "\n",
              "        [[ 1,  2,  3],\n",
              "         [ 4,  5,  6]]],\n",
              "\n",
              "\n",
              "       [[[ 7,  8,  9],\n",
              "         [10, 11, 12]],\n",
              "\n",
              "        [[ 7,  8,  9],\n",
              "         [10, 11, 12]]]])"
            ]
          },
          "metadata": {},
          "execution_count": 29
        }
      ]
    },
    {
      "cell_type": "markdown",
      "source": [
        "similar"
      ],
      "metadata": {
        "id": "nzPo63wMIptz"
      }
    },
    {
      "cell_type": "code",
      "source": [
        "#  no similar method"
      ],
      "metadata": {
        "id": "I0lITXNCIqfC"
      },
      "execution_count": null,
      "outputs": []
    },
    {
      "cell_type": "markdown",
      "source": [
        "25 ) Reshape 1D array to 4D array  \n",
        "input item : 8 bytes  "
      ],
      "metadata": {
        "id": "lWrJHH6OIrqE"
      }
    },
    {
      "cell_type": "code",
      "source": [
        "x = np.asarray(range(1,16) , np.int64)\n",
        "\n",
        "np.lib.stride_tricks.as_strided(x, shape = (2,2,2,2) , strides = (64,32,16,8))"
      ],
      "metadata": {
        "colab": {
          "base_uri": "https://localhost:8080/"
        },
        "id": "3Hzb4qy-IviH",
        "outputId": "3f1d49ac-71e5-4650-e4a2-3aa4189cb407"
      },
      "execution_count": 30,
      "outputs": [
        {
          "output_type": "execute_result",
          "data": {
            "text/plain": [
              "array([[[[ 1,  2],\n",
              "         [ 3,  4]],\n",
              "\n",
              "        [[ 5,  6],\n",
              "         [ 7,  8]]],\n",
              "\n",
              "\n",
              "       [[[ 9, 10],\n",
              "         [11, 12]],\n",
              "\n",
              "        [[13, 14],\n",
              "         [15,  0]]]])"
            ]
          },
          "metadata": {},
          "execution_count": 30
        }
      ]
    }
  ]
}
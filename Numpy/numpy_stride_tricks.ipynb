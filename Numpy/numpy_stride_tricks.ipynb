{
  "nbformat": 4,
  "nbformat_minor": 0,
  "metadata": {
    "colab": {
      "name": "numpy_stride_tricks.ipynb",
      "provenance": [],
      "collapsed_sections": [],
      "authorship_tag": "ABX9TyM46SnYKIAwe451j1tLItOR",
      "include_colab_link": true
    },
    "kernelspec": {
      "name": "python3",
      "display_name": "Python 3"
    },
    "language_info": {
      "name": "python"
    }
  },
  "cells": [
    {
      "cell_type": "markdown",
      "metadata": {
        "id": "view-in-github",
        "colab_type": "text"
      },
      "source": [
        "<a href=\"https://colab.research.google.com/github/woongjoonchoi/Tutorials/blob/main/Numpy/numpy_stride_tricks.ipynb\" target=\"_parent\"><img src=\"https://colab.research.google.com/assets/colab-badge.svg\" alt=\"Open In Colab\"/></a>"
      ]
    },
    {
      "cell_type": "code",
      "execution_count": 1,
      "metadata": {
        "id": "QxUpuF2QR0K7"
      },
      "outputs": [],
      "source": [
        "import numpy as np"
      ]
    },
    {
      "cell_type": "markdown",
      "source": [
        "Practice from : https://towardsdatascience.com/advanced-numpy-master-stride-tricks-with-25-illustrated-exercises-923a9393ab20#9c37"
      ],
      "metadata": {
        "id": "1hRVL0q-oO1h"
      }
    },
    {
      "cell_type": "markdown",
      "source": [
        "# 1D exercise"
      ],
      "metadata": {
        "id": "Um-w5tcMR7aA"
      }
    },
    {
      "cell_type": "markdown",
      "source": [
        "1) slice first 3 elements"
      ],
      "metadata": {
        "id": "km8OC3F_SBFC"
      }
    },
    {
      "cell_type": "code",
      "source": [
        "x = np.asarray(range(1,26) , np.int8).reshape(5,5)\n",
        "x=np.lib.stride_tricks.as_strided(x,shape=(3,) , strides =(1,))\n",
        "print(x)"
      ],
      "metadata": {
        "colab": {
          "base_uri": "https://localhost:8080/"
        },
        "id": "FgyMfjNxR6Vc",
        "outputId": "1ec27d84-acec-4ac6-9d8e-79ff0e897c8c"
      },
      "execution_count": 6,
      "outputs": [
        {
          "output_type": "stream",
          "name": "stdout",
          "text": [
            "[1 2 3]\n"
          ]
        }
      ]
    },
    {
      "cell_type": "markdown",
      "source": [
        "similar"
      ],
      "metadata": {
        "id": "jCBePd6-Jv-f"
      }
    },
    {
      "cell_type": "code",
      "source": [
        "x = np.asarray(range(1,26) , np.int8).reshape(5,5)\n",
        "print(x[0,:3])"
      ],
      "metadata": {
        "colab": {
          "base_uri": "https://localhost:8080/"
        },
        "id": "xtb7-rAvJvjQ",
        "outputId": "b321daa6-06aa-44fa-c2eb-872414a00271"
      },
      "execution_count": 7,
      "outputs": [
        {
          "output_type": "stream",
          "name": "stdout",
          "text": [
            "[1 2 3]\n"
          ]
        }
      ]
    },
    {
      "cell_type": "markdown",
      "source": [
        "2)slice first 8 elements"
      ],
      "metadata": {
        "id": "oPbXfAmdSe7Z"
      }
    },
    {
      "cell_type": "code",
      "source": [
        "x= np.asarray(range(1,26) , np.int8).reshape(5,5)\n",
        "\n",
        "x= np.lib.stride_tricks.as_strided(x,shape=(8,) , strides=(1,))\n",
        "\n",
        "print(x)"
      ],
      "metadata": {
        "id": "xxnFXl_JSeZ6",
        "colab": {
          "base_uri": "https://localhost:8080/"
        },
        "outputId": "ec4929a2-941a-4cdd-c719-98489f7a8750"
      },
      "execution_count": null,
      "outputs": [
        {
          "output_type": "stream",
          "name": "stdout",
          "text": [
            "[1 2 3 4 5 6 7 8]\n"
          ]
        }
      ]
    },
    {
      "cell_type": "markdown",
      "source": [
        "simliar\n"
      ],
      "metadata": {
        "id": "E0LIafCBJ5S0"
      }
    },
    {
      "cell_type": "code",
      "source": [
        "x= np.asarray(range(1,26) , np.int8).reshape(5,5)\n",
        "\n",
        "print(x[0,:8])\n"
      ],
      "metadata": {
        "colab": {
          "base_uri": "https://localhost:8080/"
        },
        "id": "7QSJHYAIJ6Ip",
        "outputId": "95d2e32d-3c99-41b2-8bb3-e78ca6510d5c"
      },
      "execution_count": 10,
      "outputs": [
        {
          "output_type": "stream",
          "name": "stdout",
          "text": [
            "[1 2 3 4 5]\n"
          ]
        }
      ]
    },
    {
      "cell_type": "markdown",
      "source": [
        "3)flatten 2-d array  \n",
        "input item: 2bytes"
      ],
      "metadata": {
        "id": "eqEbv9XglKaI"
      }
    },
    {
      "cell_type": "code",
      "source": [
        "x = np.asarray(range(1,26) , np.int16).reshape(5,5)\n",
        "x=np.lib.stride_tricks.as_strided(x,shape=(25,) ,strides =(2,))\n",
        "# a=np.array([1,3])\n",
        "print(x)\n",
        "# print(a is np.asarray(a))"
      ],
      "metadata": {
        "colab": {
          "base_uri": "https://localhost:8080/"
        },
        "id": "p2obvh8LlREL",
        "outputId": "10658c96-de0d-4d38-e290-eef2f2d3117c"
      },
      "execution_count": null,
      "outputs": [
        {
          "output_type": "stream",
          "name": "stdout",
          "text": [
            "[ 1  2  3  4  5  6  7  8  9 10 11 12 13 14 15 16 17 18 19 20 21 22 23 24\n",
            " 25]\n"
          ]
        }
      ]
    },
    {
      "cell_type": "markdown",
      "source": [
        "similar"
      ],
      "metadata": {
        "id": "wJA_BL80KOaj"
      }
    },
    {
      "cell_type": "code",
      "source": [
        "x = np.asarray(range(1,26) , np.int16).reshape(5,5)\n",
        "x.ravel()"
      ],
      "metadata": {
        "colab": {
          "base_uri": "https://localhost:8080/"
        },
        "id": "sb2fmEx5KPPe",
        "outputId": "2e015bf7-7c8e-471d-e41f-1602dde3f616"
      },
      "execution_count": 11,
      "outputs": [
        {
          "output_type": "execute_result",
          "data": {
            "text/plain": [
              "array([ 1,  2,  3,  4,  5,  6,  7,  8,  9, 10, 11, 12, 13, 14, 15, 16, 17,\n",
              "       18, 19, 20, 21, 22, 23, 24, 25], dtype=int16)"
            ]
          },
          "metadata": {},
          "execution_count": 11
        }
      ]
    },
    {
      "cell_type": "markdown",
      "source": [
        "4) skipe every other element\n",
        "input item : 1bytes"
      ],
      "metadata": {
        "id": "MxnsrnrQmMYE"
      }
    },
    {
      "cell_type": "code",
      "source": [
        "x = np.asarray(range(1,26) , np.int8).reshape(5,5)\n",
        "x = np.lib.stride_tricks.as_strided(x,shape=(3,),strides=(2,))\n",
        "print(x)"
      ],
      "metadata": {
        "colab": {
          "base_uri": "https://localhost:8080/"
        },
        "id": "QcPmCJaUmFvp",
        "outputId": "ddccb9cc-3031-4839-bbf0-9bec532c19b2"
      },
      "execution_count": null,
      "outputs": [
        {
          "output_type": "stream",
          "name": "stdout",
          "text": [
            "[1 3 5]\n"
          ]
        }
      ]
    },
    {
      "cell_type": "markdown",
      "source": [
        "5)slice first column  \n",
        "input item : 8 bytes"
      ],
      "metadata": {
        "id": "TFRkURMTmleV"
      }
    },
    {
      "cell_type": "code",
      "source": [
        "x = np.asarray(range(1,26) , np.int64).reshape(5,5)\n",
        "x=np.lib.stride_tricks.as_strided(x,shape=(5,),strides =(40,) )\n",
        "print(x)"
      ],
      "metadata": {
        "colab": {
          "base_uri": "https://localhost:8080/"
        },
        "id": "gZoAhV_XmkYb",
        "outputId": "bc7b3182-02f9-428f-b6ce-73976d314652"
      },
      "execution_count": null,
      "outputs": [
        {
          "output_type": "stream",
          "name": "stdout",
          "text": [
            "[ 1  6 11 16 21]\n"
          ]
        }
      ]
    },
    {
      "cell_type": "markdown",
      "source": [
        "similar"
      ],
      "metadata": {
        "id": "oBg97SYnKXEq"
      }
    },
    {
      "cell_type": "code",
      "source": [
        "x = np.asarray(range(1,26) , np.int64).reshape(5,5)\n",
        "\n",
        "x[0,::2]"
      ],
      "metadata": {
        "colab": {
          "base_uri": "https://localhost:8080/"
        },
        "id": "mbPFCMCTKXpP",
        "outputId": "7240d4d4-0833-4a44-c6a5-14a8f703b438"
      },
      "execution_count": 12,
      "outputs": [
        {
          "output_type": "execute_result",
          "data": {
            "text/plain": [
              "array([1, 3, 5])"
            ]
          },
          "metadata": {},
          "execution_count": 12
        }
      ]
    },
    {
      "cell_type": "markdown",
      "source": [
        "6)diagonal element  \n",
        "input item : 8 bytes"
      ],
      "metadata": {
        "id": "CK6W8i4dnmqX"
      }
    },
    {
      "cell_type": "code",
      "source": [
        "x= np.asarray(range(1,26) , np.int64).reshape(5,5)\n",
        "x=np.lib.stride_tricks.as_strided(x,shape=(5,),strides=(48,))\n",
        "print(x)"
      ],
      "metadata": {
        "colab": {
          "base_uri": "https://localhost:8080/"
        },
        "id": "XJFWta5enlPt",
        "outputId": "2edd7164-ae64-4154-cb27-386cb0f97484"
      },
      "execution_count": null,
      "outputs": [
        {
          "output_type": "stream",
          "name": "stdout",
          "text": [
            "[ 1  7 13 19 25]\n"
          ]
        }
      ]
    },
    {
      "cell_type": "markdown",
      "source": [
        "similar"
      ],
      "metadata": {
        "id": "bOugQ7YYKjBv"
      }
    },
    {
      "cell_type": "code",
      "source": [
        "x= np.asarray(range(1,26) , np.int64).reshape(5,5)\n",
        "x.diagonal()"
      ],
      "metadata": {
        "colab": {
          "base_uri": "https://localhost:8080/"
        },
        "id": "znWBEPH9KjZ0",
        "outputId": "0060dbd3-658d-431b-ae5a-2a7f3bb8886e"
      },
      "execution_count": 13,
      "outputs": [
        {
          "output_type": "execute_result",
          "data": {
            "text/plain": [
              "array([ 1,  7, 13, 19, 25])"
            ]
          },
          "metadata": {},
          "execution_count": 13
        }
      ]
    },
    {
      "cell_type": "markdown",
      "source": [
        "7)repeat element  \n",
        "input item : 8 bytes"
      ],
      "metadata": {
        "id": "R1v77iPgn6io"
      }
    },
    {
      "cell_type": "code",
      "source": [
        "x=np.asarray(range(1,26) , np.int64 ).reshape(5,5)\n",
        "x=np.lib.stride_tricks.as_strided(x , shape=(5,) , strides=(0,))\n",
        "print(x)"
      ],
      "metadata": {
        "colab": {
          "base_uri": "https://localhost:8080/"
        },
        "id": "UHi-jbAbn6BW",
        "outputId": "e585a22b-46f2-4838-eede-c41cb5ea8b9c"
      },
      "execution_count": null,
      "outputs": [
        {
          "output_type": "stream",
          "name": "stdout",
          "text": [
            "[1 1 1 1 1]\n"
          ]
        }
      ]
    },
    {
      "cell_type": "markdown",
      "source": [
        "simliar"
      ],
      "metadata": {
        "id": "aFEaVxd8Kp_9"
      }
    },
    {
      "cell_type": "code",
      "source": [
        ""
      ],
      "metadata": {
        "id": "Fz8fc508KpgB"
      },
      "execution_count": null,
      "outputs": []
    },
    {
      "cell_type": "markdown",
      "source": [
        "# 2D -exercise"
      ],
      "metadata": {
        "id": "4EPxLtejoMnH"
      }
    },
    {
      "cell_type": "markdown",
      "source": [
        "8) simple 2d slicing"
      ],
      "metadata": {
        "id": "lX9fJ0cNIKma"
      }
    },
    {
      "cell_type": "code",
      "source": [
        "x=np.asarray(range(1,26) , np.int64).reshape(5,5)\n",
        "x=np.lib.stride_tricks.as_strided(x,shape=(4,3) , strides=(40,8))\n",
        "print(x)"
      ],
      "metadata": {
        "colab": {
          "base_uri": "https://localhost:8080/"
        },
        "id": "z9-vTwEsoVYV",
        "outputId": "6913b1bd-8e11-45ff-db13-73c62073fd5c"
      },
      "execution_count": null,
      "outputs": [
        {
          "output_type": "stream",
          "name": "stdout",
          "text": [
            "[[ 1  2  3]\n",
            " [ 6  7  8]\n",
            " [11 12 13]\n",
            " [16 17 18]]\n"
          ]
        }
      ]
    },
    {
      "cell_type": "markdown",
      "source": [
        "9) Slice a zigzag\n",
        "\n",
        "Input itemsize: 8 bytes | Input strides: (40, 8)"
      ],
      "metadata": {
        "id": "laOLSEAsoOCp"
      }
    },
    {
      "cell_type": "code",
      "source": [
        "x = np.asarray(range(1,26) , np.int64).reshape(5,5)\n",
        "x = np.lib.stride_tricks.as_strided(x,shape=(4,2),strides=(48,8))\n",
        "print(x)"
      ],
      "metadata": {
        "colab": {
          "base_uri": "https://localhost:8080/"
        },
        "id": "YceaUWXtIQ8b",
        "outputId": "a8553b84-be26-4fdd-e2fe-a157c301d8d7"
      },
      "execution_count": 3,
      "outputs": [
        {
          "output_type": "stream",
          "name": "stdout",
          "text": [
            "[[ 1  2]\n",
            " [ 7  8]\n",
            " [13 14]\n",
            " [19 20]]\n"
          ]
        }
      ]
    },
    {
      "cell_type": "markdown",
      "source": [
        "10 ) sparse strding\n",
        "input itemsize : 8 bytes "
      ],
      "metadata": {
        "id": "qGII7b43JHee"
      }
    },
    {
      "cell_type": "code",
      "source": [
        "x = np.asarray(range(1,26) , np.int64 ).reshape(5,5)\n",
        "x = np.lib.stride_tricks.as_strided(x, shape = (3,3) , strides = (80,16))\n",
        "print(x)"
      ],
      "metadata": {
        "colab": {
          "base_uri": "https://localhost:8080/"
        },
        "id": "FsHcdwcxJExp",
        "outputId": "ebe2e290-858c-49db-fe2f-64d1b31d6a58"
      },
      "execution_count": 5,
      "outputs": [
        {
          "output_type": "stream",
          "name": "stdout",
          "text": [
            "[[ 1  3  5]\n",
            " [11 13 15]\n",
            " [21 23 25]]\n"
          ]
        }
      ]
    },
    {
      "cell_type": "markdown",
      "source": [
        "similar\n"
      ],
      "metadata": {
        "id": "THjN_3txK_vb"
      }
    },
    {
      "cell_type": "code",
      "source": [
        "x = np.asarray(range(1,26) , np.int64).reshape(5,5)\n",
        "x[::2,::2]"
      ],
      "metadata": {
        "colab": {
          "base_uri": "https://localhost:8080/"
        },
        "id": "w3bryvtkLAY9",
        "outputId": "20263b3e-4dd9-40d2-e5b6-eaadb42957f1"
      },
      "execution_count": 14,
      "outputs": [
        {
          "output_type": "execute_result",
          "data": {
            "text/plain": [
              "array([[ 1,  3,  5],\n",
              "       [11, 13, 15],\n",
              "       [21, 23, 25]])"
            ]
          },
          "metadata": {},
          "execution_count": 14
        }
      ]
    },
    {
      "cell_type": "markdown",
      "source": [
        "11 ) Transpose a 2d array  \n",
        "input item size : 1 byte"
      ],
      "metadata": {
        "id": "4OzNxWUVLHnE"
      }
    },
    {
      "cell_type": "code",
      "source": [
        "x = np.asarray(range(1,26) , np.int8).reshape(5,5)\n",
        "np.lib.stride_tricks.as_strided(x,shape=(3,3),strides =(1,5) )\n"
      ],
      "metadata": {
        "colab": {
          "base_uri": "https://localhost:8080/"
        },
        "id": "4DZI7mEOLFuC",
        "outputId": "4b4b2ee7-0c8f-4d6d-e911-1898fd3142f3"
      },
      "execution_count": 17,
      "outputs": [
        {
          "output_type": "execute_result",
          "data": {
            "text/plain": [
              "array([[ 1,  6, 11],\n",
              "       [ 2,  7, 12],\n",
              "       [ 3,  8, 13]], dtype=int8)"
            ]
          },
          "metadata": {},
          "execution_count": 17
        }
      ]
    },
    {
      "cell_type": "markdown",
      "source": [
        "similar"
      ],
      "metadata": {
        "id": "aHmzADVRLnbr"
      }
    },
    {
      "cell_type": "code",
      "source": [
        "x = np.asarray(range(1,26) , np.int8).reshape(5,5)\n",
        "\n",
        "x[:3,:3].T"
      ],
      "metadata": {
        "colab": {
          "base_uri": "https://localhost:8080/"
        },
        "id": "RgiP6wPALmnx",
        "outputId": "eff414aa-13d8-48a8-ba0d-2853e4a46304"
      },
      "execution_count": 18,
      "outputs": [
        {
          "output_type": "execute_result",
          "data": {
            "text/plain": [
              "array([[ 1,  6, 11],\n",
              "       [ 2,  7, 12],\n",
              "       [ 3,  8, 13]], dtype=int8)"
            ]
          },
          "metadata": {},
          "execution_count": 18
        }
      ]
    },
    {
      "cell_type": "markdown",
      "source": [
        "12 ) repeat first column 4 times  \n",
        "input item size : 4 bytes"
      ],
      "metadata": {
        "id": "xPyzK_KIMD7x"
      }
    },
    {
      "cell_type": "code",
      "source": [
        "x = np.asarray(range(1,26) , np.int32).reshape(5,5)\n",
        "\n",
        "np.lib.stride_tricks.as_strided(x,shape=(5,4),strides=(20,0))"
      ],
      "metadata": {
        "colab": {
          "base_uri": "https://localhost:8080/"
        },
        "id": "qVeifIX0Lvih",
        "outputId": "a1512938-1880-4ee0-8ce6-d0ee37c852be"
      },
      "execution_count": 19,
      "outputs": [
        {
          "output_type": "execute_result",
          "data": {
            "text/plain": [
              "array([[ 1,  1,  1,  1],\n",
              "       [ 6,  6,  6,  6],\n",
              "       [11, 11, 11, 11],\n",
              "       [16, 16, 16, 16],\n",
              "       [21, 21, 21, 21]], dtype=int32)"
            ]
          },
          "metadata": {},
          "execution_count": 19
        }
      ]
    },
    {
      "cell_type": "markdown",
      "source": [
        "similar"
      ],
      "metadata": {
        "id": "XyZgZHK5MgQo"
      }
    },
    {
      "cell_type": "code",
      "source": [
        "x = np.asarray(range(1,26) , np.int32).reshape(5,5)\n",
        "\n",
        "np.broadcast_to(x[:,0,None], (5,4))"
      ],
      "metadata": {
        "colab": {
          "base_uri": "https://localhost:8080/"
        },
        "id": "CEfQDwgsMg2B",
        "outputId": "5a14c06a-85f0-4ff7-bef4-3ce39575195f"
      },
      "execution_count": 20,
      "outputs": [
        {
          "output_type": "execute_result",
          "data": {
            "text/plain": [
              "array([[ 1,  1,  1,  1],\n",
              "       [ 6,  6,  6,  6],\n",
              "       [11, 11, 11, 11],\n",
              "       [16, 16, 16, 16],\n",
              "       [21, 21, 21, 21]], dtype=int32)"
            ]
          },
          "metadata": {},
          "execution_count": 20
        }
      ]
    },
    {
      "cell_type": "markdown",
      "source": [
        "13 ) "
      ],
      "metadata": {
        "id": "hAsZPqFyMuN_"
      }
    },
    {
      "cell_type": "code",
      "source": [
        ""
      ],
      "metadata": {
        "id": "3IAf5vN1Mtpz"
      },
      "execution_count": null,
      "outputs": []
    }
  ]
}
{
  "nbformat": 4,
  "nbformat_minor": 0,
  "metadata": {
    "colab": {
      "name": "numpy_stride_tricks.ipynb",
      "provenance": [],
      "collapsed_sections": [],
      "authorship_tag": "ABX9TyPhJmm6KtpD3sAQ/ezxyLrr",
      "include_colab_link": true
    },
    "kernelspec": {
      "name": "python3",
      "display_name": "Python 3"
    },
    "language_info": {
      "name": "python"
    }
  },
  "cells": [
    {
      "cell_type": "markdown",
      "metadata": {
        "id": "view-in-github",
        "colab_type": "text"
      },
      "source": [
        "<a href=\"https://colab.research.google.com/github/woongjoonchoi/Tutorials/blob/main/Numpy/numpy_stride_tricks.ipynb\" target=\"_parent\"><img src=\"https://colab.research.google.com/assets/colab-badge.svg\" alt=\"Open In Colab\"/></a>"
      ]
    },
    {
      "cell_type": "code",
      "execution_count": 2,
      "metadata": {
        "id": "QxUpuF2QR0K7"
      },
      "outputs": [],
      "source": [
        "import numpy as np"
      ]
    },
    {
      "cell_type": "markdown",
      "source": [
        "Practice from : https://towardsdatascience.com/advanced-numpy-master-stride-tricks-with-25-illustrated-exercises-923a9393ab20#9c37"
      ],
      "metadata": {
        "id": "1hRVL0q-oO1h"
      }
    },
    {
      "cell_type": "markdown",
      "source": [
        "# 1D exercise"
      ],
      "metadata": {
        "id": "Um-w5tcMR7aA"
      }
    },
    {
      "cell_type": "markdown",
      "source": [
        "1) slice first 3 elements"
      ],
      "metadata": {
        "id": "km8OC3F_SBFC"
      }
    },
    {
      "cell_type": "code",
      "source": [
        "x = np.asarray(range(1,26) , np.int8).reshape(5,5)\n",
        "x=np.lib.stride_tricks.as_strided(x,shape=(3,) , strides =(1,))\n",
        "print(x)"
      ],
      "metadata": {
        "colab": {
          "base_uri": "https://localhost:8080/"
        },
        "id": "FgyMfjNxR6Vc",
        "outputId": "cd6d229d-1f5c-42c5-dd43-d4740a62b8a3"
      },
      "execution_count": null,
      "outputs": [
        {
          "output_type": "stream",
          "name": "stdout",
          "text": [
            "[1 2 3]\n"
          ]
        }
      ]
    },
    {
      "cell_type": "markdown",
      "source": [
        "2)slice first 8 elements"
      ],
      "metadata": {
        "id": "oPbXfAmdSe7Z"
      }
    },
    {
      "cell_type": "code",
      "source": [
        "x= np.asarray(range(1,26) , np.int8).reshape(5,5)\n",
        "\n",
        "x= np.lib.stride_tricks.as_strided(x,shape=(8,) , strides=(1,))\n",
        "\n",
        "print(x)"
      ],
      "metadata": {
        "id": "xxnFXl_JSeZ6",
        "colab": {
          "base_uri": "https://localhost:8080/"
        },
        "outputId": "ec4929a2-941a-4cdd-c719-98489f7a8750"
      },
      "execution_count": 4,
      "outputs": [
        {
          "output_type": "stream",
          "name": "stdout",
          "text": [
            "[1 2 3 4 5 6 7 8]\n"
          ]
        }
      ]
    },
    {
      "cell_type": "markdown",
      "source": [
        "3)flatten 2-d array  \n",
        "input item: 2bytes"
      ],
      "metadata": {
        "id": "eqEbv9XglKaI"
      }
    },
    {
      "cell_type": "code",
      "source": [
        "x = np.asarray(range(1,26) , np.int16).reshape(5,5)\n",
        "x=np.lib.stride_tricks.as_strided(x,shape=(25,) ,strides =(2,))\n",
        "# a=np.array([1,3])\n",
        "print(x)\n",
        "# print(a is np.asarray(a))"
      ],
      "metadata": {
        "colab": {
          "base_uri": "https://localhost:8080/"
        },
        "id": "p2obvh8LlREL",
        "outputId": "10658c96-de0d-4d38-e290-eef2f2d3117c"
      },
      "execution_count": 9,
      "outputs": [
        {
          "output_type": "stream",
          "name": "stdout",
          "text": [
            "[ 1  2  3  4  5  6  7  8  9 10 11 12 13 14 15 16 17 18 19 20 21 22 23 24\n",
            " 25]\n"
          ]
        }
      ]
    },
    {
      "cell_type": "markdown",
      "source": [
        "4) skipe every other element\n",
        "input item : 1bytes"
      ],
      "metadata": {
        "id": "MxnsrnrQmMYE"
      }
    },
    {
      "cell_type": "code",
      "source": [
        "x = np.asarray(range(1,26) , np.int8).reshape(5,5)\n",
        "x = np.lib.stride_tricks.as_strided(x,shape=(3,),strides=(2,))\n",
        "print(x)"
      ],
      "metadata": {
        "colab": {
          "base_uri": "https://localhost:8080/"
        },
        "id": "QcPmCJaUmFvp",
        "outputId": "ddccb9cc-3031-4839-bbf0-9bec532c19b2"
      },
      "execution_count": 13,
      "outputs": [
        {
          "output_type": "stream",
          "name": "stdout",
          "text": [
            "[1 3 5]\n"
          ]
        }
      ]
    },
    {
      "cell_type": "markdown",
      "source": [
        "5)slice first column  \n",
        "input item : 8 bytes"
      ],
      "metadata": {
        "id": "TFRkURMTmleV"
      }
    },
    {
      "cell_type": "code",
      "source": [
        "x = np.asarray(range(1,26) , np.int64).reshape(5,5)\n",
        "x=np.lib.stride_tricks.as_strided(x,shape=(5,),strides =(40,) )\n",
        "print(x)"
      ],
      "metadata": {
        "colab": {
          "base_uri": "https://localhost:8080/"
        },
        "id": "gZoAhV_XmkYb",
        "outputId": "bc7b3182-02f9-428f-b6ce-73976d314652"
      },
      "execution_count": 15,
      "outputs": [
        {
          "output_type": "stream",
          "name": "stdout",
          "text": [
            "[ 1  6 11 16 21]\n"
          ]
        }
      ]
    },
    {
      "cell_type": "markdown",
      "source": [
        "6)diagonal element  \n",
        "input item : 8 bytes"
      ],
      "metadata": {
        "id": "CK6W8i4dnmqX"
      }
    },
    {
      "cell_type": "code",
      "source": [
        "x= np.asarray(range(1,26) , np.int64).reshape(5,5)\n",
        "x=np.lib.stride_tricks.as_strided(x,shape=(5,),strides=(48,))\n",
        "print(x)"
      ],
      "metadata": {
        "colab": {
          "base_uri": "https://localhost:8080/"
        },
        "id": "XJFWta5enlPt",
        "outputId": "2edd7164-ae64-4154-cb27-386cb0f97484"
      },
      "execution_count": 16,
      "outputs": [
        {
          "output_type": "stream",
          "name": "stdout",
          "text": [
            "[ 1  7 13 19 25]\n"
          ]
        }
      ]
    },
    {
      "cell_type": "markdown",
      "source": [
        "7)repeat element  \n",
        "input item : 8 bytes"
      ],
      "metadata": {
        "id": "R1v77iPgn6io"
      }
    },
    {
      "cell_type": "code",
      "source": [
        "x=np.asarray(range(1,26) , np.int64 ).reshape(5,5)\n",
        "x=np.lib.stride_tricks.as_strided(x , shape=(5,) , strides=(0,))\n",
        "print(x)"
      ],
      "metadata": {
        "colab": {
          "base_uri": "https://localhost:8080/"
        },
        "id": "UHi-jbAbn6BW",
        "outputId": "e585a22b-46f2-4838-eede-c41cb5ea8b9c"
      },
      "execution_count": 18,
      "outputs": [
        {
          "output_type": "stream",
          "name": "stdout",
          "text": [
            "[1 1 1 1 1]\n"
          ]
        }
      ]
    },
    {
      "cell_type": "markdown",
      "source": [
        "# 2D -exercise"
      ],
      "metadata": {
        "id": "4EPxLtejoMnH"
      }
    },
    {
      "cell_type": "code",
      "source": [
        "x=np.asarray(range(1,26) , np.int64).reshape(5,5)\n",
        "x=np.lib.stride_tricks.as_strided(x,shape=(4,3) , strides=(40,8))\n",
        "print(x)"
      ],
      "metadata": {
        "colab": {
          "base_uri": "https://localhost:8080/"
        },
        "id": "z9-vTwEsoVYV",
        "outputId": "6913b1bd-8e11-45ff-db13-73c62073fd5c"
      },
      "execution_count": 19,
      "outputs": [
        {
          "output_type": "stream",
          "name": "stdout",
          "text": [
            "[[ 1  2  3]\n",
            " [ 6  7  8]\n",
            " [11 12 13]\n",
            " [16 17 18]]\n"
          ]
        }
      ]
    },
    {
      "cell_type": "markdown",
      "source": [
        ""
      ],
      "metadata": {
        "id": "laOLSEAsoOCp"
      }
    }
  ]
}
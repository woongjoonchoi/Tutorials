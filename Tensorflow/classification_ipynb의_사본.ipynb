{
  "cells": [
    {
      "cell_type": "markdown",
      "metadata": {
        "id": "view-in-github",
        "colab_type": "text"
      },
      "source": [
        "<a href=\"https://colab.research.google.com/github/woongjoonchoi/Tutorials/blob/main/Tensorflow/classification_ipynb%EC%9D%98_%EC%82%AC%EB%B3%B8.ipynb\" target=\"_parent\"><img src=\"https://colab.research.google.com/assets/colab-badge.svg\" alt=\"Open In Colab\"/></a>"
      ]
    },
    {
      "cell_type": "markdown",
      "metadata": {
        "id": "MhoQ0WE77laV"
      },
      "source": [
        "##### Copyright 2018 The TensorFlow Authors."
      ]
    },
    {
      "cell_type": "code",
      "execution_count": null,
      "metadata": {
        "cellView": "form",
        "id": "_ckMIh7O7s6D"
      },
      "outputs": [],
      "source": [
        "#@title Licensed under the Apache License, Version 2.0 (the \"License\");\n",
        "# you may not use this file except in compliance with the License.\n",
        "# You may obtain a copy of the License at\n",
        "#\n",
        "# https://www.apache.org/licenses/LICENSE-2.0\n",
        "#\n",
        "# Unless required by applicable law or agreed to in writing, software\n",
        "# distributed under the License is distributed on an \"AS IS\" BASIS,\n",
        "# WITHOUT WARRANTIES OR CONDITIONS OF ANY KIND, either express or implied.\n",
        "# See the License for the specific language governing permissions and\n",
        "# limitations under the License."
      ]
    },
    {
      "cell_type": "code",
      "execution_count": null,
      "metadata": {
        "cellView": "form",
        "id": "vasWnqRgy1H4"
      },
      "outputs": [],
      "source": [
        "#@title MIT License\n",
        "#\n",
        "# Copyright (c) 2017 François Chollet\n",
        "#\n",
        "# Permission is hereby granted, free of charge, to any person obtaining a\n",
        "# copy of this software and associated documentation files (the \"Software\"),\n",
        "# to deal in the Software without restriction, including without limitation\n",
        "# the rights to use, copy, modify, merge, publish, distribute, sublicense,\n",
        "# and/or sell copies of the Software, and to permit persons to whom the\n",
        "# Software is furnished to do so, subject to the following conditions:\n",
        "#\n",
        "# The above copyright notice and this permission notice shall be included in\n",
        "# all copies or substantial portions of the Software.\n",
        "#\n",
        "# THE SOFTWARE IS PROVIDED \"AS IS\", WITHOUT WARRANTY OF ANY KIND, EXPRESS OR\n",
        "# IMPLIED, INCLUDING BUT NOT LIMITED TO THE WARRANTIES OF MERCHANTABILITY,\n",
        "# FITNESS FOR A PARTICULAR PURPOSE AND NONINFRINGEMENT. IN NO EVENT SHALL\n",
        "# THE AUTHORS OR COPYRIGHT HOLDERS BE LIABLE FOR ANY CLAIM, DAMAGES OR OTHER\n",
        "# LIABILITY, WHETHER IN AN ACTION OF CONTRACT, TORT OR OTHERWISE, ARISING\n",
        "# FROM, OUT OF OR IN CONNECTION WITH THE SOFTWARE OR THE USE OR OTHER\n",
        "# DEALINGS IN THE SOFTWARE."
      ]
    },
    {
      "cell_type": "markdown",
      "metadata": {
        "id": "jYysdyb-CaWM"
      },
      "source": [
        "# 기본 분류: 의류 이미지 분류"
      ]
    },
    {
      "cell_type": "markdown",
      "metadata": {
        "id": "S5Uhzt6vVIB2"
      },
      "source": [
        "<table class=\"tfo-notebook-buttons\" align=\"left\">\n",
        "  <td>     <a target=\"_blank\" href=\"https://www.tensorflow.org/tutorials/keras/classification\"><img src=\"https://www.tensorflow.org/images/tf_logo_32px.png\">TensorFlow.org에서 보기</a>   </td>\n",
        "  <td><a target=\"_blank\" href=\"https://colab.research.google.com/github/tensorflow/docs-l10n/blob/master/site/ko/tutorials/keras/classification.ipynb\"><img src=\"https://www.tensorflow.org/images/colab_logo_32px.png\">Google Colab에서 실행</a></td>\n",
        "  <td><a target=\"_blank\" href=\"https://github.com/tensorflow/docs-l10n/blob/master/site/ko/tutorials/keras/classification.ipynb\"><img src=\"https://www.tensorflow.org/images/GitHub-Mark-32px.png\">GitHub에서 소스 보기</a></td>\n",
        "  <td><a href=\"https://storage.googleapis.com/tensorflow_docs/docs-l10n/site/ko/tutorials/keras/classification.ipynb\"><img src=\"https://www.tensorflow.org/images/download_logo_32px.png\">노트북 다운로드</a></td>\n",
        "</table>"
      ]
    },
    {
      "cell_type": "markdown",
      "metadata": {
        "id": "FbVhjPpzn6BM"
      },
      "source": [
        "이 튜토리얼에서는 운동화나 셔츠 같은 옷 이미지를 분류하는 신경망 모델을 훈련합니다. 상세 내용을 모두 이해하지 못해도 괜찮습니다. 여기서는 완전한 텐서플로(TensorFlow) 프로그램을 빠르게 살펴 보겠습니다. 자세한 내용은 앞으로 배우면서 더 설명합니다.\n",
        "\n",
        "여기에서는 텐서플로 모델을 만들고 훈련할 수 있는 고수준 API인 [tf.keras](https://www.tensorflow.org/guide/keras)를 사용합니다."
      ]
    },
    {
      "cell_type": "markdown",
      "source": [
        "Tensorflow, numpy , pyplot import하기"
      ],
      "metadata": {
        "id": "8ut46k6r34NS"
      }
    },
    {
      "cell_type": "markdown",
      "metadata": {
        "id": "yR0EdgrLCaWR"
      },
      "source": [
        "## 패션 MNIST 데이터셋 임포트하기"
      ]
    },
    {
      "cell_type": "markdown",
      "metadata": {
        "id": "DLdCchMdCaWQ"
      },
      "source": [
        "10개의 범주(category)와 70,000개의 흑백 이미지로 구성된 [패션 MNIST](https://github.com/zalandoresearch/fashion-mnist) 데이터셋을 사용하겠습니다. 이미지는 해상도(28x28 픽셀)가 낮고 다음처럼 개별 옷 품목을 나타냅니다:\n",
        "\n",
        "<table>\n",
        "  <tr><td>     <img src=\"https://tensorflow.org/images/fashion-mnist-sprite.png\" alt=\"Fashion MNIST sprite\" width=\"600\">   </td></tr>\n",
        "  <tr><td align=\"center\">     <b>그림 1.</b> <a href=\"https://github.com/zalandoresearch/fashion-mnist\">패션-MNIST 샘플</a> (Zalando, MIT License).<br>{nbsp}   </td></tr>\n",
        "</table>\n",
        "\n",
        "패션 MNIST는 컴퓨터 비전 분야의 \"Hello, World\" 프로그램격인 고전 [MNIST](http://yann.lecun.com/exdb/mnist/) 데이터셋을 대신해서 자주 사용됩니다. MNIST 데이터셋은 손글씨 숫자(0, 1, 2 등)의 이미지로 이루어져 있습니다. 여기서 사용하려는 옷 이미지와 동일한 포맷입니다.\n",
        "\n",
        "패션 MNIST는 일반적인 MNIST 보다 조금 더 어려운 문제이고 다양한 예제를 만들기 위해 선택했습니다. 두 데이터셋은 비교적 작기 때문에 알고리즘의 작동 여부를 확인하기 위해 사용되곤 합니다. 코드를 테스트하고 디버깅하는 용도로 좋습니다.\n",
        "\n",
        "여기에서 60,000개의 이미지를 사용하여 네트워크를 훈련하고 10,000개의 이미지를 사용하여 네트워크에서 이미지 분류를 학습한 정도를 평가합니다. TensorFlow에서 직접 Fashion MNIST에 액세스할 수 있습니다. TensorFlow에서 직접 [Fashion MNIST 데이터](https://www.tensorflow.org/api_docs/python/tf/keras/datasets/fashion_mnist/load_data)를 가져오고 로드합니다."
      ]
    },
    {
      "cell_type": "code",
      "execution_count": 2,
      "metadata": {
        "id": "7MqDQO0KCaWS",
        "colab": {
          "base_uri": "https://localhost:8080/"
        },
        "outputId": "6ee72724-c1d4-4e0c-e197-a4f89f4cad8d"
      },
      "outputs": [
        {
          "output_type": "stream",
          "name": "stdout",
          "text": [
            "Downloading data from https://storage.googleapis.com/tensorflow/tf-keras-datasets/train-labels-idx1-ubyte.gz\n",
            "32768/29515 [=================================] - 0s 0us/step\n",
            "40960/29515 [=========================================] - 0s 0us/step\n",
            "Downloading data from https://storage.googleapis.com/tensorflow/tf-keras-datasets/train-images-idx3-ubyte.gz\n",
            "26427392/26421880 [==============================] - 0s 0us/step\n",
            "26435584/26421880 [==============================] - 0s 0us/step\n",
            "Downloading data from https://storage.googleapis.com/tensorflow/tf-keras-datasets/t10k-labels-idx1-ubyte.gz\n",
            "16384/5148 [===============================================================================================] - 0s 0us/step\n",
            "Downloading data from https://storage.googleapis.com/tensorflow/tf-keras-datasets/t10k-images-idx3-ubyte.gz\n",
            "4423680/4422102 [==============================] - 0s 0us/step\n",
            "4431872/4422102 [==============================] - 0s 0us/step\n"
          ]
        }
      ],
      "source": [
        "fashion_mnist = tf.keras.datasets.fashion_mnist\n",
        "\n",
        "(train_images, train_labels), (test_images, test_labels) = fashion_mnist.load_data()"
      ]
    },
    {
      "cell_type": "markdown",
      "metadata": {
        "id": "t9FDsUlxCaWW"
      },
      "source": [
        "load_data() 함수를 호출하면 네 개의 넘파이(NumPy) 배열이 반환됩니다:\n",
        "\n",
        "- `train_images`와 `train_labels` 배열은 모델 학습에 사용되는 *훈련 세트*입니다.\n",
        "- `test_images`와 `test_labels` 배열은 모델 테스트에 사용되는 *테스트 세트*입니다.\n",
        "\n",
        "이미지는 28x28 크기의 넘파이 배열이고 픽셀 값은 0과 255 사이입니다. *레이블*(label)은 0에서 9까지의 정수 배열입니다. 이 값은 이미지에 있는 옷의 *클래스*(class)를 나타냅니다:\n",
        "\n",
        "<table>\n",
        "  <tr>\n",
        "    <th>레이블</th>\n",
        "    <th>클래스</th>\n",
        "  </tr>\n",
        "  <tr>\n",
        "    <td>0</td>\n",
        "    <td>T-shirt/top</td>\n",
        "  </tr>\n",
        "  <tr>\n",
        "    <td>1</td>\n",
        "    <td>Trouser</td>\n",
        "  </tr>\n",
        "    <tr>\n",
        "    <td>2</td>\n",
        "    <td>Pullover</td>\n",
        "  </tr>\n",
        "    <tr>\n",
        "    <td>3</td>\n",
        "    <td>Dress</td>\n",
        "  </tr>\n",
        "    <tr>\n",
        "    <td>4</td>\n",
        "    <td>Coat</td>\n",
        "  </tr>\n",
        "    <tr>\n",
        "    <td>5</td>\n",
        "    <td>Sandal</td>\n",
        "  </tr>\n",
        "    <tr>\n",
        "    <td>6</td>\n",
        "    <td>Shirt</td>\n",
        "  </tr>\n",
        "    <tr>\n",
        "    <td>7</td>\n",
        "    <td>Sneaker</td>\n",
        "  </tr>\n",
        "    <tr>\n",
        "    <td>8</td>\n",
        "    <td>Bag</td>\n",
        "  </tr>\n",
        "    <tr>\n",
        "    <td>9</td>\n",
        "    <td>Ankle boot</td>\n",
        "  </tr>\n",
        "</table>\n",
        "\n",
        "각 이미지는 하나의 레이블에 매핑되어 있습니다. 데이터셋에 *클래스 이름*이 들어있지 않기 때문에 나중에 이미지를 출력할 때 사용하기 위해 별도의 변수를 만들어 저장합니다:"
      ]
    },
    {
      "cell_type": "code",
      "execution_count": 3,
      "metadata": {
        "id": "IjnLH5S2CaWx"
      },
      "outputs": [],
      "source": [
        "class_names = ['T-shirt/top', 'Trouser', 'Pullover', 'Dress', 'Coat',\n",
        "               'Sandal', 'Shirt', 'Sneaker', 'Bag', 'Ankle boot']"
      ]
    },
    {
      "cell_type": "markdown",
      "metadata": {
        "id": "Brm0b_KACaWX"
      },
      "source": [
        "## 데이터 탐색\n",
        "\n",
        "모델을 훈련하기 전에 데이터셋 구조를 살펴보죠. 다음 코드는 훈련 세트에 60,000개의 이미지가 있다는 것을 보여줍니다. 각 이미지는 28x28 픽셀로 표현됩니다:"
      ]
    },
    {
      "cell_type": "markdown",
      "source": [
        "Q .train image가 몇 개이고 , shape은 어떻게 되는지 출력해보시요"
      ],
      "metadata": {
        "id": "2MMgAVNP4UBc"
      }
    },
    {
      "cell_type": "markdown",
      "metadata": {
        "id": "cIAcvQqMCaWf"
      },
      "source": [
        "비슷하게 훈련 세트에는 60,000개의 레이블이 있습니다:"
      ]
    },
    {
      "cell_type": "markdown",
      "source": [
        "Q. train label이 몇개가 있는지 출력해보시오"
      ],
      "metadata": {
        "id": "H_RAIkGh4fm5"
      }
    },
    {
      "cell_type": "markdown",
      "metadata": {
        "id": "YSlYxFuRCaWk"
      },
      "source": [
        "각 레이블은 0과 9사이의 정수입니다:"
      ]
    },
    {
      "cell_type": "markdown",
      "source": [
        "Q.train label에 대한 정보를 확인하시오"
      ],
      "metadata": {
        "id": "Chazh1Fu4lGX"
      }
    },
    {
      "cell_type": "markdown",
      "metadata": {
        "id": "TMPI88iZpO2T"
      },
      "source": [
        "테스트 세트에는 10,000개의 이미지가 있습니다. 이 이미지도 28x28 픽셀로 표현됩니다:"
      ]
    },
    {
      "cell_type": "markdown",
      "source": [
        "Q.테스트 세트가 몇개이고, shape은 어떻게 되는지 출력해보시요ㅗ"
      ],
      "metadata": {
        "id": "hoVB_4T34tV7"
      }
    },
    {
      "cell_type": "markdown",
      "metadata": {
        "id": "rd0A0Iu0CaWq"
      },
      "source": [
        "테스트 세트는 10,000개의 이미지에 대한 레이블을 가지고 있습니다:"
      ]
    },
    {
      "cell_type": "markdown",
      "source": [
        "Q.테스트 세트의 label이 몇개인지 확인하시오"
      ],
      "metadata": {
        "id": "AyY8TRDt42u0"
      }
    },
    {
      "cell_type": "code",
      "source": [
        "len(test_labels)"
      ],
      "metadata": {
        "colab": {
          "base_uri": "https://localhost:8080/"
        },
        "id": "iTyy58bN46iq",
        "outputId": "35771f43-ac33-47a3-8614-d67d76aeee27"
      },
      "execution_count": 8,
      "outputs": [
        {
          "output_type": "execute_result",
          "data": {
            "text/plain": [
              "10000"
            ]
          },
          "metadata": {},
          "execution_count": 8
        }
      ]
    },
    {
      "cell_type": "markdown",
      "metadata": {
        "id": "ES6uQoLKCaWr"
      },
      "source": [
        "## 데이터 전처리\n",
        "\n",
        "네트워크를 훈련하기 전에 데이터를 전처리해야 합니다. 훈련 세트에 있는 첫 번째 이미지를 보면 픽셀 값의 범위가 0~255 사이라는 것을 알 수 있습니다:"
      ]
    },
    {
      "cell_type": "markdown",
      "source": [
        "Q. 첫번 째 이미지와 오른쪽에 colorbar를 띄우고 시각화 하시오"
      ],
      "metadata": {
        "id": "Y552V23Y5iDm"
      }
    },
    {
      "cell_type": "markdown",
      "metadata": {
        "id": "Wz7l27Lz9S1P"
      },
      "source": [
        "신경망 모델에 주입하기 전에 이 값의 범위를 0~1 사이로 조정하겠습니다. 이렇게 하려면 255로 나누어야 합니다. *훈련 세트*와 *테스트 세트*를 동일한 방식으로 전처리하는 것이 중요합니다:"
      ]
    },
    {
      "cell_type": "markdown",
      "source": [
        "Q.  이미지의 scale을 위의 지시사항대로 조절하시오ㅠ"
      ],
      "metadata": {
        "id": "ZmSFcTqI5vVU"
      }
    },
    {
      "cell_type": "markdown",
      "metadata": {
        "id": "Ee638AlnCaWz"
      },
      "source": [
        "*훈련 세트*에서 처음 25개 이미지와 그 아래 클래스 이름을 출력해 보죠. 데이터 포맷이 올바른지 확인하고 네트워크 구성과 훈련할 준비를 마칩니다."
      ]
    },
    {
      "cell_type": "markdown",
      "source": [
        "Q. 위의 지시사항대로 이미지와 클래스이름을 출력하시오"
      ],
      "metadata": {
        "id": "Xqsl6Ogr6rWn"
      }
    },
    {
      "cell_type": "markdown",
      "metadata": {
        "id": "59veuiEZCaW4"
      },
      "source": [
        "## 모델 구성\n",
        "\n",
        "신경망 모델을 만들려면 모델의 층을 구성한 다음 모델을 컴파일합니다."
      ]
    },
    {
      "cell_type": "markdown",
      "metadata": {
        "id": "Gxg1XGm0eOBy"
      },
      "source": [
        "### 층 설정\n",
        "\n",
        "신경망의 기본 빌딩 블록은 [*레이어*](https://www.tensorflow.org/api_docs/python/tf/keras/layers) 입니다. 레이어는 레이어에 공급된 데이터로부터 표현을 추출합니다. 이러한 표현은 당면한 문제에 의미가 있어야 합니다.\n",
        "\n",
        "대부분 딥러닝은 간단한 층을 연결하여 구성됩니다. `tf.keras.layers.Dense`와 같은 층들의 가중치(parameter)는 훈련하는 동안 학습됩니다."
      ]
    },
    {
      "cell_type": "markdown",
      "source": [
        "Q . input shape 28,28 을 flatten하고 , \n",
        "2layer짜리 model을 만든다.  \n",
        "1 layer : output dim :128 , activation : relu  \n",
        "2 layer : output dim : 10\n"
      ],
      "metadata": {
        "id": "gQyqDuG89b5q"
      }
    },
    {
      "cell_type": "markdown",
      "metadata": {
        "id": "gut8A_7rCaW6"
      },
      "source": [
        "이 네트워크의 첫 번째 층인 `tf.keras.layers.Flatten`은 2차원 배열(28 x 28 픽셀)의 이미지 포맷을 28 * 28 = 784 픽셀의 1차원 배열로 변환합니다. 이 층은 이미지에 있는 픽셀의 행을 펼쳐서 일렬로 늘립니다. 이 층에는 학습되는 가중치가 없고 데이터를 변환하기만 합니다.\n",
        "\n",
        "픽셀을 펼친 후에는 두 개의 `tf.keras.layers.Dense` 층이 연속되어 연결됩니다. 이 층을 밀집 연결(densely-connected) 또는 완전 연결(fully-connected) 층이라고 부릅니다. 첫 번째 `Dense` 층은 128개의 노드(또는 뉴런)를 가집니다. 두 번째 (마지막) 층은 10개의 노드의 *소프트맥스*(softmax) 층입니다. 이 층은 10개의 확률을 반환하고 반환된 값의 전체 합은 1입니다. 각 노드는 현재 이미지가 10개 클래스 중 하나에 속할 확률을 출력합니다.\n",
        "\n",
        "### 모델 컴파일\n",
        "\n",
        "모델을 훈련할 준비가 되기 전에 몇 가지 설정이 더 필요합니다. 다음은 모델의 [*컴파일*](https://www.tensorflow.org/api_docs/python/tf/keras/Model#compile) 단계에서 추가됩니다.\n",
        "\n",
        "- [*손실 함수*](https://www.tensorflow.org/api_docs/python/tf/keras/losses) - 훈련 중 모델이 얼마나 정확한지 측정합니다. 모델을 올바른 방향으로 \"조정\"하려면 이 함수를 최소화해야 합니다.\n",
        "- [*옵티마이저*](https://www.tensorflow.org/api_docs/python/tf/keras/optimizers) - 모델이 인식하는 데이터와 해당 손실 함수를 기반으로 모델이 업데이트되는 방식입니다.\n",
        "- [*메트릭*](https://www.tensorflow.org/api_docs/python/tf/keras/metrics) — 훈련 및 테스트 단계를 모니터링하는 데 사용됩니다. 다음 예에서는 올바르게 분류된 이미지의 비율인 *정확도*를 사용합니다."
      ]
    },
    {
      "cell_type": "markdown",
      "source": [
        "Q. 모델을 컴파일 하시오  \n",
        "optimizer = adam  \n",
        "loss = SparseCategoricalCrossentropy  \n",
        "metrics = accuracy  \n"
      ],
      "metadata": {
        "id": "ItkD92MeAq2h"
      }
    },
    {
      "cell_type": "markdown",
      "metadata": {
        "id": "qKF6uW-BCaW-"
      },
      "source": [
        "## 모델 훈련\n",
        "\n",
        "신경망 모델을 훈련하려면 다음 단계가 필요합니다.\n",
        "\n",
        "1. 훈련 데이터를 모델에 주입합니다-이 예에서는 `train_images`와 `train_labels` 배열입니다.\n",
        "2. 모델이 이미지와 레이블을 매핑하는 방법을 배웁니다.\n",
        "3. 테스트 세트에 대한 모델의 예측을 만듭니다-이 예에서는 `test_images` 배열입니다. 이 예측이 `test_labels` 배열의 레이블과 맞는지 확인합니다.\n",
        "4. 예측이 `test_labels` 배열의 레이블과 일치하는지 확인합니다.\n"
      ]
    },
    {
      "cell_type": "markdown",
      "metadata": {
        "id": "Z4P4zIV7E28Z"
      },
      "source": [
        "### 모델 피드\n",
        "\n",
        "훈련을 시작하려면 [`model.fit`](https://www.tensorflow.org/api_docs/python/tf/keras/Model#fit) 메서드를 호출합니다. 모델을 훈련 데이터에 \"맞추기(fit)\" 때문에 이렇게 불립니다."
      ]
    },
    {
      "cell_type": "markdown",
      "source": [
        "Q . 모델을 훈련하시오  \n",
        "epoch 10"
      ],
      "metadata": {
        "id": "PJH0MkSWA094"
      }
    },
    {
      "cell_type": "markdown",
      "metadata": {
        "id": "W3ZVOhugCaXA"
      },
      "source": [
        "모델이 훈련되면서 손실과 정확도 지표가 출력됩니다. 이 모델은 훈련 세트에서 약 0.88(88%) 정도의 정확도를 달성합니다."
      ]
    },
    {
      "cell_type": "markdown",
      "metadata": {
        "id": "wCpr6DGyE28h"
      },
      "source": [
        "### 정확도 평가\n",
        "\n",
        "다음으로, 모델이 테스트 데이터세트에서 작동하는 방식을 비교합니다."
      ]
    },
    {
      "cell_type": "markdown",
      "source": [
        "Q . test_loss, test_acc 를 계산하시오"
      ],
      "metadata": {
        "id": "MR5FmOTABUo5"
      }
    },
    {
      "cell_type": "markdown",
      "metadata": {
        "id": "yWfgsmVXCaXG"
      },
      "source": [
        "테스트 세트의 정확도가 훈련 세트의 정확도보다 조금 낮습니다. 훈련 세트의 정확도와 테스트 세트의 정확도 사이의 차이는 *과대적합*(overfitting) 때문입니다. 과대적합은 머신러닝 모델이 훈련 데이터보다 새로운 데이터에서 성능이 낮아지는 현상을 말합니다.\n",
        "\n",
        "- [과대적합 시연](https://www.tensorflow.org/tutorials/keras/overfit_and_underfit#demonstrate_overfitting)\n",
        "- [과대적합을 방지하기 위한 전략](https://www.tensorflow.org/tutorials/keras/overfit_and_underfit#strategies_to_prevent_overfitting)"
      ]
    },
    {
      "cell_type": "markdown",
      "metadata": {
        "id": "v-PyD1SYE28q"
      },
      "source": [
        "### 예측하기\n",
        "\n",
        "훈련된 모델을 사용하여 일부 이미지에 대한 예측을 수행할 수 있습니다. 모델의 선형 출력, [로짓](https://developers.google.com/machine-learning/glossary#logits). 소프트맥스 레이어를 연결하여 로짓을 해석하기 쉬운 확률로 변환합니다. "
      ]
    },
    {
      "cell_type": "markdown",
      "source": [
        "Q . model의 logit을 해석하기 위해서 model이 logit 대신  확률값을 output 하도록 하시오"
      ],
      "metadata": {
        "id": "ZaLJ63drB1_I"
      }
    },
    {
      "cell_type": "markdown",
      "source": [
        "Q . test input으로 부터 확률값을 계산하시오"
      ],
      "metadata": {
        "id": "wuclQNWxB-P3"
      }
    },
    {
      "cell_type": "markdown",
      "metadata": {
        "id": "x9Kk1voUCaXJ"
      },
      "source": [
        "여기서는 테스트 세트에 있는 각 이미지의 레이블을 예측했습니다. 첫 번째 예측을 확인해 보죠:"
      ]
    },
    {
      "cell_type": "markdown",
      "source": [
        "Q .첫번째 predictions을 확인하시오"
      ],
      "metadata": {
        "id": "ZNhtYClQCWEM"
      }
    },
    {
      "cell_type": "markdown",
      "metadata": {
        "id": "-hw1hgeSCaXN"
      },
      "source": [
        "이 예측은 10개의 숫자 배열로 나타납니다. 이 값은 10개의 옷 품목에 상응하는 모델의 신뢰도(confidence)를 나타냅니다. 가장 높은 신뢰도를 가진 레이블을 찾아보죠:"
      ]
    },
    {
      "cell_type": "markdown",
      "source": [
        "Q . 첫번째 prediction에서 가장 높은 확률을 가진 레이블을 확인하시오"
      ],
      "metadata": {
        "id": "mXgrKc8UDwcE"
      }
    },
    {
      "cell_type": "markdown",
      "metadata": {
        "id": "E51yS7iCCaXO"
      },
      "source": [
        "모델은 이 이미지가 앵클 부츠(`class_name[9]`)라고 가장 확신하고 있습니다. 이 값이 맞는지 테스트 레이블을 확인해 보죠:"
      ]
    },
    {
      "cell_type": "markdown",
      "source": [
        "Q . 이 모델이 정확하게 예측하는지 첫번 째 test label을  확인해보시오"
      ],
      "metadata": {
        "id": "y13x9hKaEAG8"
      }
    },
    {
      "cell_type": "markdown",
      "metadata": {
        "id": "ygh2yYC972ne"
      },
      "source": [
        "10개 클래스에 대한 예측을 모두 그래프로 표현해 보겠습니다:"
      ]
    },
    {
      "cell_type": "code",
      "source": [
        "def plot_image(i, predictions_array , true_label , img) :\n",
        "  true_label , img = true_label[i] , img[i]\n",
        "  plt.grid(False)\n",
        "  plt.xticks([])\n",
        "  plt.yticks([])\n",
        "\n",
        "  plt.imshow(img,cmap=plt.cm.binary)\n",
        "\n",
        "  predicted_label = np.argmax(predictions_array)\n",
        "  if predicted_label == true_label :\n",
        "    color = 'blue'\n",
        "  else :\n",
        "    color = 'red'\n",
        "  # plt.xlabel(f\"{class_names[predicted_labe] }  100 * np.max(predictions_array ,class_names\")\n",
        "  plt.xlabel(\"{} {:2.0f}% ({})\".format(class_names[predicted_label] , \n",
        "                                      100 * np.max(predictions_array),\n",
        "                                      class_names[true_label]) , \n",
        "                                      color = color)\n",
        "  \n",
        "def plot_value_array(i , predictions_array , true_label) :\n",
        "  true_label = true_label[i]\n",
        "  plt.grid(False)\n",
        "  plt.xticks(range(100))\n",
        "  plt.yticks([])\n",
        "  thisplot= plt.bar(range(10) , predictions_array , color = \"#777777\")\n",
        "\n",
        "  plt.ylim([0,1])\n",
        "  predicted_labels = np.argmax(predictions_array)\n",
        "      \n",
        "  thisplot[predicted_labels].set_color('red')\n",
        "  thisplot[true_label].set_color('blue')"
      ],
      "metadata": {
        "id": "pOFAQlqUEG10"
      },
      "execution_count": 44,
      "outputs": []
    },
    {
      "cell_type": "code",
      "execution_count": 34,
      "metadata": {
        "id": "DvYmmrpIy6Y1"
      },
      "outputs": [],
      "source": [
        "def plot_image(i, predictions_array, true_label, img):\n",
        "  true_label, img = true_label[i], img[i]\n",
        "  plt.grid(False)\n",
        "  plt.xticks([])\n",
        "  plt.yticks([])\n",
        "\n",
        "  plt.imshow(img, cmap=plt.cm.binary)\n",
        "\n",
        "  predicted_label = np.argmax(predictions_array)\n",
        "  if predicted_label == true_label:\n",
        "    color = 'blue'\n",
        "  else:\n",
        "    color = 'red'\n",
        "\n",
        "  plt.xlabel(\"{} {:2.0f}% ({})\".format(class_names[predicted_label],\n",
        "                                100*np.max(predictions_array),\n",
        "                                class_names[true_label]),\n",
        "                                color=color)\n",
        "\n",
        "def plot_value_array(i, predictions_array, true_label):\n",
        "  true_label = true_label[i]\n",
        "  plt.grid(False)\n",
        "  plt.xticks(range(10))\n",
        "  plt.yticks([])\n",
        "  thisplot = plt.bar(range(10), predictions_array, color=\"#777777\")\n",
        "  plt.ylim([0, 1])\n",
        "  predicted_label = np.argmax(predictions_array)\n",
        "\n",
        "  thisplot[predicted_label].set_color('red')\n",
        "  thisplot[true_label].set_color('blue')"
      ]
    },
    {
      "cell_type": "markdown",
      "metadata": {
        "id": "Zh9yABaME29S"
      },
      "source": [
        "### 예측 확인\n",
        "\n",
        "훈련된 모델을 사용하여 일부 이미지에 대한 예측을 수행할 수 있습니다."
      ]
    },
    {
      "cell_type": "markdown",
      "metadata": {
        "id": "d4Ov9OFDMmOD"
      },
      "source": [
        "0번째 원소의 이미지, 예측, 신뢰도 점수 배열을 확인해 보겠습니다."
      ]
    },
    {
      "cell_type": "markdown",
      "source": [
        "Q . 아래와 같은 이미지를 출력하시오"
      ],
      "metadata": {
        "id": "TtIWj8EWG0WA"
      }
    },
    {
      "cell_type": "markdown",
      "source": [
        "![image.png](data:image/png;base64,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)"
      ],
      "metadata": {
        "id": "vcRLkbOYG2KX"
      }
    },
    {
      "cell_type": "markdown",
      "source": [
        "Q .아래래와 같은 이미지를 출력하시오"
      ],
      "metadata": {
        "id": "l7P3QM3IHKU7"
      }
    },
    {
      "cell_type": "markdown",
      "source": [
        "![image.png](data:image/png;base64,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)"
      ],
      "metadata": {
        "id": "kODCVJ9WHOnI"
      }
    },
    {
      "cell_type": "markdown",
      "metadata": {
        "id": "kgdvGD52CaXR"
      },
      "source": [
        "몇 개의 이미지의 예측을 출력해 보죠. 올바르게 예측된 레이블은 파란색이고 잘못 예측된 레이블은 빨강색입니다. 숫자는 예측 레이블의 신뢰도 퍼센트(100점 만점)입니다. 신뢰도 점수가 높을 때도 잘못 예측할 수 있습니다."
      ]
    },
    {
      "cell_type": "markdown",
      "source": [
        "Q . 아래와같이 처음부터 15개의 이미지에 대한 예측결과를 출력하시오"
      ],
      "metadata": {
        "id": "mLh8QGGxHkVO"
      }
    },
    {
      "cell_type": "markdown",
      "source": [
        "![image.png](data:image/png;base64,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)"
      ],
      "metadata": {
        "id": "vbnSgvEhHpmd"
      }
    },
    {
      "cell_type": "markdown",
      "metadata": {
        "id": "R32zteKHCaXT"
      },
      "source": [
        "## 훈련된 모델 사용하기\n",
        "\n",
        "마지막으로 훈련된 모델을 사용하여 한 이미지에 대한 예측을 만듭니다."
      ]
    },
    {
      "cell_type": "code",
      "source": [
        "img = test_images[1]\n",
        "print(img.shape)"
      ],
      "metadata": {
        "colab": {
          "base_uri": "https://localhost:8080/"
        },
        "id": "hfgjwhf1InK4",
        "outputId": "59f1e536-3ec3-4ae0-b4b0-48203f12b41b"
      },
      "execution_count": 54,
      "outputs": [
        {
          "output_type": "stream",
          "name": "stdout",
          "text": [
            "(28, 28)\n"
          ]
        }
      ]
    },
    {
      "cell_type": "code",
      "execution_count": null,
      "metadata": {
        "id": "yRJ7JU7JCaXT"
      },
      "outputs": [],
      "source": [
        "# Grab an image from the test dataset.\n",
        "img = test_images[1]\n",
        "\n",
        "print(img.shape)"
      ]
    },
    {
      "cell_type": "markdown",
      "metadata": {
        "id": "vz3bVp21CaXV"
      },
      "source": [
        "`tf.keras` 모델은 한 번에 샘플의 묶음 또는 *배치*(batch)로 예측을 만드는데 최적화되어 있습니다. 하나의 이미지를 사용할 때에도 2차원 배열로 만들어야 합니다:"
      ]
    },
    {
      "cell_type": "markdown",
      "source": [
        "Q . img의 dim을 늘려서 1개의 batch 로 예측하도록 만드시오"
      ],
      "metadata": {
        "id": "I1VCIG8XI3Zn"
      }
    },
    {
      "cell_type": "code",
      "source": [
        "img = (np.expand_dims(img,0))\n",
        "\n",
        "print(img.shape)"
      ],
      "metadata": {
        "colab": {
          "base_uri": "https://localhost:8080/"
        },
        "id": "rTtczorQIv1O",
        "outputId": "a79cac0e-eada-489c-eb64-551c00ecb8e8"
      },
      "execution_count": 55,
      "outputs": [
        {
          "output_type": "stream",
          "name": "stdout",
          "text": [
            "(1, 28, 28)\n"
          ]
        }
      ]
    },
    {
      "cell_type": "code",
      "execution_count": null,
      "metadata": {
        "id": "lDFh5yF_CaXW"
      },
      "outputs": [],
      "source": [
        "# Add the image to a batch where it's the only member.\n",
        "img = (np.expand_dims(img,0))\n",
        "\n",
        "print(img.shape)"
      ]
    },
    {
      "cell_type": "markdown",
      "metadata": {
        "id": "EQ5wLTkcCaXY"
      },
      "source": [
        "이제 이 이미지의 예측을 만듭니다:"
      ]
    },
    {
      "cell_type": "code",
      "source": [
        "predictions_single = probability_model.predict(img)\n",
        "\n",
        "print(predictions_single)"
      ],
      "metadata": {
        "colab": {
          "base_uri": "https://localhost:8080/"
        },
        "id": "ZRfvt8a4JAkE",
        "outputId": "68fbabea-c1d8-49c9-bdbe-43299c475bac"
      },
      "execution_count": 56,
      "outputs": [
        {
          "output_type": "stream",
          "name": "stdout",
          "text": [
            "[[5.7956750e-05 8.4452993e-11 9.9799937e-01 1.6655700e-09 1.2698004e-03\n",
            "  1.0014756e-11 6.7281874e-04 3.7794068e-15 3.0392586e-09 6.9562384e-10]]\n"
          ]
        }
      ]
    },
    {
      "cell_type": "code",
      "execution_count": null,
      "metadata": {
        "id": "o_rzNSdrCaXY"
      },
      "outputs": [],
      "source": [
        "predictions_single = probability_model.predict(img)\n",
        "\n",
        "print(predictions_single)"
      ]
    },
    {
      "cell_type": "code",
      "source": [
        "plot_value_array(1,predictions_single[0] , test_labels)\n",
        "_ = plt.xticks(range(10) , class_names , rotation = 45) \n",
        "plt.show()"
      ],
      "metadata": {
        "colab": {
          "base_uri": "https://localhost:8080/",
          "height": 300
        },
        "id": "nKaFcvDVJHYs",
        "outputId": "86af2c94-9359-4fe0-f33b-eff3da914a39"
      },
      "execution_count": 58,
      "outputs": [
        {
          "output_type": "display_data",
          "data": {
            "image/png": "[encoded data removed]",
            "text/plain": [
              "<Figure size 432x288 with 1 Axes>"
            ]
          },
          "metadata": {
            "needs_background": "light"
          }
        }
      ]
    },
    {
      "cell_type": "code",
      "execution_count": null,
      "metadata": {
        "id": "6Ai-cpLjO-3A"
      },
      "outputs": [],
      "source": [
        "plot_value_array(1, predictions_single[0], test_labels)\n",
        "_ = plt.xticks(range(10), class_names, rotation=45)\n",
        "plt.show()"
      ]
    },
    {
      "cell_type": "markdown",
      "metadata": {
        "id": "cU1Y2OAMCaXb"
      },
      "source": [
        "`tf.keras.Model.predict`는 데이터 배치의 각 이미지에 대해 하나의 목록씩 목록의 목록을 반환합니다. 배치에서 (유일한) 이미지에 대한 예측을 가져옵니다."
      ]
    },
    {
      "cell_type": "code",
      "source": [
        "np.argmax(predictions_single[0])"
      ],
      "metadata": {
        "colab": {
          "base_uri": "https://localhost:8080/"
        },
        "id": "ZNF_iesNJbjv",
        "outputId": "40835bd5-0d68-4640-ca05-20e1e1a216ba"
      },
      "execution_count": 59,
      "outputs": [
        {
          "output_type": "execute_result",
          "data": {
            "text/plain": [
              "2"
            ]
          },
          "metadata": {},
          "execution_count": 59
        }
      ]
    },
    {
      "cell_type": "code",
      "execution_count": null,
      "metadata": {
        "id": "2tRmdq_8CaXb"
      },
      "outputs": [],
      "source": [
        "np.argmax(predictions_single[0])"
      ]
    },
    {
      "cell_type": "markdown",
      "metadata": {
        "id": "YFc2HbEVCaXd"
      },
      "source": [
        "예상과 같이 모델이 레이블을 예측합니다."
      ]
    }
  ],
  "metadata": {
    "colab": {
      "collapsed_sections": [],
      "name": "classification.ipynb의 사본",
      "toc_visible": true,
      "provenance": [],
      "include_colab_link": true
    },
    "kernelspec": {
      "display_name": "Python 3",
      "name": "python3"
    },
    "accelerator": "GPU"
  },
  "nbformat": 4,
  "nbformat_minor": 0
}
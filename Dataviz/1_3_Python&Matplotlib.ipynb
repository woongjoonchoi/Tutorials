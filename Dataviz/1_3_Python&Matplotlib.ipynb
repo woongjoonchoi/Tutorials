{
  "nbformat": 4,
  "nbformat_minor": 0,
  "metadata": {
    "kernelspec": {
      "display_name": "Python 3",
      "language": "python",
      "name": "python3"
    },
    "language_info": {
      "codemirror_mode": {
        "name": "ipython",
        "version": 3
      },
      "file_extension": ".py",
      "mimetype": "text/x-python",
      "name": "python",
      "nbconvert_exporter": "python",
      "pygments_lexer": "ipython3",
      "version": "3.8.0"
    },
    "colab": {
      "name": "1-3-Python&Matplotlib.ipynb",
      "provenance": [],
      "include_colab_link": true
    }
  },
  "cells": [
    {
      "cell_type": "markdown",
      "metadata": {
        "id": "view-in-github",
        "colab_type": "text"
      },
      "source": [
        "<a href=\"https://colab.research.google.com/github/woongjoonchoi/Tutorials/blob/main/Dataviz/1_3_Python%26Matplotlib.ipynb\" target=\"_parent\"><img src=\"https://colab.research.google.com/assets/colab-badge.svg\" alt=\"Open In Colab\"/></a>"
      ]
    },
    {
      "cell_type": "markdown",
      "metadata": {
        "id": "37eIO5mfj26g"
      },
      "source": [
        "# 1-3. Python과 Matplotlib\n",
        "\n",
        "## 1. 왜 Matplotlib일까?\n",
        "\n",
        "- `Matplotlib`은 Python에서 사용할 수 있는 시각화 라이브러리.\n",
        "- 현재 사용되고 있는 다양한 데이터 분석 및 머신러닝/딥러닝은 Python에서 이뤄지고 있다. \n",
        "- `numpy`와 `scipy`를 베이스로 하여 다양한 라이브러리와 호환성이 좋다. \n",
        "    - `Scikit-Learn`, `PyTorch`, `Tensorflow`\n",
        "    - `Pandas`\n",
        "- 다양한 시각화 방법론을 제공한다.\n",
        "    - 막대그래프 \n",
        "    - 선그래프\n",
        "    - 산점도\n",
        "    - ETC\n",
        "    \n",
        "- 그 외에도 `Seaborn`, `Plotly`, `Bokeh`, `Altair` 등의 시각화 라이브러리가 존재\n",
        "    - Matplotlib가 범용성이 제일 넓고, base가 되는 라이브러리\n",
        "\n",
        "### 1-1. Import Library\n",
        "\n",
        "`matplotlib`은 줄여서 `mpl`로 코드 상에서 사용합니다."
      ]
    },
    {
      "cell_type": "code",
      "metadata": {
        "id": "m3LF3jVtj26k"
      },
      "source": [
        "import numpy as np \n",
        "import matplotlib as mpl\n",
        "\n",
        "print(f'numpy version : {np.__version__}') # version check\n",
        "print(f'matplotlib version : {mpl.__version__}') # version check"
      ],
      "execution_count": null,
      "outputs": []
    },
    {
      "cell_type": "markdown",
      "metadata": {
        "id": "_6it9JgJj26l"
      },
      "source": [
        "만약 버전이 다르다면 `pip install matplotlib` 또는 `conda install matplotlib`으로 라이브러리를 다운받으시면 됩니다.\n",
        "\n",
        "그리고 가장 많이 사용하는 `pyplot` 모듈도 함께 불러옵니다. (이전에는 `pylab`이 있었지만 현재는 지원안함)"
      ]
    },
    {
      "cell_type": "code",
      "metadata": {
        "id": "TIkIpl38j26m"
      },
      "source": [
        "import matplotlib.pyplot as plt"
      ],
      "execution_count": null,
      "outputs": []
    },
    {
      "cell_type": "markdown",
      "metadata": {
        "id": "QpvnhbBKj26m"
      },
      "source": [
        "## 2. 기본 Plot\n",
        "\n",
        "### 2-1. Figure와 Axes\n",
        "\n",
        "matplotlib에서 그리는 시각화는 Figure라는 큰 틀에 Ax라는 서브플롯을 추가해서 만든다."
      ]
    },
    {
      "cell_type": "code",
      "metadata": {
        "id": "JWY6aOyhj26m"
      },
      "source": [
        "fig = plt.figure()\n",
        "plt.show()"
      ],
      "execution_count": null,
      "outputs": []
    },
    {
      "cell_type": "markdown",
      "metadata": {
        "id": "ztZ-ILHkj26n"
      },
      "source": [
        "다만 Figure는 큰 틀이라 서브플롯을 최소 1개 이상 추가해야 하고, 추가하는 다양한 방법이 있습니다. \n",
        "\n",
        "> 3.차트의 요소/3.Facet에서 구체적으로 다룰 예정"
      ]
    },
    {
      "cell_type": "code",
      "metadata": {
        "id": "bOW2A8Noj26n"
      },
      "source": [
        "fig = plt.figure()\n",
        "ax = fig.add_subplot()\n",
        "plt.show()"
      ],
      "execution_count": null,
      "outputs": []
    },
    {
      "cell_type": "markdown",
      "metadata": {
        "id": "OWBoIU6yj26n"
      },
      "source": [
        "그래프의 사이즈는 figure의 사이즈로 서브플롯 ax의 사이즈를 조정합니다. \n",
        "\n",
        "가로, 세로 길이(inch 단위)를 tuple형태로 figsize 파라미터에 전달하여 조정합니다. \n",
        "\n",
        "노트북 환경에서는 비율로 생각하고 진행하면 편리합니다."
      ]
    },
    {
      "cell_type": "code",
      "metadata": {
        "id": "O4grhI4ij26o"
      },
      "source": [
        "fig = plt.figure(figsize=(12, 7))\n",
        "ax = fig.add_subplot()\n",
        "plt.show()"
      ],
      "execution_count": null,
      "outputs": []
    },
    {
      "cell_type": "markdown",
      "metadata": {
        "id": "WXgTdKlOj26o"
      },
      "source": [
        "2개 이상 그리고 싶다면 위치를 지정해주어야 합니다."
      ]
    },
    {
      "cell_type": "code",
      "metadata": {
        "id": "IUWXwLAMj26o"
      },
      "source": [
        "fig = plt.figure()\n",
        "ax = fig.add_subplot(121) \n",
        "# ax = fig.add_subplot(1, 2, 1)로 사용가능\n",
        "ax = fig.add_subplot(122) \n",
        "plt.show()"
      ],
      "execution_count": null,
      "outputs": []
    },
    {
      "cell_type": "code",
      "metadata": {
        "id": "pM1lSlPhj26p"
      },
      "source": [
        "fig = plt.figure()\n",
        "ax1 = fig.add_subplot(211) \n",
        "ax2 = fig.add_subplot(212) \n",
        "# 같은 내용이지만 더 가독성을 높인다면 \n",
        "# 다음과 같이 사용 가능\n",
        "# ax1 = fig.add_subplot(1, 2, 1)\n",
        "# ax2 = fig.add_subplot(1, 2, 2)\n",
        "plt.show()"
      ],
      "execution_count": null,
      "outputs": []
    },
    {
      "cell_type": "markdown",
      "metadata": {
        "id": "youNVIC1j26p"
      },
      "source": [
        "### 2-2. plt로 그래프 그리기\n",
        "\n",
        "리스트 `[1, 2, 3]` 데이터를 `ax`에 그린다면 어떻게 그릴 수 있을까요?\n",
        "\n",
        "우선은 2장.기본차트에서 다루도록하고 선그래프를 그리는 `plot`을 그려보게습니다."
      ]
    },
    {
      "cell_type": "code",
      "metadata": {
        "id": "gkArRN1oj26p"
      },
      "source": [
        "fig = plt.figure()\n",
        "ax = fig.add_subplot()\n",
        "\n",
        "x = [1, 2, 3]\n",
        "\n",
        "plt.plot(x)\n",
        "plt.show()"
      ],
      "execution_count": null,
      "outputs": []
    },
    {
      "cell_type": "markdown",
      "metadata": {
        "id": "MKsm6W38j26p"
      },
      "source": [
        "2개를 순서대로 그린다면 다음과 같이 그릴 수 있습니다."
      ]
    },
    {
      "cell_type": "code",
      "metadata": {
        "id": "aBNbWHbTj26p"
      },
      "source": [
        "fig = plt.figure()\n",
        "\n",
        "x1 = [1, 2, 3]\n",
        "x2 = [3, 2, 1]\n",
        "\n",
        "ax1 = fig.add_subplot(211) \n",
        "plt.plot(x1) # ax1에 그리기\n",
        "ax2 = fig.add_subplot(212) \n",
        "plt.plot(x2) # ax2에 그리기\n",
        "plt.show()"
      ],
      "execution_count": null,
      "outputs": []
    },
    {
      "cell_type": "markdown",
      "metadata": {
        "id": "SPYQDiEKj26q"
      },
      "source": [
        "`plt`로 그리는 그래프들은 순차적으로 그리기에 좋습니다. \n",
        "\n",
        "하지만 프로그래밍 스타일에 따라 (보편적인 Python)에서는 꼭 순차적으로 그리지만은 않습니다.\n",
        "\n",
        "좀 더 pythonic하게 구현을 하려면 어떻게 해야할까요?"
      ]
    },
    {
      "cell_type": "markdown",
      "metadata": {
        "id": "ShiqG_9rj26q"
      },
      "source": [
        "### 2-3. 서브플롯 객체 ax에 그리기\n",
        "\n",
        "`ax` 객체에 직접그리면 됩니다. 이렇게 Matplotlib은 그릴 때 두 가지 API를 따로 지원합니다.\n",
        "\n",
        "- Pyplot API : 순차적 방법\n",
        "- 객체지향(Object-Oriented) API : 그래프에서 각 객체에 대해 직접적으로 수정하는 방법\n",
        "\n",
        "> 편한 커스텀을 위해 강의 및 자료에서는 가능한 객체지향 API를 사용합니다."
      ]
    },
    {
      "cell_type": "code",
      "metadata": {
        "id": "rHzZ16XHj26q"
      },
      "source": [
        "fig = plt.figure()\n",
        "\n",
        "x1 = [1, 2, 3]\n",
        "x2 = [3, 2, 1]\n",
        "\n",
        "ax1 = fig.add_subplot(211) \n",
        "ax2 = fig.add_subplot(212) \n",
        "\n",
        "ax1.plot(x1) \n",
        "ax2.plot(x2)\n",
        "plt.show()"
      ],
      "execution_count": null,
      "outputs": []
    },
    {
      "cell_type": "markdown",
      "metadata": {
        "id": "gMXZ0PtUj26q"
      },
      "source": [
        "> plt로 그리다 plt.gcf().get_axes()로 다시 서브플롯 객체를 받아서 사용할 수도 있음"
      ]
    },
    {
      "cell_type": "markdown",
      "metadata": {
        "id": "4IUxriEbj26r"
      },
      "source": [
        "## 3. Plot의 요소들 알아보기\n",
        "\n",
        "### 3-1. 한 서브플롯에서 여러 개 그리기\n",
        "\n",
        "ax에는 동시에 다양한 그래프를 그릴 수 있습니다."
      ]
    },
    {
      "cell_type": "code",
      "metadata": {
        "id": "BaSFbh7_j26r"
      },
      "source": [
        "fig = plt.figure()\n",
        "ax = fig.add_subplot(111) \n",
        "# 3개의 그래프 동시에 그리기\n",
        "ax.plot([1, 1, 1]) # 파랑\n",
        "ax.plot([1, 2, 3]) # 주황\n",
        "ax.plot([3, 3, 3]) # 초록\n",
        "\n",
        "plt.show()"
      ],
      "execution_count": null,
      "outputs": []
    },
    {
      "cell_type": "markdown",
      "metadata": {
        "id": "s1V2eSXsj26r"
      },
      "source": [
        "동시에 그래프를 그리게 되면 색상이 자동적으로 구분됩니다."
      ]
    },
    {
      "cell_type": "code",
      "metadata": {
        "id": "f5uO8bnVj26r"
      },
      "source": [
        "fig = plt.figure()\n",
        "ax = fig.add_subplot(111) \n",
        "\n",
        "# 선그래프와 막대그래프 동시에 그리기\n",
        "ax.plot([1, 2, 3], [1, 2, 3]) \n",
        "ax.bar([1, 2, 3], [1, 2, 3]) \n",
        "\n",
        "plt.show()"
      ],
      "execution_count": null,
      "outputs": []
    },
    {
      "cell_type": "markdown",
      "metadata": {
        "id": "Lc1CBmCkj26r"
      },
      "source": [
        "다른 종류의 그래프가 추가된다면 다시 파란색으로 시작하기에 색을 명시해주는 게 좋습니다."
      ]
    },
    {
      "cell_type": "markdown",
      "metadata": {
        "id": "954CDRVoj26s"
      },
      "source": [
        "### 3-2. 색상 지정하기\n",
        "\n",
        "색을 직접 명시할 수 있고, 일반적으로 `color` 파라미터를 통해 전달합니다.\n",
        "\n",
        "color를 명시하는 3가지 방법은 코드를 통해 살펴봅시다."
      ]
    },
    {
      "cell_type": "code",
      "metadata": {
        "id": "5PpEA06uj26s"
      },
      "source": [
        "fig = plt.figure()\n",
        "ax = fig.add_subplot(111) \n",
        "# 3개의 그래프 동시에 그리기\n",
        "ax.plot([1, 1, 1], color='r') # 한 글자로 정하는 색상\n",
        "ax.plot([2, 2, 2], color='forestgreen') # color name\n",
        "ax.plot([3, 3, 3], color='#000000') # hex code (BLACK)\n",
        "plt.show()"
      ],
      "execution_count": null,
      "outputs": []
    },
    {
      "cell_type": "markdown",
      "metadata": {
        "id": "mTeJpXwpj26s"
      },
      "source": [
        "> 색에 대한 다양한 조합은 직접하면 제일 좋겠지만 rgb hex값을 검색하는 방법을 추천!!\n",
        "\n",
        "> 더 자세한 내용은 차트의 요소 - 2. color에서 "
      ]
    },
    {
      "cell_type": "markdown",
      "metadata": {
        "id": "CJnkmLDGj26s"
      },
      "source": [
        "### 3-3. 텍스트 사용하기\n",
        "\n",
        "정보를 추가하기 위해 텍스트를 사용할 수도 있습니다.\n",
        "\n",
        "> 더 자세한 내용은 3.차트의 요소 > 1. Text에서 계속\n",
        "\n",
        "우선 label을 봅시다."
      ]
    },
    {
      "cell_type": "code",
      "metadata": {
        "id": "wu4E_vSbj26s"
      },
      "source": [
        "fig = plt.figure()\n",
        "ax = fig.add_subplot(111) \n",
        "ax.plot([1, 1, 1], label='1') \n",
        "ax.plot([2, 2, 2], label='2') \n",
        "ax.plot([3, 3, 3], label='3')\n",
        "plt.show()"
      ],
      "execution_count": null,
      "outputs": []
    },
    {
      "cell_type": "markdown",
      "metadata": {
        "id": "7Brfq_Vcj26s"
      },
      "source": [
        "시각화에서 드러나지 않습니다. 범례(`legend`)를 추가해보겠습니다."
      ]
    },
    {
      "cell_type": "code",
      "metadata": {
        "id": "L8_KHluyj26s"
      },
      "source": [
        "fig = plt.figure()\n",
        "ax = fig.add_subplot(111) \n",
        "ax.plot([1, 1, 1], label='1') \n",
        "ax.plot([2, 2, 2], label='2') \n",
        "ax.plot([3, 3, 3], label='3')\n",
        "ax.legend()\n",
        "plt.show()"
      ],
      "execution_count": null,
      "outputs": []
    },
    {
      "cell_type": "markdown",
      "metadata": {
        "id": "zRJyBJpMj26t"
      },
      "source": [
        "범례를 추가하면 해당 그래프와 매칭되는 텍스트 정보가 추가됩니다.\n",
        "\n",
        "여기서 제목(`title`)을 추가해보겠습니다."
      ]
    },
    {
      "cell_type": "code",
      "metadata": {
        "id": "WCOAlEc5j26t"
      },
      "source": [
        "fig = plt.figure()\n",
        "ax = fig.add_subplot(111) \n",
        "ax.plot([1, 1, 1], label='1') \n",
        "ax.plot([2, 2, 2], label='2') \n",
        "ax.plot([3, 3, 3], label='3')\n",
        "ax.set_title('Basic Plot')\n",
        "ax.legend()\n",
        "plt.show()"
      ],
      "execution_count": null,
      "outputs": []
    },
    {
      "cell_type": "markdown",
      "metadata": {
        "id": "w1U6tcQPj26t"
      },
      "source": [
        "ax에서 특정 데이터를 변경하는 경우 `.set_{}()` 형태의 메서드가 많습니다. 알아둡시다 :)\n",
        "\n",
        "`set`으로 세팅하는 정보들은 반대로 해당 정보를 받아오는 경우에는 `.get_{}()` 형태의 메서드를 사용합니다."
      ]
    },
    {
      "cell_type": "code",
      "metadata": {
        "id": "kHE2XIeMj26t"
      },
      "source": [
        "fig = plt.figure()\n",
        "ax = fig.add_subplot(111) \n",
        "ax.plot([1, 1, 1], label='1') \n",
        "ax.plot([2, 2, 2], label='2') \n",
        "ax.plot([3, 3, 3], label='3')\n",
        "ax.set_title('Basic Plot')\n",
        "ax.legend()\n",
        "\n",
        "print(ax.get_title())\n",
        "plt.show()"
      ],
      "execution_count": null,
      "outputs": []
    },
    {
      "cell_type": "markdown",
      "metadata": {
        "id": "klCDPmM4j26t"
      },
      "source": [
        "축은 `ticks`와 `ticklabels`로 구분됩니다.\n",
        "\n",
        "`ticks`은 축에 적히는 수 위치를 지정합니다."
      ]
    },
    {
      "cell_type": "code",
      "metadata": {
        "id": "0VEQo3b9j26t"
      },
      "source": [
        "fig = plt.figure()\n",
        "ax = fig.add_subplot(111) \n",
        "ax.plot([1, 1, 1], label='1') \n",
        "ax.plot([2, 2, 2], label='2') \n",
        "ax.plot([3, 3, 3], label='3')\n",
        "\n",
        "\n",
        "ax.set_title('Basic Plot')\n",
        "ax.set_xticks([0, 1, 2])\n",
        "\n",
        "\n",
        "ax.legend()\n",
        "\n",
        "plt.show()"
      ],
      "execution_count": null,
      "outputs": []
    },
    {
      "cell_type": "markdown",
      "metadata": {
        "id": "Xae6eU-fj26u"
      },
      "source": [
        "`ticklabels`은 축에 적히는 텍스트를 수정합니다."
      ]
    },
    {
      "cell_type": "code",
      "metadata": {
        "id": "Zo-l5puwj26u"
      },
      "source": [
        "fig = plt.figure()\n",
        "ax = fig.add_subplot(111) \n",
        "ax.plot([1, 1, 1], label='1') \n",
        "ax.plot([2, 2, 2], label='2') \n",
        "ax.plot([3, 3, 3], label='3')\n",
        "\n",
        "\n",
        "ax.set_title('Basic Plot')\n",
        "ax.set_xticks([0, 1, 2])\n",
        "ax.set_xticklabels(['zero', 'one', 'two'])\n",
        "ax.legend()\n",
        "\n",
        "plt.show()"
      ],
      "execution_count": null,
      "outputs": []
    },
    {
      "cell_type": "markdown",
      "metadata": {
        "id": "wcRK0Bszj26u"
      },
      "source": [
        "마지막으로는 일반적인 텍스트를 추가하는 2가지가 있습니다."
      ]
    },
    {
      "cell_type": "code",
      "metadata": {
        "id": "545d5Qsxj26u"
      },
      "source": [
        "fig = plt.figure()\n",
        "ax = fig.add_subplot(111) \n",
        "ax.plot([1, 1, 1], label='1') \n",
        "ax.plot([2, 2, 2], label='2') \n",
        "ax.plot([3, 3, 3], label='3')\n",
        "\n",
        "\n",
        "ax.set_title('Basic Plot')\n",
        "ax.set_xticks([0, 1, 2])\n",
        "ax.set_xticklabels(['zero', 'one', 'two'])\n",
        "\n",
        "ax.text(x=1, y=2, s='This is Text')\n",
        "\n",
        "ax.legend()\n",
        "\n",
        "plt.show()"
      ],
      "execution_count": null,
      "outputs": []
    },
    {
      "cell_type": "code",
      "metadata": {
        "id": "jCfnYtLSj26u"
      },
      "source": [
        "fig = plt.figure()\n",
        "ax = fig.add_subplot(111) \n",
        "ax.plot([1, 1, 1], label='1') \n",
        "ax.plot([2, 2, 2], label='2') \n",
        "ax.plot([3, 3, 3], label='3')\n",
        "\n",
        "\n",
        "ax.set_title('Basic Plot')\n",
        "ax.set_xticks([0, 1, 2])\n",
        "ax.set_xticklabels(['zero', 'one', 'two'])\n",
        "\n",
        "ax.annotate(text='This is Annotate', xy=(1, 2))\n",
        "\n",
        "ax.legend()\n",
        "\n",
        "plt.show()"
      ],
      "execution_count": null,
      "outputs": []
    },
    {
      "cell_type": "markdown",
      "metadata": {
        "id": "pUJi7cHkj26u"
      },
      "source": [
        "annotate는 화살표 등을 추가할 수 있다는 장점이 있습니다. (세세한 세팅은 추후에 알아보겠습니다.)"
      ]
    },
    {
      "cell_type": "code",
      "metadata": {
        "id": "_zyid-jlj26v"
      },
      "source": [
        "fig = plt.figure()\n",
        "ax = fig.add_subplot(111) \n",
        "ax.plot([1, 1, 1], label='1') \n",
        "ax.plot([2, 2, 2], label='2') \n",
        "ax.plot([3, 3, 3], label='3')\n",
        "\n",
        "\n",
        "ax.set_title('Basic Plot')\n",
        "ax.set_xticks([0, 1, 2])\n",
        "ax.set_xticklabels(['zero', 'one', 'two'])\n",
        "\n",
        "ax.annotate(text='This is Annotate', xy=(1, 2),\n",
        "           xytext=(1.2, 2.2), \n",
        "            arrowprops=dict(facecolor='black'),\n",
        "           )\n",
        "\n",
        "ax.legend()\n",
        "\n",
        "plt.show()"
      ],
      "execution_count": null,
      "outputs": []
    },
    {
      "cell_type": "code",
      "metadata": {
        "id": "I6ICfD3jj26v"
      },
      "source": [
        ""
      ],
      "execution_count": null,
      "outputs": []
    }
  ]
}
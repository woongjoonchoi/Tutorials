{
  "nbformat": 4,
  "nbformat_minor": 0,
  "metadata": {
    "kernelspec": {
      "display_name": "Python 3",
      "language": "python",
      "name": "python3"
    },
    "language_info": {
      "codemirror_mode": {
        "name": "ipython",
        "version": 3
      },
      "file_extension": ".py",
      "mimetype": "text/x-python",
      "name": "python",
      "nbconvert_exporter": "python",
      "pygments_lexer": "ipython3",
      "version": "3.8.0"
    },
    "colab": {
      "name": "1-3-Python&Matplotlib.ipynb",
      "provenance": [],
      "collapsed_sections": [
        "QpvnhbBKj26m",
        "youNVIC1j26p",
        "ShiqG_9rj26q",
        "954CDRVoj26s"
      ],
      "toc_visible": true,
      "include_colab_link": true
    }
  },
  "cells": [
    {
      "cell_type": "markdown",
      "metadata": {
        "id": "view-in-github",
        "colab_type": "text"
      },
      "source": [
        "<a href=\"https://colab.research.google.com/github/woongjoonchoi/Tutorials/blob/main/Dataviz/1_3_Python%26Matplotlib.ipynb\" target=\"_parent\"><img src=\"https://colab.research.google.com/assets/colab-badge.svg\" alt=\"Open In Colab\"/></a>"
      ]
    },
    {
      "cell_type": "markdown",
      "metadata": {
        "id": "37eIO5mfj26g"
      },
      "source": [
        "# 1-3. Python과 Matplotlib\n",
        "\n",
        "## 1. 왜 Matplotlib일까?\n",
        "\n",
        "- `Matplotlib`은 Python에서 사용할 수 있는 시각화 라이브러리.\n",
        "- 현재 사용되고 있는 다양한 데이터 분석 및 머신러닝/딥러닝은 Python에서 이뤄지고 있다. \n",
        "- `numpy`와 `scipy`를 베이스로 하여 다양한 라이브러리와 호환성이 좋다. \n",
        "    - `Scikit-Learn`, `PyTorch`, `Tensorflow`\n",
        "    - `Pandas`\n",
        "- 다양한 시각화 방법론을 제공한다.\n",
        "    - 막대그래프 \n",
        "    - 선그래프\n",
        "    - 산점도\n",
        "    - ETC\n",
        "    \n",
        "- 그 외에도 `Seaborn`, `Plotly`, `Bokeh`, `Altair` 등의 시각화 라이브러리가 존재\n",
        "    - Matplotlib가 범용성이 제일 넓고, base가 되는 라이브러리\n",
        "\n",
        "### 1-1. Import Library\n",
        "\n",
        "`matplotlib`은 줄여서 `mpl`로 코드 상에서 사용합니다."
      ]
    },
    {
      "cell_type": "code",
      "metadata": {
        "id": "m3LF3jVtj26k",
        "colab": {
          "base_uri": "https://localhost:8080/"
        },
        "outputId": "84199193-f032-498e-efef-4e7a901cf799"
      },
      "source": [
        "# import numpy as np \n",
        "# import matplotlib as mpl\n",
        "\n",
        "# print(f'numpy version : {np.__version__}') # version check\n",
        "# print(f'matplotlib version : {mpl.__version__}') # version check"
      ],
      "execution_count": null,
      "outputs": [
        {
          "output_type": "stream",
          "name": "stdout",
          "text": [
            "numpy version : 1.19.5\n",
            "matplotlib version : 3.2.2\n"
          ]
        }
      ]
    },
    {
      "cell_type": "code",
      "source": [
        "!pip install matplotlib==3.3.4"
      ],
      "metadata": {
        "id": "JI_m0-ucMiQT",
        "colab": {
          "base_uri": "https://localhost:8080/",
          "height": 454
        },
        "outputId": "ab5d6600-364e-4f6d-d666-80b6e18d5a09"
      },
      "execution_count": 1,
      "outputs": [
        {
          "output_type": "stream",
          "name": "stdout",
          "text": [
            "Collecting matplotlib==3.3.4\n",
            "  Downloading matplotlib-3.3.4-cp37-cp37m-manylinux1_x86_64.whl (11.5 MB)\n",
            "\u001b[K     |████████████████████████████████| 11.5 MB 37.9 MB/s \n",
            "\u001b[?25hRequirement already satisfied: cycler>=0.10 in /usr/local/lib/python3.7/dist-packages (from matplotlib==3.3.4) (0.11.0)\n",
            "Requirement already satisfied: pyparsing!=2.0.4,!=2.1.2,!=2.1.6,>=2.0.3 in /usr/local/lib/python3.7/dist-packages (from matplotlib==3.3.4) (3.0.6)\n",
            "Requirement already satisfied: pillow>=6.2.0 in /usr/local/lib/python3.7/dist-packages (from matplotlib==3.3.4) (7.1.2)\n",
            "Requirement already satisfied: python-dateutil>=2.1 in /usr/local/lib/python3.7/dist-packages (from matplotlib==3.3.4) (2.8.2)\n",
            "Requirement already satisfied: kiwisolver>=1.0.1 in /usr/local/lib/python3.7/dist-packages (from matplotlib==3.3.4) (1.3.2)\n",
            "Requirement already satisfied: numpy>=1.15 in /usr/local/lib/python3.7/dist-packages (from matplotlib==3.3.4) (1.19.5)\n",
            "Requirement already satisfied: six>=1.5 in /usr/local/lib/python3.7/dist-packages (from python-dateutil>=2.1->matplotlib==3.3.4) (1.15.0)\n",
            "Installing collected packages: matplotlib\n",
            "  Attempting uninstall: matplotlib\n",
            "    Found existing installation: matplotlib 3.2.2\n",
            "    Uninstalling matplotlib-3.2.2:\n",
            "      Successfully uninstalled matplotlib-3.2.2\n",
            "\u001b[31mERROR: pip's dependency resolver does not currently take into account all the packages that are installed. This behaviour is the source of the following dependency conflicts.\n",
            "albumentations 0.1.12 requires imgaug<0.2.7,>=0.2.5, but you have imgaug 0.2.9 which is incompatible.\u001b[0m\n",
            "Successfully installed matplotlib-3.3.4\n"
          ]
        },
        {
          "output_type": "display_data",
          "data": {
            "application/vnd.colab-display-data+json": {
              "pip_warning": {
                "packages": [
                  "matplotlib",
                  "mpl_toolkits"
                ]
              }
            }
          },
          "metadata": {}
        }
      ]
    },
    {
      "cell_type": "code",
      "source": [
        "import numpy as np\n",
        "import matplotlib as mpl\n",
        "\n",
        "print(f'numpy version  : {np.__version__}')\n",
        "print(f'matplotlib version:  {mpl.__version__}')"
      ],
      "metadata": {
        "colab": {
          "base_uri": "https://localhost:8080/"
        },
        "id": "UhgMzbYOMKfL",
        "outputId": "a1435399-d6f3-49bf-b732-52587a602ab8"
      },
      "execution_count": 1,
      "outputs": [
        {
          "output_type": "stream",
          "name": "stdout",
          "text": [
            "numpy version  : 1.19.5\n",
            "matplotlib version:  3.3.4\n"
          ]
        }
      ]
    },
    {
      "cell_type": "markdown",
      "metadata": {
        "id": "_6it9JgJj26l"
      },
      "source": [
        "만약 버전이 다르다면 `pip install matplotlib` 또는 `conda install matplotlib`으로 라이브러리를 다운받으시면 됩니다.\n",
        "\n",
        "그리고 가장 많이 사용하는 `pyplot` 모듈도 함께 불러옵니다. (이전에는 `pylab`이 있었지만 현재는 지원안함)"
      ]
    },
    {
      "cell_type": "code",
      "metadata": {
        "id": "TIkIpl38j26m"
      },
      "source": [
        "# import matplotlib.pyplot as plt"
      ],
      "execution_count": null,
      "outputs": []
    },
    {
      "cell_type": "code",
      "source": [
        "import matplotlib.pyplot as plt"
      ],
      "metadata": {
        "id": "1mTkjSntMYP-"
      },
      "execution_count": 2,
      "outputs": []
    },
    {
      "cell_type": "markdown",
      "metadata": {
        "id": "QpvnhbBKj26m"
      },
      "source": [
        "## 2. 기본 Plot\n",
        "\n",
        "### 2-1. Figure와 Axes\n",
        "\n",
        "matplotlib에서 그리는 시각화는 Figure라는 큰 틀에 Ax라는 서브플롯을 추가해서 만든다."
      ]
    },
    {
      "cell_type": "code",
      "source": [
        ""
      ],
      "metadata": {
        "id": "yuEdGWnrNYbg"
      },
      "execution_count": null,
      "outputs": []
    },
    {
      "cell_type": "markdown",
      "metadata": {
        "id": "ztZ-ILHkj26n"
      },
      "source": [
        "다만 Figure는 큰 틀이라 서브플롯을 최소 1개 이상 추가해야 하고, 추가하는 다양한 방법이 있습니다. \n",
        "\n",
        "> 3.차트의 요소/3.Facet에서 구체적으로 다룰 예정"
      ]
    },
    {
      "cell_type": "markdown",
      "source": [
        "1000개씩 그리면 cpu가 많은 cost를 차지하기 때문에, 한번에 100개정도 그릴 수 있습니다.\n"
      ],
      "metadata": {
        "id": "Sro0UJILNlgX"
      }
    },
    {
      "cell_type": "code",
      "source": [
        ""
      ],
      "metadata": {
        "id": "JIWyk66HNY61"
      },
      "execution_count": null,
      "outputs": []
    },
    {
      "cell_type": "markdown",
      "metadata": {
        "id": "OWBoIU6yj26n"
      },
      "source": [
        "그래프의 사이즈는 figure의 사이즈로 서브플롯 ax의 사이즈를 조정합니다. \n",
        "\n",
        "가로, 세로 길이(inch 단위)를 tuple형태로 figsize 파라미터에 전달하여 조정합니다. \n",
        "\n",
        "노트북 환경에서는 비율로 생각하고 진행하면 편리합니다."
      ]
    },
    {
      "cell_type": "code",
      "metadata": {
        "id": "O4grhI4ij26o",
        "colab": {
          "base_uri": "https://localhost:8080/",
          "height": 432
        },
        "outputId": "5e53e34d-8f4c-4b77-d6bb-b0802b7bddc8"
      },
      "source": [
        "fig = plt.figure(figsize=(12,7))\n",
        "ax = fig.add_subplot()\n",
        "plt.show()\n"
      ],
      "execution_count": null,
      "outputs": [
        {
          "output_type": "display_data",
          "data": {
            "image/png": "[encoded data removed]",
            "text/plain": [
              "<Figure size 864x504 with 1 Axes>"
            ]
          },
          "metadata": {
            "needs_background": "light"
          }
        }
      ]
    },
    {
      "cell_type": "markdown",
      "metadata": {
        "id": "WXgTdKlOj26o"
      },
      "source": [
        "2개 이상 그리고 싶다면 위치를 지정해주어야 합니다."
      ]
    },
    {
      "cell_type": "markdown",
      "source": [
        "question : 아래 그림과 같이 그리시오"
      ],
      "metadata": {
        "id": "jRlim6gsOZpt"
      }
    },
    {
      "cell_type": "markdown",
      "source": [
        "![image.png](data:image/png;base64,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)"
      ],
      "metadata": {
        "id": "AKxn4flxOV-t"
      }
    },
    {
      "cell_type": "markdown",
      "source": [
        "Q . 아래 그림과 같이 그리시오"
      ],
      "metadata": {
        "id": "dvC_GBqNOlMG"
      }
    },
    {
      "cell_type": "markdown",
      "source": [
        "![image.png](data:image/png;base64,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)"
      ],
      "metadata": {
        "id": "YEZ4VfpqOh5F"
      }
    },
    {
      "cell_type": "markdown",
      "metadata": {
        "id": "youNVIC1j26p"
      },
      "source": [
        "### 2-2. plt로 그래프 그리기\n",
        "\n",
        "리스트 `[1, 2, 3]` 데이터를 `ax`에 그린다면 어떻게 그릴 수 있을까요?\n",
        "\n",
        "우선은 2장.기본차트에서 다루도록하고 선그래프를 그리는 `plot`을 그려보게습니다."
      ]
    },
    {
      "cell_type": "markdown",
      "source": [
        "Q . 아래 그래프를 그려보시요"
      ],
      "metadata": {
        "id": "KQBytkddPa0D"
      }
    },
    {
      "cell_type": "markdown",
      "source": [
        "![image.png](data:image/png;base64,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)"
      ],
      "metadata": {
        "id": "4RWZSnQRPZF3"
      }
    },
    {
      "cell_type": "markdown",
      "metadata": {
        "id": "MKsm6W38j26p"
      },
      "source": [
        "2개를 순서대로 그린다면 다음과 같이 그릴 수 있습니다."
      ]
    },
    {
      "cell_type": "markdown",
      "source": [
        "Q. 아래와 같이그리시오 .plt의 method를 활용\n"
      ],
      "metadata": {
        "id": "LkpsWNuDP--7"
      }
    },
    {
      "cell_type": "markdown",
      "source": [
        "![image.png](\n",
        "  \n",
        ")![image.png](data:image/png;base64,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)"
      ],
      "metadata": {
        "id": "laa3tcMBQCZ1"
      }
    },
    {
      "cell_type": "markdown",
      "metadata": {
        "id": "SPYQDiEKj26q"
      },
      "source": [
        "`plt`로 그리는 그래프들은 순차적으로 그리기에 좋습니다. \n",
        "\n",
        "하지만 프로그래밍 스타일에 따라 (보편적인 Python)에서는 꼭 순차적으로 그리지만은 않습니다.\n",
        "\n",
        "좀 더 pythonic하게 구현을 하려면 어떻게 해야할까요?"
      ]
    },
    {
      "cell_type": "markdown",
      "metadata": {
        "id": "ShiqG_9rj26q"
      },
      "source": [
        "### 2-3. 서브플롯 객체 ax에 그리기\n",
        "\n",
        "`ax` 객체에 직접그리면 됩니다. 이렇게 Matplotlib은 그릴 때 두 가지 API를 따로 지원합니다.\n",
        "\n",
        "- Pyplot API : 순차적 방법\n",
        "- 객체지향(Object-Oriented) API : 그래프에서 각 객체에 대해 직접적으로 수정하는 방법\n",
        "\n",
        "> 편한 커스텀을 위해 강의 및 자료에서는 가능한 객체지향 API를 사용합니다."
      ]
    },
    {
      "cell_type": "markdown",
      "source": [
        "Q . 아래 그림과 같이 그리시오 , 객체지향API를 사용해서"
      ],
      "metadata": {
        "id": "AVdsOp8oQsqt"
      }
    },
    {
      "cell_type": "markdown",
      "source": [
        "![image.png](data:image/png;base64,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)"
      ],
      "metadata": {
        "id": "xIUbrmrOQwDu"
      }
    },
    {
      "cell_type": "markdown",
      "metadata": {
        "id": "gMXZ0PtUj26q"
      },
      "source": [
        "> plt로 그리다 plt.gcf().get_axes()로 다시 서브플롯 객체를 받아서 사용할 수도 있음"
      ]
    },
    {
      "cell_type": "markdown",
      "metadata": {
        "id": "4IUxriEbj26r"
      },
      "source": [
        "## 3. Plot의 요소들 알아보기\n",
        "\n",
        "### 3-1. 한 서브플롯에서 여러 개 그리기\n",
        "\n",
        "ax에는 동시에 다양한 그래프를 그릴 수 있습니다."
      ]
    },
    {
      "cell_type": "markdown",
      "source": [
        "Q . 아래와 같이 그리시오 ,객체지향 api를 사용해서"
      ],
      "metadata": {
        "id": "EKYI4UFtRkap"
      }
    },
    {
      "cell_type": "markdown",
      "source": [
        "![image.png](data:image/png;base64,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)"
      ],
      "metadata": {
        "id": "QXhDkmdpRnZ2"
      }
    },
    {
      "cell_type": "markdown",
      "metadata": {
        "id": "s1V2eSXsj26r"
      },
      "source": [
        "동시에 그래프를 그리게 되면 색상이 자동적으로 구분됩니다."
      ]
    },
    {
      "cell_type": "markdown",
      "source": [
        "Q. 아래 그림과 같이 그리시오. 객체지향 api를 사용해서"
      ],
      "metadata": {
        "id": "uGK6wuaYR7aa"
      }
    },
    {
      "cell_type": "markdown",
      "source": [
        "![image.png](data:image/png;base64,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)"
      ],
      "metadata": {
        "id": "T9QQ1INvR9v7"
      }
    },
    {
      "cell_type": "markdown",
      "metadata": {
        "id": "Lc1CBmCkj26r"
      },
      "source": [
        "다른 종류의 그래프가 추가된다면 다시 파란색으로 시작하기에 색을 명시해주는 게 좋습니다."
      ]
    },
    {
      "cell_type": "markdown",
      "metadata": {
        "id": "954CDRVoj26s"
      },
      "source": [
        "### 3-2. 색상 지정하기\n",
        "\n",
        "색을 직접 명시할 수 있고, 일반적으로 `color` 파라미터를 통해 전달합니다.\n",
        "\n",
        "color를 명시하는 3가지 방법은 코드를 통해 살펴봅시다."
      ]
    },
    {
      "cell_type": "markdown",
      "source": [
        "색상표를 다 외울수는 없다. 추천하지 않는다."
      ],
      "metadata": {
        "id": "LDC3KOROdX_w"
      }
    },
    {
      "cell_type": "markdown",
      "source": [
        "rgb hex값을 검색해서 넣은것을 추천한다."
      ],
      "metadata": {
        "id": "IX0AHKEndclg"
      }
    },
    {
      "cell_type": "markdown",
      "source": [
        "Q ; 아래와 같은 그림이 되도록 색상을 지정하시오 ,   \n",
        "초록 , forestgren , 빨강 , r : 검정 : #000000"
      ],
      "metadata": {
        "id": "pQCtIfsHfDwI"
      }
    },
    {
      "cell_type": "markdown",
      "source": [
        "![image.png](data:image/png;base64,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)"
      ],
      "metadata": {
        "id": "-4QUVkV4fQ7w"
      }
    },
    {
      "cell_type": "code",
      "source": [
        ""
      ],
      "metadata": {
        "id": "oDNqpmugfXTR"
      },
      "execution_count": null,
      "outputs": []
    },
    {
      "cell_type": "markdown",
      "metadata": {
        "id": "mTeJpXwpj26s"
      },
      "source": [
        "> 색에 대한 다양한 조합은 직접하면 제일 좋겠지만 rgb hex값을 검색하는 방법을 추천!!\n",
        "\n",
        "> 더 자세한 내용은 차트의 요소 - 2. color에서 "
      ]
    },
    {
      "cell_type": "markdown",
      "metadata": {
        "id": "CJnkmLDGj26s"
      },
      "source": [
        "### 3-3. 텍스트 사용하기\n",
        "\n",
        "정보를 추가하기 위해 텍스트를 사용할 수도 있습니다.\n",
        "\n",
        "> 더 자세한 내용은 3.차트의 요소 > 1. Text에서 계속\n",
        "\n",
        "우선 label을 봅시다."
      ]
    },
    {
      "cell_type": "markdown",
      "source": [
        "Q . 아래와 같은 그림이 되도록 하시오  \n",
        "단 ax는 1,1,1 의 위치하도록 하시오"
      ],
      "metadata": {
        "id": "W1BLDRLZfuxk"
      }
    },
    {
      "cell_type": "markdown",
      "source": [
        "![image.png](data:image/png;base64,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)"
      ],
      "metadata": {
        "id": "p53Tzc4Qhhy8"
      }
    },
    {
      "cell_type": "markdown",
      "metadata": {
        "id": "7Brfq_Vcj26s"
      },
      "source": [
        "시각화에서 드러나지 않습니다. 범례(`legend`)를 추가해보겠습니다."
      ]
    },
    {
      "cell_type": "markdown",
      "source": [
        "Q . 다음 그림과 같이 그리시오"
      ],
      "metadata": {
        "id": "DsZjXIwshj6E"
      }
    },
    {
      "cell_type": "markdown",
      "source": [
        "![image.png]()![image.png](data:image/png;base64,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)"
      ],
      "metadata": {
        "id": "r-7szdPLhmJ6"
      }
    },
    {
      "cell_type": "markdown",
      "metadata": {
        "id": "zRJyBJpMj26t"
      },
      "source": [
        "범례를 추가하면 해당 그래프와 매칭되는 텍스트 정보가 추가됩니다.\n",
        "\n",
        "여기서 제목(`title`)을 추가해보겠습니다."
      ]
    },
    {
      "cell_type": "markdown",
      "source": [
        "Q : 아래 그림과 같이 그리시오"
      ],
      "metadata": {
        "id": "_uuEvM5eiVK2"
      }
    },
    {
      "cell_type": "markdown",
      "source": [
        "![image.png](data:image/png;base64,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)"
      ],
      "metadata": {
        "id": "k0k_89RbiXNZ"
      }
    },
    {
      "cell_type": "markdown",
      "source": [
        "방금 위에서 한 예제는 ax에 subtitle이라는 메소드를 사용했었는데, \n",
        "ax 1개 뿐만이 아니라 , 여러개의 ax에도 title을 달 수 있습니다.   \n",
        "뿐만 아니라 , 전체 figure가 큰 틀인데 이 큰틀에도  제목을 달 수 있습니다.   "
      ],
      "metadata": {
        "id": "1b1vM39vi9lB"
      }
    },
    {
      "cell_type": "markdown",
      "source": [
        "Q . 아래 그림과 같이그리시오"
      ],
      "metadata": {
        "id": "fgggCO72jcjX"
      }
    },
    {
      "cell_type": "markdown",
      "source": [
        "![image.png](data:image/png;base64,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)"
      ],
      "metadata": {
        "id": "KTv-Klzijdxz"
      }
    },
    {
      "cell_type": "markdown",
      "metadata": {
        "id": "w1U6tcQPj26t"
      },
      "source": [
        "ax에서 특정 데이터를 변경하는 경우 `.set_{}()` 형태의 메서드가 많습니다. 알아둡시다 :)\n",
        "\n",
        "`set`으로 세팅하는 정보들은 반대로 해당 정보를 받아오는 경우에는 `.get_{}()` 형태의 메서드를 사용합니다."
      ]
    },
    {
      "cell_type": "code",
      "metadata": {
        "id": "kHE2XIeMj26t"
      },
      "source": [
        "fig = plt.figure()\n",
        "ax = fig.add_subplot(111) \n",
        "ax.plot([1, 1, 1], label='1') \n",
        "ax.plot([2, 2, 2], label='2') \n",
        "ax.plot([3, 3, 3], label='3')\n",
        "ax.set_title('Basic Plot')\n",
        "ax.legend()\n",
        "\n",
        "print(ax.get_title())\n",
        "plt.show()"
      ],
      "execution_count": null,
      "outputs": []
    },
    {
      "cell_type": "markdown",
      "metadata": {
        "id": "klCDPmM4j26t"
      },
      "source": [
        "축은 `ticks`와 `ticklabels`로 구분됩니다.\n",
        "\n",
        "`ticks`은 축에 적히는 수 위치를 지정합니다."
      ]
    },
    {
      "cell_type": "code",
      "metadata": {
        "id": "0VEQo3b9j26t"
      },
      "source": [
        "fig = plt.figure()\n",
        "ax = fig.add_subplot(111) \n",
        "ax.plot([1, 1, 1], label='1') \n",
        "ax.plot([2, 2, 2], label='2') \n",
        "ax.plot([3, 3, 3], label='3')\n",
        "\n",
        "\n",
        "ax.set_title('Basic Plot')\n",
        "ax.set_xticks([0, 1, 2])\n",
        "\n",
        "\n",
        "ax.legend()\n",
        "\n",
        "plt.show()"
      ],
      "execution_count": null,
      "outputs": []
    },
    {
      "cell_type": "markdown",
      "metadata": {
        "id": "Xae6eU-fj26u"
      },
      "source": [
        "`ticklabels`은 축에 적히는 텍스트를 수정합니다."
      ]
    },
    {
      "cell_type": "code",
      "metadata": {
        "id": "Zo-l5puwj26u"
      },
      "source": [
        "fig = plt.figure()\n",
        "ax = fig.add_subplot(111) \n",
        "ax.plot([1, 1, 1], label='1') \n",
        "ax.plot([2, 2, 2], label='2') \n",
        "ax.plot([3, 3, 3], label='3')\n",
        "\n",
        "\n",
        "ax.set_title('Basic Plot')\n",
        "ax.set_xticks([0, 1, 2])\n",
        "ax.set_xticklabels(['zero', 'one', 'two'])\n",
        "ax.legend()\n",
        "\n",
        "plt.show()"
      ],
      "execution_count": null,
      "outputs": []
    },
    {
      "cell_type": "markdown",
      "metadata": {
        "id": "wcRK0Bszj26u"
      },
      "source": [
        "마지막으로는 일반적인 텍스트를 추가하는 2가지가 있습니다."
      ]
    },
    {
      "cell_type": "code",
      "metadata": {
        "id": "545d5Qsxj26u"
      },
      "source": [
        "fig = plt.figure()\n",
        "ax = fig.add_subplot(111) \n",
        "ax.plot([1, 1, 1], label='1') \n",
        "ax.plot([2, 2, 2], label='2') \n",
        "ax.plot([3, 3, 3], label='3')\n",
        "\n",
        "\n",
        "ax.set_title('Basic Plot')\n",
        "ax.set_xticks([0, 1, 2])\n",
        "ax.set_xticklabels(['zero', 'one', 'two'])\n",
        "\n",
        "ax.text(x=1, y=2, s='This is Text')\n",
        "\n",
        "ax.legend()\n",
        "\n",
        "plt.show()"
      ],
      "execution_count": null,
      "outputs": []
    },
    {
      "cell_type": "code",
      "metadata": {
        "id": "jCfnYtLSj26u"
      },
      "source": [
        "fig = plt.figure()\n",
        "ax = fig.add_subplot(111) \n",
        "ax.plot([1, 1, 1], label='1') \n",
        "ax.plot([2, 2, 2], label='2') \n",
        "ax.plot([3, 3, 3], label='3')\n",
        "\n",
        "\n",
        "ax.set_title('Basic Plot')\n",
        "ax.set_xticks([0, 1, 2])\n",
        "ax.set_xticklabels(['zero', 'one', 'two'])\n",
        "\n",
        "ax.annotate(text='This is Annotate', xy=(1, 2))\n",
        "\n",
        "ax.legend()\n",
        "\n",
        "plt.show()"
      ],
      "execution_count": null,
      "outputs": []
    },
    {
      "cell_type": "markdown",
      "metadata": {
        "id": "pUJi7cHkj26u"
      },
      "source": [
        "annotate는 화살표 등을 추가할 수 있다는 장점이 있습니다. (세세한 세팅은 추후에 알아보겠습니다.)"
      ]
    },
    {
      "cell_type": "code",
      "metadata": {
        "id": "_zyid-jlj26v"
      },
      "source": [
        "fig = plt.figure()\n",
        "ax = fig.add_subplot(111) \n",
        "ax.plot([1, 1, 1], label='1') \n",
        "ax.plot([2, 2, 2], label='2') \n",
        "ax.plot([3, 3, 3], label='3')\n",
        "\n",
        "\n",
        "ax.set_title('Basic Plot')\n",
        "ax.set_xticks([0, 1, 2])\n",
        "ax.set_xticklabels(['zero', 'one', 'two'])\n",
        "\n",
        "ax.annotate(text='This is Annotate', xy=(1, 2),\n",
        "           xytext=(1.2, 2.2), \n",
        "            arrowprops=dict(facecolor='black'),\n",
        "           )\n",
        "\n",
        "ax.legend()\n",
        "\n",
        "plt.show()"
      ],
      "execution_count": null,
      "outputs": []
    },
    {
      "cell_type": "code",
      "metadata": {
        "id": "I6ICfD3jj26v"
      },
      "source": [
        ""
      ],
      "execution_count": null,
      "outputs": []
    }
  ]
}